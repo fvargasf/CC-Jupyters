{
 "cells": [
  {
   "cell_type": "code",
   "execution_count": 1,
   "metadata": {},
   "outputs": [],
   "source": [
    "import numpy as np"
   ]
  },
  {
   "cell_type": "markdown",
   "metadata": {},
   "source": [
    "## Siguiendo los pasos explicados en el apunte de SVD para obtener dicha descomposicion lo hacemos de la siguiente forma:"
   ]
  },
  {
   "cell_type": "markdown",
   "metadata": {},
   "source": [
    "### Obtenemos $A^*A$"
   ]
  },
  {
   "cell_type": "code",
   "execution_count": 2,
   "metadata": {},
   "outputs": [
    {
     "data": {
      "text/plain": [
       "(array([[11,  7,  7],\n",
       "        [ 7,  9,  9],\n",
       "        [ 7,  9,  9]]),\n",
       " (3, 3))"
      ]
     },
     "execution_count": 2,
     "metadata": {},
     "output_type": "execute_result"
    }
   ],
   "source": [
    "a = np.array([\n",
    "    [3,1, 1],\n",
    "    [1,2, 2],\n",
    "    [1,2, 2]\n",
    "])\n",
    "\n",
    "m = 1\n",
    "\n",
    "at = a.T\n",
    "ata = at@a\n",
    "ata, a.shape"
   ]
  },
  {
   "cell_type": "markdown",
   "metadata": {},
   "source": [
    "### Obtenemos $\\hat{\\Sigma}$"
   ]
  },
  {
   "cell_type": "code",
   "execution_count": 14,
   "metadata": {},
   "outputs": [
    {
     "data": {
      "text/plain": [
       "array([[5.00000000e+00, 0.00000000e+00, 0.00000000e+00],\n",
       "       [0.00000000e+00, 2.00000000e+00, 0.00000000e+00],\n",
       "       [0.00000000e+00, 0.00000000e+00, 1.61944987e-16]])"
      ]
     },
     "execution_count": 14,
     "metadata": {},
     "output_type": "execute_result"
    }
   ],
   "source": [
    "eigenvalues, eigenvector = np.linalg.eig(ata)\n",
    "s = np.zeros( (eigenvalues.shape[0],eigenvalues.shape[0]))\n",
    "for i in range(s.shape[0]):\n",
    "    s[i][i] = np.sqrt(abs(eigenvalues[i]))\n",
    "s"
   ]
  },
  {
   "cell_type": "markdown",
   "metadata": {},
   "source": [
    "### Obtenemos $V^T$"
   ]
  },
  {
   "cell_type": "code",
   "execution_count": 4,
   "metadata": {},
   "outputs": [
    {
     "data": {
      "text/plain": [
       "array([[ 5.77350269e-01, -4.08248290e-01,  7.07106781e-01],\n",
       "       [ 5.77350269e-01, -4.08248290e-01, -7.07106781e-01],\n",
       "       [ 5.77350269e-01,  8.16496581e-01,  2.51214793e-17]])"
      ]
     },
     "execution_count": 4,
     "metadata": {},
     "output_type": "execute_result"
    }
   ],
   "source": [
    "V = eigenvector[::-1]\n",
    "VT = V.T\n",
    "V"
   ]
  },
  {
   "cell_type": "markdown",
   "metadata": {},
   "source": [
    "### Obtenemos $\\hat{U}$"
   ]
  },
  {
   "cell_type": "code",
   "execution_count": 5,
   "metadata": {},
   "outputs": [
    {
     "data": {
      "text/plain": [
       "array([[ 4.06181860e-01,  3.08347868e-01,  1.57371181e+16],\n",
       "       [ 2.35013450e-01, -8.26679937e-01,  1.36487302e+16],\n",
       "       [ 2.35013450e-01, -8.26679937e-01,  1.36487302e+16]])"
      ]
     },
     "execution_count": 5,
     "metadata": {},
     "output_type": "execute_result"
    }
   ],
   "source": [
    "s_i = np.linalg.inv(s)\n",
    "U = a@VT@s_i\n",
    "U"
   ]
  },
  {
   "cell_type": "markdown",
   "metadata": {},
   "source": [
    "### Recomponemos $A$ para verificar que el desarrollo fue correcto"
   ]
  },
  {
   "cell_type": "code",
   "execution_count": 6,
   "metadata": {},
   "outputs": [
    {
     "name": "stdout",
     "output_type": "stream",
     "text": [
      "a:\n",
      " [[3 1 1]\n",
      " [1 2 2]\n",
      " [1 2 2]] \n",
      "A:\n",
      " [[3. 1. 1.]\n",
      " [1. 2. 2.]\n",
      " [1. 2. 2.]]\n"
     ]
    }
   ],
   "source": [
    "A = U@s@V\n",
    "print('a:\\n', a, '\\nA:\\n', A)"
   ]
  },
  {
   "cell_type": "markdown",
   "metadata": {},
   "source": [
    "### Creamos la función de SVD"
   ]
  },
  {
   "cell_type": "code",
   "execution_count": 7,
   "metadata": {},
   "outputs": [],
   "source": [
    "def svd(G):\n",
    "    G_t = G.T\n",
    "    GtG = G_t@G\n",
    "    \n",
    "    eigenvalues, eigenvector = np.linalg.eig(GtG)\n",
    "    \n",
    "    s_i = np.zeros((eigenvalues.shape[0],eigenvalues.shape[0]))\n",
    "    s = np.zeros( (eigenvalues.shape[0],eigenvalues.shape[0]))\n",
    "    for i in range(eigenvalues.shape[0]):\n",
    "        s_i[i][i] = 1/np.sqrt(abs(eigenvalues[i]))\n",
    "        s[i] = np.sqrt(abs(eigenvalues[i]))\n",
    "        \n",
    "    V = eigenvector[::-1]\n",
    "    Vt = V.T\n",
    "\n",
    "    U = G@V@s_i\n",
    "    \n",
    "    return U, s, Vt"
   ]
  },
  {
   "cell_type": "markdown",
   "metadata": {},
   "source": [
    "## PCA"
   ]
  },
  {
   "cell_type": "markdown",
   "metadata": {},
   "source": [
    "## Obtenemos $\\mu$"
   ]
  },
  {
   "cell_type": "code",
   "execution_count": 8,
   "metadata": {},
   "outputs": [
    {
     "data": {
      "text/plain": [
       "array([1.66666667, 1.66666667, 1.66666667])"
      ]
     },
     "execution_count": 8,
     "metadata": {},
     "output_type": "execute_result"
    }
   ],
   "source": [
    "mu = np.zeros(a.shape[1])\n",
    "for i in range(a.shape[1]):\n",
    "    mu[i] = at[i].mean()\n",
    "mu = np.array(mu)\n",
    "mu"
   ]
  },
  {
   "cell_type": "markdown",
   "metadata": {},
   "source": [
    "## Calculamos $Z$"
   ]
  },
  {
   "cell_type": "code",
   "execution_count": 9,
   "metadata": {},
   "outputs": [
    {
     "data": {
      "text/plain": [
       "array([[ 1.33333333, -0.66666667, -0.66666667],\n",
       "       [-0.66666667,  0.33333333,  0.33333333],\n",
       "       [-0.66666667,  0.33333333,  0.33333333]])"
      ]
     },
     "execution_count": 9,
     "metadata": {},
     "output_type": "execute_result"
    }
   ],
   "source": [
    "Z = a-mu\n",
    "Z"
   ]
  },
  {
   "cell_type": "markdown",
   "metadata": {},
   "source": [
    "### Calculamos SVD a $Z$"
   ]
  },
  {
   "cell_type": "code",
   "execution_count": 10,
   "metadata": {},
   "outputs": [
    {
     "data": {
      "text/plain": [
       "(array([[-4.08248290e-01, -8.57161192e+11,  8.57161192e+11],\n",
       "        [ 2.04124145e-01,  4.28580596e+11, -4.28580596e+11],\n",
       "        [ 2.04124145e-01,  4.28580596e+11, -4.28580596e+11]]),\n",
       " array([[2.00000000e+00, 2.00000000e+00, 2.00000000e+00],\n",
       "        [1.64988053e-12, 1.64988053e-12, 1.64988053e-12],\n",
       "        [1.64988053e-12, 1.64988053e-12, 1.64988053e-12]]),\n",
       " array([[ 5.77350269e-01,  5.77350269e-01,  5.77350269e-01],\n",
       "        [-4.08248290e-01, -4.08248290e-01,  8.16496581e-01],\n",
       "        [ 7.07106781e-01, -7.07106781e-01,  2.51214793e-17]]))"
      ]
     },
     "execution_count": 10,
     "metadata": {},
     "output_type": "execute_result"
    }
   ],
   "source": [
    "U, s, Vt = svd(Z)\n",
    "U, s, VT"
   ]
  },
  {
   "cell_type": "markdown",
   "metadata": {},
   "source": [
    "## Obtenemos $PC$"
   ]
  },
  {
   "cell_type": "code",
   "execution_count": 11,
   "metadata": {},
   "outputs": [
    {
     "data": {
      "text/plain": [
       "array([[-4.08248290e-01, -7.07106771e-01,  7.07106792e-01],\n",
       "       [-4.08248290e-01,  7.07106792e-01, -7.07106771e-01],\n",
       "       [ 8.16496581e-01,  1.04571858e-08,  1.04571859e-08]])"
      ]
     },
     "execution_count": 11,
     "metadata": {},
     "output_type": "execute_result"
    }
   ],
   "source": [
    "PC = Vt.T\n",
    "PC"
   ]
  },
  {
   "cell_type": "markdown",
   "metadata": {},
   "source": [
    "### Obtenemos $Y$"
   ]
  },
  {
   "cell_type": "code",
   "execution_count": 12,
   "metadata": {},
   "outputs": [
    {
     "data": {
      "text/plain": [
       "array([[-0.81649658, -0.81649658, -0.81649658],\n",
       "       [ 0.40824829,  0.40824829,  0.40824829],\n",
       "       [ 0.40824829,  0.40824829,  0.40824829]])"
      ]
     },
     "execution_count": 12,
     "metadata": {},
     "output_type": "execute_result"
    }
   ],
   "source": [
    "Y = U@s\n",
    "Y"
   ]
  },
  {
   "cell_type": "markdown",
   "metadata": {},
   "source": [
    "### Obtenemos la *compresión* de $A$"
   ]
  },
  {
   "cell_type": "code",
   "execution_count": 13,
   "metadata": {},
   "outputs": [
    {
     "data": {
      "text/plain": [
       "array([[1.99999998, 1.99999998, 0.99999998],\n",
       "       [1.50000001, 1.50000001, 2.00000001],\n",
       "       [1.50000001, 1.50000001, 2.00000001]])"
      ]
     },
     "execution_count": 13,
     "metadata": {},
     "output_type": "execute_result"
    }
   ],
   "source": [
    "A = Y@PC.T + mu\n",
    "A"
   ]
  }
 ],
 "metadata": {
  "kernelspec": {
   "display_name": "Python 3",
   "language": "python",
   "name": "python3"
  },
  "language_info": {
   "codemirror_mode": {
    "name": "ipython",
    "version": 3
   },
   "file_extension": ".py",
   "mimetype": "text/x-python",
   "name": "python",
   "nbconvert_exporter": "python",
   "pygments_lexer": "ipython3",
   "version": "3.7.6"
  }
 },
 "nbformat": 4,
 "nbformat_minor": 4
}
