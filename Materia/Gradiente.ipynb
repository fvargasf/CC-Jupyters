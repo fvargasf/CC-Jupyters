{
 "cells": [
  {
   "cell_type": "markdown",
   "metadata": {},
   "source": [
    "## Gradiente descendente"
   ]
  },
  {
   "cell_type": "markdown",
   "metadata": {},
   "source": [
    "Buscamos minimazar una función cuadrática convexa _$f$_ al movernos en la dirección de máximo decrecimiento, la cual viene dada por $\\nabla f$.\n",
    "\n",
    "Tras encontrar un mínimo, debemos repetir este proceso."
   ]
  },
  {
   "cell_type": "code",
   "execution_count": 5,
   "metadata": {},
   "outputs": [],
   "source": [
    "import numpy as np"
   ]
  },
  {
   "cell_type": "code",
   "execution_count": null,
   "metadata": {},
   "outputs": [],
   "source": [
    "def grad_dec(A, b, tol=1e-10):\n",
    "    xs = [np.zeros(b.shape[0])]\n",
    "    r_ks = []\n",
    "    a_ks = []\n",
    "    i = 0\n",
    "    while i>=0:\n",
    "        r_k = b-A@xs[i]\n",
    "        a_k = (r_k.T@r_k)/(r_k.T@A@r_k)\n",
    "        a_ks.append(a_k)\n",
    "        r_ks.append(r_k)        \n",
    "        xs.append(np.array(xs[i]+a_k*r_k))\n",
    "        if np.linalg.norm(r_ks[i]) < tol:\n",
    "            break\n",
    "        i += 1\n",
    "    return np.array(xs), np.array(a_ks), np.array(r_ks)"
   ]
  },
  {
   "cell_type": "markdown",
   "metadata": {},
   "source": [
    "Este método converge a la solución de $Ax=b$ para toda matriz $A$ que sea simétrica y definida positiva."
   ]
  },
  {
   "cell_type": "markdown",
   "metadata": {},
   "source": [
    "### Gradiente Conjugado"
   ]
  },
  {
   "cell_type": "markdown",
   "metadata": {},
   "source": [
    "Método utilizado para resolver sistemas de ecuaciones lineales($Ax=b$), donde $A$ es una matriz simétrica definida positiva.\n",
    "\n",
    "Buscamos construir la solución $x$ como la combinación lineal de vectores $\\mathbb{R}^n$ linealmente independientes.\n",
    "\n",
    "$$\n",
    "    x = x_0 + \\sum_{i=0}^{n-1}\\alpha_i d_i\n",
    "$$"
   ]
  },
  {
   "cell_type": "code",
   "execution_count": 32,
   "metadata": {
    "jupyter": {
     "source_hidden": true
    }
   },
   "outputs": [
    {
     "data": {
      "text/plain": [
       "(array([[1.56694505, 0.31574789],\n",
       "        [0.31574789, 1.35540956]]),\n",
       " array([0.71946897, 0.42310646]))"
      ]
     },
     "execution_count": 32,
     "metadata": {},
     "output_type": "execute_result"
    }
   ],
   "source": [
    "np.random.seed(123)\n",
    "n = 2\n",
    "A = np.random.rand(n, n)\n",
    "A = A@A.T + np.eye(n)\n",
    "b = np.random.rand(n)\n",
    "A, b"
   ]
  },
  {
   "cell_type": "code",
   "execution_count": 81,
   "metadata": {},
   "outputs": [
    {
     "data": {
      "text/plain": [
       "array([[0.        , 0.        ],\n",
       "       [0.40226904, 0.23656702],\n",
       "       [0.41500462, 0.21491087],\n",
       "       [0.41574371, 0.21534552],\n",
       "       [0.41576711, 0.21530573],\n",
       "       [0.41576847, 0.21530653],\n",
       "       [0.41576851, 0.21530646],\n",
       "       [0.41576851, 0.21530646],\n",
       "       [0.41576851, 0.21530646],\n",
       "       [0.41576851, 0.21530646]])"
      ]
     },
     "execution_count": 81,
     "metadata": {},
     "output_type": "execute_result"
    }
   ],
   "source": [
    "x, a, r = grad_dec(A, b)\n",
    "x"
   ]
  },
  {
   "cell_type": "code",
   "execution_count": 52,
   "metadata": {},
   "outputs": [
    {
     "data": {
      "text/plain": [
       "array([[0.        , 0.        ],\n",
       "       [0.40226904, 0.23656702],\n",
       "       [0.41500462, 0.21491087],\n",
       "       [0.41574371, 0.21534552],\n",
       "       [0.41576711, 0.21530573],\n",
       "       [0.41576847, 0.21530653],\n",
       "       [0.41576851, 0.21530646],\n",
       "       [0.41576851, 0.21530646],\n",
       "       [0.41576851, 0.21530646]])"
      ]
     },
     "execution_count": 52,
     "metadata": {},
     "output_type": "execute_result"
    }
   ],
   "source": [
    "x1, r1 = gradientDescent(A, b)\n",
    "x1"
   ]
  },
  {
   "cell_type": "code",
   "execution_count": 54,
   "metadata": {},
   "outputs": [
    {
     "data": {
      "text/plain": [
       "array([0.41576851, 0.21530646])"
      ]
     },
     "execution_count": 54,
     "metadata": {},
     "output_type": "execute_result"
    }
   ],
   "source": [
    "x_real = np.linalg.solve(A, b)\n",
    "x_real"
   ]
  },
  {
   "cell_type": "code",
   "execution_count": 83,
   "metadata": {},
   "outputs": [
    {
     "data": {
      "text/plain": [
       "array([[ True,  True],\n",
       "       [ True,  True],\n",
       "       [ True,  True],\n",
       "       [ True,  True],\n",
       "       [ True,  True],\n",
       "       [ True,  True],\n",
       "       [ True,  True],\n",
       "       [ True,  True],\n",
       "       [ True,  True]])"
      ]
     },
     "execution_count": 83,
     "metadata": {},
     "output_type": "execute_result"
    }
   ],
   "source": [
    "np.equal(x[:9], x1)"
   ]
  },
  {
   "cell_type": "code",
   "execution_count": null,
   "metadata": {},
   "outputs": [],
   "source": []
  }
 ],
 "metadata": {
  "kernelspec": {
   "display_name": "Python 3",
   "language": "python",
   "name": "python3"
  },
  "language_info": {
   "codemirror_mode": {
    "name": "ipython",
    "version": 3
   },
   "file_extension": ".py",
   "mimetype": "text/x-python",
   "name": "python",
   "nbconvert_exporter": "python",
   "pygments_lexer": "ipython3",
   "version": "3.7.6"
  }
 },
 "nbformat": 4,
 "nbformat_minor": 4
}
