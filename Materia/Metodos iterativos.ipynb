{
 "cells": [
  {
   "cell_type": "markdown",
   "metadata": {},
   "source": [
    "# Métodos iterativos"
   ]
  },
  {
   "cell_type": "markdown",
   "metadata": {},
   "source": [
    "Nos encontramos ante la problemática de querer obtener una respuesta (aunque sea aproximada) de un sistema de ecuaciones lineales. Los métodos tradicionales nos ofrecen respuestas precisas, pero a un costo computacional bastante elevado($O(n^3)$), es por esto, que aproximaciones pueden ser bastantes útiles, y para esto es que nos dispondremos a realizar iteraciones de punto fijo, de la siguiente forma:\n",
    "\n",
    "$$\n",
    "    x_0 = dato\\_inicial\\\\\n",
    "    x_{n+1} = b - Ax_{n}\n",
    "$$\n",
    "\n",
    "Utilizaremos 3 métodos:\n",
    "\n",
    "* Jacobi\n",
    "* Gauss-Seidel\n",
    "* Sor($\\omega$)\n",
    "\n",
    "Estos 3 métodos utilizan una descomposición de $A$, la cual es de la siguiente forma:\n",
    "\n",
    "$$\n",
    "    A = L + D + U\n",
    "$$\n",
    "\n",
    "Se explicara con un ejemplo para que se entienda:\n",
    "\n",
    "\n",
    "$$\n",
    "    A = \\begin{bmatrix}\n",
    "            1 & 2 & 3\\\\\n",
    "            4 & 5 & 6\\\\\n",
    "            7 & 8 & 9\\\\\n",
    "        \\end{bmatrix}\n",
    "$$\n",
    "\n",
    "Entonces $L$, $D$ y $U$ serán respectivamente:\n",
    "\n",
    "$$\n",
    "    L = \\begin{bmatrix}\n",
    "            0 & 0 & 0\\\\\n",
    "            4 & 0 & 0\\\\\n",
    "            7 & 8 & 0\\\\\n",
    "        \\end{bmatrix}\n",
    "   ; D = \\begin{bmatrix}\n",
    "            1 & 0 & 0\\\\\n",
    "            0 & 5 & 0\\\\\n",
    "            0 & 0 & 9\\\\\n",
    "        \\end{bmatrix}\n",
    "   ; U = \\begin{bmatrix}\n",
    "            0 & 2 & 3\\\\\n",
    "            0 & 0 & 6\\\\\n",
    "            0 & 0 & 0\\\\\n",
    "        \\end{bmatrix}\n",
    "$$\n",
    "\n",
    "Como veremos a continuación, Jacobi, Gauss-Seidel y Sor($\\omega$) se diferencian en la forma en que realizan el despeje de la función para iterar utilizando la descomposición recién mencionada."
   ]
  },
  {
   "cell_type": "code",
   "execution_count": 1,
   "metadata": {},
   "outputs": [],
   "source": [
    "import numpy as np\n",
    "\n",
    "def getLDU(A):\n",
    "    L = np.zeros(A.shape)\n",
    "    D = np.zeros(A.shape)\n",
    "    U = np.zeros(A.shape)\n",
    "    for i in range(A.shape[0]):\n",
    "        for j in range(A.shape[1]):\n",
    "            if i > j:\n",
    "                L[i][j] = A[i][j]\n",
    "            elif i < j:\n",
    "                U[i][j] = A[i][j]\n",
    "            else:\n",
    "                D[i][j] = A[i][j]\n",
    "    return L, D, U"
   ]
  },
  {
   "cell_type": "markdown",
   "metadata": {},
   "source": [
    "## JACOBI"
   ]
  },
  {
   "cell_type": "markdown",
   "metadata": {},
   "source": [
    "Queremos resolver $Ax-b=0$, lo cual puede ser escrito como $F(x) = Ax - b$,\n",
    "como nos interesa encontrar solución ($F(r)=0$), entonces podemos hacer el siguiente despeje:\n",
    "\n",
    "\\begin{align}\n",
    "    Ax - b &= 0\\\\\n",
    "    Ax &= b\\\\\n",
    "    (L+D+U)x &= b\\\\\n",
    "    (L+U)x + Dx &= b\\\\\n",
    "    Dx &= b - (L+U)x\\\\\n",
    "    x &= D^{-1}(b - (L+U)x)\n",
    "\\end{align}\n",
    "\n",
    "Luego renombrando a x:\n",
    "\n",
    "$$\n",
    "    x_{n+1} = D^{-1}(b - (L+U)x_n)\n",
    "$$\n",
    "\n",
    "También se puede escribir como:\n",
    "\n",
    "$$\n",
    "    x_{n+1} = x_n + D^{-1}(b - Ax_n)\n",
    "$$\n",
    "\n",
    "Definiendo $r_n = b - Ax_n$ obtenemos:\n",
    "\n",
    "$$\n",
    "    x_{n+1} = x_n + D^{-1}r_n\n",
    "$$\n",
    "\n",
    "Como podemos apreciar, nos encontramos frente a una iteración de punto fijo vectorial."
   ]
  },
  {
   "cell_type": "code",
   "execution_count": 2,
   "metadata": {},
   "outputs": [],
   "source": [
    "def jacobi(A,b, n, x_0=None):\n",
    "    L, D, U = getLDU(A)\n",
    "    xs = np.zeros((n,b.shape[0]))\n",
    "    D_i = np.linalg.inv(D)\n",
    "    LU = L+U\n",
    "    if x_0 is not None:\n",
    "        xs[0] = x_0\n",
    "    f = lambda x, b, D_i, A: x + D_i@(b-A@x)\n",
    "    for i in range(1,n):\n",
    "        xs[i] = f(xs[i-1], b, D_i, A)\n",
    "    return xs"
   ]
  },
  {
   "cell_type": "code",
   "execution_count": 3,
   "metadata": {},
   "outputs": [
    {
     "name": "stdout",
     "output_type": "stream",
     "text": [
      "Solucion real: [3. 2. 1.] \n",
      "Solucion del metodo: [3. 2. 1.]\n"
     ]
    },
    {
     "data": {
      "text/plain": [
       "5.0"
      ]
     },
     "execution_count": 3,
     "metadata": {},
     "output_type": "execute_result"
    }
   ],
   "source": [
    "A = np.array([\n",
    "    [4 , 1, 3],\n",
    "    [1 , 5, 1],\n",
    "    [2 ,-1, 8]\n",
    "])\n",
    "b = np.array([17,14,12])\n",
    "x_0 = np.array([0,1,2])\n",
    "n_iter = 30\n",
    "\n",
    "sol_jacobi = jacobi(A,b, n_iter, x_0)\n",
    "sol_real = np.linalg.solve(A, b)\n",
    "print(\"Solucion real:\", sol_real, \"\\nSolucion del metodo:\", sol_jacobi[n_iter-1])\n",
    "\n",
    "\n",
    "error = np.linalg.norm(sol_real-sol_jacobi, ord=np.inf)\n",
    "error"
   ]
  },
  {
   "cell_type": "markdown",
   "metadata": {},
   "source": [
    "# Gauss-Seidel"
   ]
  },
  {
   "cell_type": "markdown",
   "metadata": {},
   "source": [
    "Continuando la idea anterior, el método de Gaus-Seidel resuelve $(L+D+U)x = b$ de la siguiente manera:\n",
    "\n",
    "\\begin{align}\n",
    "    (L+D+U)x &= b\\\\\n",
    "    (L+D)x + Ux &= b\\\\\n",
    "    (L+D)x &= b-Ux\\\\\n",
    "    x &= (L+D)^{-1}(b-Ux)\\\\\n",
    "    x &= (L+D)^{-1}b - (L+D)^{-1}Ux\\\\\n",
    "    x_{n+1} &= (L+D)^{-1}b - (L+D)^{-1}Ux_n\n",
    "\\end{align}\n",
    "\n",
    "Nuevamente podemos escribir esta ecuación es usando el residuo del sistema($r_n=b-Ax$).\n",
    "\n",
    "\\begin{align}\n",
    "    x_{n+1} &= (L+D)^{-1}(b-Ux_n + (L+D)x_n - (L+D)x_n)\\\\\n",
    "    x_{n+1} &= (L+D)^{-1}(b-(L+D+U)x_n + (L+D)x_n)\\\\\n",
    "    x_{n+1} &= (L+D)^{-1}b-(L+D)^{-1}(L+D+U)x_n + (L+D)^{-1}(L+D)x_n\\\\\n",
    "    x_{n+1} &= (L+D)^{-1}b-(L+D)^{-1}Ax_n + x_n\\\\\n",
    "    x_{n+1} &= x_n + (L+D)^{-1}(b-Ax_n) \\\\\n",
    "    x_{n+1} &= x_n + (L+D)^{-1}r_n\\\\\n",
    "\\end{align}"
   ]
  },
  {
   "cell_type": "code",
   "execution_count": 4,
   "metadata": {},
   "outputs": [],
   "source": [
    "def gauss_seidel(A, b, n, x_0=None):\n",
    "    L, D, U = getLDU(A)\n",
    "    LD = L+D\n",
    "    LD_i = np.linalg.inv(LD)\n",
    "    xs = np.zeros((n,b.shape[0]))\n",
    "    f = lambda x, LD_i, A, b: x + LD_i@(b-A@x)\n",
    "    if x_0 is not None:\n",
    "        xs[0] = x_0\n",
    "    for i in range(1,n):\n",
    "        xs[i] = f(xs[i-1], LD_i, A, b)\n",
    "    return xs"
   ]
  },
  {
   "cell_type": "code",
   "execution_count": 5,
   "metadata": {},
   "outputs": [
    {
     "name": "stdout",
     "output_type": "stream",
     "text": [
      "Solucion real: [-2.307023    6.98788067 -1.54412679] \n",
      "Solucion del metodo: [-2.307023    6.98788067 -1.54412679]\n"
     ]
    },
    {
     "data": {
      "text/plain": [
       "12.839030453697951"
      ]
     },
     "execution_count": 5,
     "metadata": {},
     "output_type": "execute_result"
    }
   ],
   "source": [
    "A = np.array([\n",
    "    [12, 3,-5],\n",
    "    [ 1, 5, 3],\n",
    "    [ 1, 28, 76]\n",
    "])\n",
    "b = np.array([1,28,76])\n",
    "x_0 = np.array([1,0,1])\n",
    "n_iter = 20\n",
    "\n",
    "sol_gs = gauss_seidel(A, b, n_iter, x_0)\n",
    "sol_real = np.linalg.solve(A, b)\n",
    "print(\"Solucion real:\", sol_real, \"\\nSolucion del metodo:\", sol_gs[n_iter-1])\n",
    "\n",
    "error = np.linalg.norm(sol_real-sol_gs, ord=np.inf)\n",
    "error"
   ]
  },
  {
   "cell_type": "markdown",
   "metadata": {},
   "source": [
    "# Succesive Over-Relaxation (SOR($\\omega$))"
   ]
  },
  {
   "cell_type": "markdown",
   "metadata": {},
   "source": [
    "Nuevamente resolvemos $(L+D+U)x = b$, pero en este caso primero definiremos un parametro de relajación $\\omega \\in \\mathbb{R}$. Si $\\omega > 1$, entonces se refiere a _sobre-relajación_.\n",
    "Luego para resolver el problema base, lo multiplicaremos por $\\omega$ despejaremos de la siguiente manera:\n",
    "\n",
    "\\begin{align}\n",
    "    \\omega(L+D+U)x &= \\omega b\\\\\n",
    "    \\omega(L+D+U)x &= \\omega b & /+ Dx\\\\\n",
    "    \\omega Lx + \\omega Dx + \\omega Ux + Dx &= \\omega b +Dx\\\\\n",
    "    \\omega Lx+ Dx &= \\omega b + Dx - \\omega Dx - \\omega Ux \\\\\n",
    "    (\\omega L + D)x &= \\omega b + (1-\\omega)Dx - \\omega Ux \\\\\n",
    "    (\\omega L + D)x &= \\omega b + [(1-\\omega)D - \\omega U]x \\\\\n",
    "    x &= (\\omega L + D)^{-1}(\\omega b + [(1-\\omega)D - \\omega U]x)\\\\\n",
    "    x_{n+1} &= (\\omega L + D)^{-1}\\omega b + (\\omega L + D)^{-1}[(1-\\omega)D - \\omega U]x_n\\\\\n",
    "\\end{align}\n",
    "\n",
    "La versión utilizando el residuo queda de la forma:\n",
    "\n",
    "\\begin{align}\n",
    "    x_{n+1} &= x_n + (L + \\frac{D}{\\omega})^{-1} (b-Ax_n)\\\\\n",
    "    x_{n+1} &= x_n + (L + \\frac{D}{\\omega})^{-1} r_n\\\\\n",
    "\\end{align}\n",
    "\n",
    "La demostración es trivial y se deja al lector.\n",
    "\n",
    "Es importante notar que si $\\omega = 1$, entonces estamos utilizando el método de Gauss-Seidel."
   ]
  },
  {
   "cell_type": "code",
   "execution_count": 6,
   "metadata": {},
   "outputs": [],
   "source": [
    "def sor(A, b, n, w=1, x_0=None):\n",
    "    L, D, U = getLDU(A)\n",
    "    LD = L+(D/w)\n",
    "    LD_i = np.linalg.inv(LD)\n",
    "    xs = np.zeros((n,b.shape[0]))\n",
    "    f = lambda x, LD_i, A, b: x + LD_i@(b-A@x)\n",
    "    if x_0 is not None:\n",
    "        xs[0] = x_0\n",
    "    for i in range(1,n):\n",
    "        xs[i] = f(xs[i-1], LD_i, A, b)\n",
    "    return xs"
   ]
  },
  {
   "cell_type": "code",
   "execution_count": 7,
   "metadata": {},
   "outputs": [
    {
     "name": "stdout",
     "output_type": "stream",
     "text": [
      "Solucion real: [ 3. -2.  2.  1.] \n",
      "Solucion del metodo: [ 2.99893472 -2.00002637  1.9997894   0.99982295]\n"
     ]
    },
    {
     "data": {
      "text/plain": [
       "8.0"
      ]
     },
     "execution_count": 7,
     "metadata": {},
     "output_type": "execute_result"
    }
   ],
   "source": [
    "A = np.array([\n",
    "    [4 , -1, -6, 0],\n",
    "    [-5, -4, 10, 8],\n",
    "    [0 , 9 , 4 ,-2],\n",
    "    [1 , 0 , -7, 5]\n",
    "])\n",
    "b = np.array([2, 21, -12, -6])\n",
    "x_0 = np.array([0, 0, 0, 0])\n",
    "n_iter = 20\n",
    "omega = 0.5\n",
    "\n",
    "sol_sor = sor(A, b, n_iter, omega, x_0)\n",
    "sol_real = np.linalg.solve(A, b)\n",
    "print(\"Solucion real:\", sol_real, \"\\nSolucion del metodo:\", sol_sor[n_iter-1])\n",
    "\n",
    "error = np.linalg.norm(sol_real-sol_sor, ord=np.inf)\n",
    "error"
   ]
  },
  {
   "cell_type": "markdown",
   "metadata": {},
   "source": [
    "Para la obtención de $\\omega$, se realizan algunas iteraciones y se analiza el error, escogiendo el que entregue el menor de estos."
   ]
  },
  {
   "cell_type": "markdown",
   "metadata": {},
   "source": [
    "### Para el ejemplo anterior:"
   ]
  },
  {
   "cell_type": "code",
   "execution_count": 8,
   "metadata": {},
   "outputs": [
    {
     "name": "stdout",
     "output_type": "stream",
     "text": [
      "i: 0 \t w: 0.100000 \t error: 2.961789\n",
      "i: 1 \t w: 0.200000 \t error: 2.864461\n",
      "i: 2 \t w: 0.300000 \t error: 2.409478\n",
      "i: 3 \t w: 0.400000 \t error: 1.598106\n",
      "i: 4 \t w: 0.500000 \t error: 0.929522\n",
      "i: 5 \t w: 0.600000 \t error: 2.339834\n",
      "i: 6 \t w: 0.700000 \t error: 17.841226\n",
      "i: 7 \t w: 0.800000 \t error: 76.351461\n",
      "i: 8 \t w: 0.900000 \t error: 250.130396\n",
      "i: 9 \t w: 1.000000 \t error: 670.938448\n",
      "i: 10 \t w: 1.100000 \t error: 1575.023885\n",
      "i: 11 \t w: 1.200000 \t error: 3356.448142\n",
      "i: 12 \t w: 1.300000 \t error: 6641.910027\n",
      "i: 13 \t w: 1.400000 \t error: 12390.701288\n",
      "i: 14 \t w: 1.500000 \t error: 22025.643044\n",
      "i: 15 \t w: 1.600000 \t error: 37601.747722\n",
      "i: 16 \t w: 1.700000 \t error: 62020.326510\n",
      "i: 17 \t w: 1.800000 \t error: 99297.321057\n",
      "i: 18 \t w: 1.900000 \t error: 154895.783298\n",
      "i: 19 \t w: 2.000000 \t error: 236133.662000\n"
     ]
    },
    {
     "data": {
      "text/plain": [
       "0.5"
      ]
     },
     "execution_count": 8,
     "metadata": {},
     "output_type": "execute_result"
    }
   ],
   "source": [
    "def get_w(n_iter, tr, tl, pr=False):\n",
    "    w_s = np.linspace(tr, tl, n_iter)\n",
    "    error_w = np.zeros(n_iter)\n",
    "    sol_real = np.linalg.solve(A, b)\n",
    "    min_error = np.inf\n",
    "    for i in range(n_iter):\n",
    "        sol = sor(A, b, 4, w_s[i])\n",
    "        error_w[i] = np.linalg.norm(sol_real-sol[-1], ord=np.inf)\n",
    "        if pr:\n",
    "            print(\"i: %d \\t w: %f \\t error: %f\" % (i, w_s[i], error_w[i]))\n",
    "    w = w_s[list(error_w).index(np.amin(error_w))]\n",
    "    return w\n",
    "n_iter = 20\n",
    "tr = 0.1\n",
    "tl = 2\n",
    "get_w(n_iter, tr, tl, True)"
   ]
  },
  {
   "cell_type": "markdown",
   "metadata": {},
   "source": [
    "Resolveremos los sistemas de ejemplo usados para Jacobi y Gauss-Seidel utilizando Sor($\\omega$):"
   ]
  },
  {
   "cell_type": "code",
   "execution_count": 9,
   "metadata": {},
   "outputs": [
    {
     "data": {
      "text/plain": [
       "(array([3.00064045, 1.99992644, 0.99969568]), array([3., 2., 1.]))"
      ]
     },
     "execution_count": 9,
     "metadata": {},
     "output_type": "execute_result"
    }
   ],
   "source": [
    "A_1 = np.array([\n",
    "    [4 , 1, 3],\n",
    "    [1 , 5, 1],\n",
    "    [2 ,-1, 8]\n",
    "])\n",
    "b_1 = np.array([17,14,12])\n",
    "w_1 = get_w(20, 0.1, 2)\n",
    "n_iter = 20\n",
    "sol_1 = sor(A_1, b_1, n_iter, w_1)\n",
    "sol_1_real = np.linalg.solve(A_1, b_1)\n",
    "sol_1[-1], sol_1_real"
   ]
  },
  {
   "cell_type": "code",
   "execution_count": 10,
   "metadata": {},
   "outputs": [
    {
     "data": {
      "text/plain": [
       "(array([-2.29267512,  6.97356606, -1.53626234]),\n",
       " array([-2.307023  ,  6.98788067, -1.54412679]))"
      ]
     },
     "execution_count": 10,
     "metadata": {},
     "output_type": "execute_result"
    }
   ],
   "source": [
    "A_2 = np.array([\n",
    "    [12, 3,-5],\n",
    "    [ 1, 5, 3],\n",
    "    [ 1, 28, 76]\n",
    "])\n",
    "b_2 = np.array([1,28,76])\n",
    "w_2 = get_w(20, 0.1, 2)\n",
    "n_iter = 20\n",
    "sol_2 = sor(A_2, b_2, n_iter, w_2)\n",
    "sol_2_real = np.linalg.solve(A_2, b_2)\n",
    "sol_2[-1], sol_2_real"
   ]
  }
 ],
 "metadata": {
  "kernelspec": {
   "display_name": "Python 3",
   "language": "python",
   "name": "python3"
  },
  "language_info": {
   "codemirror_mode": {
    "name": "ipython",
    "version": 3
   },
   "file_extension": ".py",
   "mimetype": "text/x-python",
   "name": "python",
   "nbconvert_exporter": "python",
   "pygments_lexer": "ipython3",
   "version": "3.7.6"
  }
 },
 "nbformat": 4,
 "nbformat_minor": 4
}
