{
 "cells": [
  {
   "cell_type": "code",
   "execution_count": 20,
   "metadata": {},
   "outputs": [],
   "source": [
    "#Importamos librerias necesarias\n",
    "import numpy as np\n",
    "import scipy.linalg as spla\n",
    "import matplotlib.pyplot as plt"
   ]
  },
  {
   "cell_type": "markdown",
   "metadata": {},
   "source": [
    "# Mínimos cuadrados usando QR"
   ]
  },
  {
   "cell_type": "markdown",
   "metadata": {},
   "source": [
    "Al resolver un problema de mínimos cuadrados con la forma tradicional(Ecuaciones normales), notamos que es común encontrarnos con sistemas mal condicionados, esto se evita al utilizar la factirización QR, ya que no utilizamos $A^*A$ que es lo que suele generar complicaciones.\n",
    "\n",
    "Para resolver utilizando la factorización QR, debemos realizar el siguiente procedimiento:\n",
    "\n",
    "1. Obtener $A = \\hat{Q}\\hat{R}$, utilizando el método reducido.\n",
    "2. Resolver el sistema $\\hat{R}A = \\hat{Q}^*b$, esto se puede realizar con backward-substitution."
   ]
  },
  {
   "cell_type": "code",
   "execution_count": 21,
   "metadata": {},
   "outputs": [],
   "source": [
    "def QR(A):\n",
    "    n, m = A.shape[::-1]\n",
    "    rs = np.zeros((n,n))\n",
    "    qs = np.zeros((m,n))\n",
    "    for j in range(n):\n",
    "        y = A[:, j]\n",
    "        for i in range(0, j):\n",
    "            rs[i, j] = qs[:,i]@y\n",
    "            y = y-rs[i, j]*qs[:,i]\n",
    "        rs[j, j] = np.linalg.norm(y)\n",
    "        qs[:,j] = y/rs[j,j]\n",
    "    return qs, rs"
   ]
  },
  {
   "cell_type": "code",
   "execution_count": 22,
   "metadata": {},
   "outputs": [],
   "source": [
    "def lstsq_QR(A, b):\n",
    "    Q, R = QR(A)\n",
    "    x = spla.solve_triangular(R, np.dot(Q.T, b))\n",
    "    return x"
   ]
  },
  {
   "cell_type": "markdown",
   "metadata": {},
   "source": [
    "Probemos un ejemplo, dados los siguientes puntos de la forma $(t,y)=(1,2)$, $(-1,1)$ y $(1,3)$.\n",
    "\n",
    "Veamos que modelo es conveniente usar:"
   ]
  },
  {
   "cell_type": "code",
   "execution_count": 23,
   "metadata": {},
   "outputs": [
    {
     "data": {
      "image/png": "[encoded data removed]",
      "text/plain": [
       "<Figure size 864x432 with 1 Axes>"
      ]
     },
     "metadata": {
      "needs_background": "light"
     },
     "output_type": "display_data"
    }
   ],
   "source": [
    "t = np.array([1,-1,1])\n",
    "y = np.array([2,1,3])\n",
    "\n",
    "plt.figure(figsize=(12,6))\n",
    "plt.plot(t, y, 'o')\n",
    "plt.xlim(right=2, left=-2)\n",
    "plt.ylim(top=4, bottom=-1)\n",
    "plt.grid(True)\n",
    "plt.show()"
   ]
  },
  {
   "cell_type": "markdown",
   "metadata": {},
   "source": [
    "Podemos apreciar que un modelo lineal es una buena aproximación al problema, entonces diremos que $y = c_1 + c_2t$.\n",
    "\n",
    "Reemplazando los puntos:\n",
    "\n",
    "\\begin{align*}\n",
    "    c_1 + 2c_2 &= 1\\\\\n",
    "    c_1 - c_2 &= 1\\\\\n",
    "    c_1 + 3c_2 &= 1\\\\\n",
    "\\end{align*}\n",
    "\n",
    "De donde obtenemos el siguiente sistema de ecuaciones sobre-condicionado:\n",
    "\n",
    "$$\n",
    "    \\begin{bmatrix}\n",
    "        1 & 2\\\\\n",
    "        1 & -1\\\\\n",
    "        1 & 3\n",
    "    \\end{bmatrix}\\begin{bmatrix}\n",
    "        c_1\\\\\n",
    "        c_2\n",
    "    \\end{bmatrix}=\\begin{bmatrix}\n",
    "        1 \\\\\n",
    "        1 \\\\\n",
    "        1 \n",
    "    \\end{bmatrix}\n",
    "$$\n",
    "\n",
    "Resolvemos con el método de minimos cuadrados."
   ]
  },
  {
   "cell_type": "code",
   "execution_count": 24,
   "metadata": {},
   "outputs": [
    {
     "data": {
      "text/plain": [
       "array([1.75, 0.75])"
      ]
     },
     "execution_count": 24,
     "metadata": {},
     "output_type": "execute_result"
    }
   ],
   "source": [
    "A = np.array([\n",
    "    [1, 1],\n",
    "    [1,-1],\n",
    "    [1, 1]\n",
    "])\n",
    "b = np.array([2,1,3])\n",
    "x = lstsq_QR(A, b)\n",
    "x"
   ]
  },
  {
   "cell_type": "markdown",
   "metadata": {},
   "source": [
    "Obtenemos que la aproximación es $y=1.75+0.75t$.\n",
    "\n",
    "Visualizaremos la aproximación."
   ]
  },
  {
   "cell_type": "code",
   "execution_count": 25,
   "metadata": {},
   "outputs": [
    {
     "data": {
      "image/png": "[encoded data removed]",
      "text/plain": [
       "<Figure size 864x432 with 1 Axes>"
      ]
     },
     "metadata": {
      "needs_background": "light"
     },
     "output_type": "display_data"
    }
   ],
   "source": [
    "y_m = lambda t: 1.75+0.75*t\n",
    "\n",
    "ts = np.linspace(-2,2,10)\n",
    "ys = y_m(ts)\n",
    "\n",
    "plt.figure(figsize=(12,6))\n",
    "plt.plot(t, y, 'o')\n",
    "plt.plot(ts, ys)\n",
    "plt.xlim(right=2, left=-2)\n",
    "plt.ylim(top=4, bottom=-1)\n",
    "plt.grid(True)\n",
    "plt.show()"
   ]
  },
  {
   "cell_type": "markdown",
   "metadata": {},
   "source": [
    "Finalmente calcularemos el error RMSE, el cual viene dado por:\n",
    "\n",
    "$$\n",
    "    RMSE = \\sqrt{SE/m},\n",
    "$$\n",
    "donde $SE = r_1^2 + \\dots + r_m^2 = ||r||_2^2$\n",
    "\n",
    "y $r$ es el vector residuo, que tiene la forma:\n",
    "\n",
    "$$\n",
    "    r = b-A\\overline{x}\n",
    "$$"
   ]
  },
  {
   "cell_type": "code",
   "execution_count": 26,
   "metadata": {},
   "outputs": [
    {
     "data": {
      "text/plain": [
       "0.4082482904638631"
      ]
     },
     "execution_count": 26,
     "metadata": {},
     "output_type": "execute_result"
    }
   ],
   "source": [
    "def error(A,b,x):\n",
    "    r = b-A@x\n",
    "\n",
    "    RMSE = np.linalg.norm(r, ord=2)/np.sqrt(r.shape[-1])\n",
    "    return RMSE\n",
    "error(A,b,x)"
   ]
  },
  {
   "cell_type": "markdown",
   "metadata": {},
   "source": [
    "Otro ejemplo, encontrar la mejor curva para los puntos $(x,y) = (-1,1)$, $(0,0)$, $(1,0)$ y $(2,-2)$"
   ]
  },
  {
   "cell_type": "code",
   "execution_count": 27,
   "metadata": {},
   "outputs": [
    {
     "data": {
      "image/png": "[encoded data removed]",
      "text/plain": [
       "<Figure size 864x432 with 1 Axes>"
      ]
     },
     "metadata": {
      "needs_background": "light"
     },
     "output_type": "display_data"
    }
   ],
   "source": [
    "x = np.array([-1,0,1,2])\n",
    "y = np.array([1,0,0,-2])\n",
    "\n",
    "plt.figure(figsize=(12,6))\n",
    "plt.plot(x,y, 'o')\n",
    "plt.xlim(left=-2, right=3)\n",
    "plt.ylim(bottom=-3, top=2)\n",
    "plt.grid(True)\n",
    "plt.show()"
   ]
  },
  {
   "cell_type": "markdown",
   "metadata": {},
   "source": [
    "Se observa que la curva que calza puede ser lineal o parabolica, desarrollaremos ambos casos y compararemos su RMSE."
   ]
  },
  {
   "cell_type": "markdown",
   "metadata": {},
   "source": [
    "### Lineal\n",
    "Sea $y_{lineal} = c_1 + c_2t$.\n",
    "\n",
    "Reemplazando los puntos:\n",
    "\n",
    "\\begin{align*}\n",
    "    c_1 - c_2 &= 1\\\\\n",
    "    c_1 &= 0\\\\\n",
    "    c_1 + 1c_2 &= 0\\\\\n",
    "    c_1 + 2c_2 &= -2\\\\\n",
    "\\end{align*}\n",
    "\n",
    "De donde obtenemos el siguiente sistema de ecuaciones sobre-condicionado:\n",
    "\n",
    "$$\n",
    "    \\begin{bmatrix}\n",
    "        1 & -1\\\\\n",
    "        1 &  0\\\\\n",
    "        1 &  1\\\\\n",
    "        1 & 2\n",
    "    \\end{bmatrix}\\begin{bmatrix}\n",
    "        c_1\\\\\n",
    "        c_2\n",
    "    \\end{bmatrix}=\\begin{bmatrix}\n",
    "        1 \\\\\n",
    "        0 \\\\\n",
    "        0 \\\\\n",
    "        -2\n",
    "    \\end{bmatrix}\n",
    "$$\n"
   ]
  },
  {
   "cell_type": "markdown",
   "metadata": {},
   "source": [
    "### Lineal\n",
    "Sea $y_{par} = c_1 + c_2t + c_3t^2$.\n",
    "\n",
    "Reemplazando los puntos:\n",
    "\n",
    "\\begin{align*}\n",
    "    c_1 - c_2 + c_3 &= 1\\\\\n",
    "    c_1 &= 0\\\\\n",
    "    c_1 + c_2 + c_3 &= 0\\\\\n",
    "    c_1 + 2c_2 + 4c_2&= -2\\\\\n",
    "\\end{align*}\n",
    "\n",
    "De donde obtenemos el siguiente sistema de ecuaciones sobre-condicionado:\n",
    "\n",
    "$$\n",
    "    \\begin{bmatrix}\n",
    "        1 & -1& 1\\\\\n",
    "        1 & 0 & 0\\\\\n",
    "        1 & 1 & 1\\\\\n",
    "        1 & 2 & 4\n",
    "    \\end{bmatrix}\\begin{bmatrix}\n",
    "        c_1\\\\\n",
    "        c_2\\\\\n",
    "        c_3\n",
    "    \\end{bmatrix}=\\begin{bmatrix}\n",
    "        1 \\\\\n",
    "        0 \\\\\n",
    "        0 \\\\\n",
    "        -2\n",
    "    \\end{bmatrix}\n",
    "$$"
   ]
  },
  {
   "cell_type": "markdown",
   "metadata": {},
   "source": [
    "#### Es importante notar que la matrix b siempre sera la misma para un mismo conjunto de puntos."
   ]
  },
  {
   "cell_type": "code",
   "execution_count": 28,
   "metadata": {},
   "outputs": [
    {
     "name": "stdout",
     "output_type": "stream",
     "text": [
      "x_l: [ 0.2 -0.9] Error_l:  0.4183300132670378 \n",
      "x_p: [ 0.45 -0.65 -0.25] Error_p: 0.33541019662496846\n"
     ]
    }
   ],
   "source": [
    "b = np.array([1,0,0,-2])\n",
    "\n",
    "A_l = np.array([\n",
    "    [1,-1],\n",
    "    [1,0],\n",
    "    [1,1],\n",
    "    [1,2]\n",
    "])\n",
    "\n",
    "A_p = np.array([\n",
    "    [1,-1,1],\n",
    "    [1,0,0],\n",
    "    [1,1,1],\n",
    "    [1,2,4]\n",
    "])\n",
    "\n",
    "x_l = lstsq_QR(A_l, b)\n",
    "x_p = lstsq_QR(A_p, b)\n",
    "err_l = error(A_l, b, x_l)\n",
    "err_p = error(A_p, b, x_p)\n",
    "print(\"x_l:\", x_l, \"Error_l: \", err_l, '\\nx_p:', x_p, 'Error_p:', err_p)"
   ]
  },
  {
   "cell_type": "markdown",
   "metadata": {},
   "source": [
    "Podemos concluir que la parabola es una mejor aproximación para el conjunto de puntos, ya que posee un RMSE menor.\n",
    "\n",
    "Visualizemos ambas curvas y el conjunto de puntos."
   ]
  },
  {
   "cell_type": "code",
   "execution_count": 29,
   "metadata": {},
   "outputs": [
    {
     "data": {
      "image/png": "[encoded data removed]",
      "text/plain": [
       "<Figure size 864x432 with 1 Axes>"
      ]
     },
     "metadata": {
      "needs_background": "light"
     },
     "output_type": "display_data"
    }
   ],
   "source": [
    "y_l = lambda x: 0.2-0.9*x\n",
    "y_p = lambda x: 0.45-0.65*x-0.25*x**2\n",
    "\n",
    "xs = np.linspace(-2,4,20)\n",
    "ys_l = y_l(xs)\n",
    "ys_p = y_p(xs)\n",
    "\n",
    "plt.figure(figsize=(12,6))\n",
    "plt.plot(x, y, 'o')\n",
    "plt.plot(xs, ys_l)\n",
    "plt.plot(xs, ys_p)\n",
    "plt.xlim(right=2.5, left=-2)\n",
    "plt.ylim(top=4, bottom=-3)\n",
    "plt.grid(True)\n",
    "plt.show()"
   ]
  },
  {
   "cell_type": "code",
   "execution_count": 30,
   "metadata": {},
   "outputs": [
    {
     "data": {
      "text/plain": [
       "(0.9999999999999999, 1.0)"
      ]
     },
     "execution_count": 30,
     "metadata": {},
     "output_type": "execute_result"
    }
   ],
   "source": [
    "import numpy as np\n",
    "import scipy\n",
    "import scipy.linalg\n",
    "asd = np.array([[1,-4,1],[2,3,3],[2,2,4]])\n",
    "Q, R = scipy.linalg.qr(asd)\n",
    "np.linalg.norm(Q[0])/np.linalg.norm(Q[1]), np.linalg.norm(Q[2])"
   ]
  },
  {
   "cell_type": "code",
   "execution_count": null,
   "metadata": {},
   "outputs": [],
   "source": []
  },
  {
   "cell_type": "code",
   "execution_count": 39,
   "metadata": {},
   "outputs": [
    {
     "data": {
      "text/plain": [
       "array([2, 3])"
      ]
     },
     "execution_count": 39,
     "metadata": {},
     "output_type": "execute_result"
    }
   ],
   "source": [
    "asd = np.array([1,2,3,4,5,6,7,8])\n",
    "asd[1:3]"
   ]
  },
  {
   "cell_type": "code",
   "execution_count": null,
   "metadata": {},
   "outputs": [],
   "source": []
  }
 ],
 "metadata": {
  "kernelspec": {
   "display_name": "Python 3",
   "language": "python",
   "name": "python3"
  },
  "language_info": {
   "codemirror_mode": {
    "name": "ipython",
    "version": 3
   },
   "file_extension": ".py",
   "mimetype": "text/x-python",
   "name": "python",
   "nbconvert_exporter": "python",
   "pygments_lexer": "ipython3",
   "version": "3.7.6"
  }
 },
 "nbformat": 4,
 "nbformat_minor": 4
}
