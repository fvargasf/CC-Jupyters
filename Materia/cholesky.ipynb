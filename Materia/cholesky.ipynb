{
 "cells": [
  {
   "cell_type": "markdown",
   "metadata": {},
   "source": [
    "# Cholesky"
   ]
  },
  {
   "cell_type": "markdown",
   "metadata": {},
   "source": [
    "Dada una matriz simétrica definida positiva, se puede hacer la siguiente descomposición\n",
    "\n",
    "$$\n",
    "    A = R^T R\n",
    "$$\n",
    "\n",
    "Donde R es una matriz diagonal superior."
   ]
  },
  {
   "cell_type": "code",
   "execution_count": 32,
   "metadata": {},
   "outputs": [],
   "source": [
    "import numpy as np\n",
    "from scipy.linalg import solve_triangular"
   ]
  },
  {
   "cell_type": "code",
   "execution_count": 16,
   "metadata": {},
   "outputs": [],
   "source": [
    "def isSymetric(A):\n",
    "    return np.array_equal(A, A.T)\n",
    "\n",
    "def isPosDef(A):\n",
    "    val, vec = np.linalg.eig(A)\n",
    "    return all(i>0 for i in val)"
   ]
  },
  {
   "cell_type": "code",
   "execution_count": 23,
   "metadata": {},
   "outputs": [],
   "source": [
    "a = np.array([[5,4],[4,5]])"
   ]
  },
  {
   "cell_type": "markdown",
   "metadata": {},
   "source": [
    "Para resolver sistemas de ecuaciones, realizamos el siguiente procedimiento:\n",
    "\n",
    "1. Obtener descomposición de Cholesky: $A=R^T\\,R$\n",
    "2. Resolver para $\\mathbf{c}$: $R^T\\mathbf{c} = \\mathbf{b}$\n",
    "3. Resolver para $\\mathbf{x}$: $R\\,\\mathbf{x} = \\mathbf{c}$\n",
    "4. Retornar $\\mathbf{x}$\n"
   ]
  },
  {
   "cell_type": "code",
   "execution_count": 34,
   "metadata": {},
   "outputs": [],
   "source": [
    "def cholesky(A, b):\n",
    "    #Comprobamos que sea simetrica y positiva definida:\n",
    "    if isSymetric(A) and isPosDef(A):\n",
    "        R = np.linalg.cholesky(A)\n",
    "        RT = R.T\n",
    "        \n",
    "        c = solve_triangular(R, b, lower=True)#Especificamos que es la tringular inferior\n",
    "        \n",
    "        x = solve_triangular(R, c)#Solve triangular ocupa la diagonal superior por defecto\n",
    "        return x\n",
    "    else:\n",
    "        return \"NO SE PUEDE APLICAR CHOLESKY\""
   ]
  },
  {
   "cell_type": "code",
   "execution_count": 37,
   "metadata": {},
   "outputs": [
    {
     "data": {
      "text/plain": [
       "225"
      ]
     },
     "execution_count": 37,
     "metadata": {},
     "output_type": "execute_result"
    }
   ],
   "source": [
    "15*15"
   ]
  }
 ],
 "metadata": {
  "kernelspec": {
   "display_name": "Python 3",
   "language": "python",
   "name": "python3"
  },
  "language_info": {
   "codemirror_mode": {
    "name": "ipython",
    "version": 3
   },
   "file_extension": ".py",
   "mimetype": "text/x-python",
   "name": "python",
   "nbconvert_exporter": "python",
   "pygments_lexer": "ipython3",
   "version": "3.7.6"
  }
 },
 "nbformat": 4,
 "nbformat_minor": 4
}
