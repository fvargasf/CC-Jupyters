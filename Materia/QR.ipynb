{
 "cells": [
  {
   "cell_type": "code",
   "execution_count": 1,
   "metadata": {},
   "outputs": [],
   "source": [
    "#Importamos librerias necesarias\n",
    "import numpy as np"
   ]
  },
  {
   "cell_type": "markdown",
   "metadata": {},
   "source": [
    "# Factorización QR"
   ]
  },
  {
   "cell_type": "markdown",
   "metadata": {},
   "source": [
    "Similar a la factorización $PA=LU$, con este método hacemos la factorización $A=QR$, donde $Q$ es una matriz ortonormal(ortogonal y la norma de cada uno de sus vectores columna es 1) y $R$ es triangular superior.\n",
    "\n",
    "En más detalle,\n",
    "$$\n",
    "    A_{mxn} = Q_{mxm} R_{mxn},\n",
    "$$\n",
    "para QR full.\n",
    "\n",
    "\n",
    "Para lograr esta factorización realizamos la ortoganalización de Gram-Schmidt, cuya versión clasica viene dada por el siguiente algoritmo."
   ]
  },
  {
   "cell_type": "code",
   "execution_count": 88,
   "metadata": {},
   "outputs": [],
   "source": [
    "def clasicGS(A):\n",
    "    n, m = A.shape[::-1]\n",
    "    rs = np.zeros((n,n))\n",
    "    qs = np.zeros((m,n))\n",
    "    for j in range(n):\n",
    "        y = A[:, j]\n",
    "        for i in range(0, j):\n",
    "            rs[i, j] = qs[:,i]@A[:,j]\n",
    "            y = y-rs[i, j]*qs[:,i]\n",
    "        rs[j, j] = np.linalg.norm(y)\n",
    "        qs[:,j] = y/rs[j,j]\n",
    "    return rs, qs"
   ]
  },
  {
   "cell_type": "code",
   "execution_count": 101,
   "metadata": {},
   "outputs": [
    {
     "data": {
      "text/plain": [
       "(True, True)"
      ]
     },
     "execution_count": 101,
     "metadata": {},
     "output_type": "execute_result"
    }
   ],
   "source": [
    "A = np.array([\n",
    "    [1,-4],\n",
    "    [2, 3],\n",
    "    [2, 2],\n",
    "])\n",
    "Q = np.array([\n",
    "    [1/3, -14/15],\n",
    "    [2/3,   1/3 ],\n",
    "    [2/3,   2/15]\n",
    "])\n",
    "R = np.array([\n",
    "    [3, 2],\n",
    "    [0, 5]\n",
    "])\n",
    "R_alg, Q_alg = clasicGS(A)\n",
    "np.allclose(Q_alg, Q), np.allclose(R_alg, R)"
   ]
  },
  {
   "cell_type": "markdown",
   "metadata": {},
   "source": [
    "# QR modificado\n",
    "\n",
    "Una versión modificada del algoritmo(que es mucho mejor), se puede obtener si modificamos la linea 8 del algoritmo y la cambiamos por ```R[i, j] = Q[:, i]@y```"
   ]
  },
  {
   "cell_type": "code",
   "execution_count": 102,
   "metadata": {},
   "outputs": [],
   "source": [
    "def clasicGS_mod(A):\n",
    "    n, m = A.shape[::-1]\n",
    "    rs = np.zeros((n,n))\n",
    "    qs = np.zeros((m,n))\n",
    "    for j in range(n):\n",
    "        y = A[:, j]\n",
    "        for i in range(0, j):\n",
    "            rs[i, j] = qs[:,i]@y\n",
    "            y = y-rs[i, j]*qs[:,i]\n",
    "        rs[j, j] = np.linalg.norm(y)\n",
    "        qs[:,j] = y/rs[j,j]\n",
    "    return rs, qs"
   ]
  },
  {
   "cell_type": "code",
   "execution_count": 105,
   "metadata": {},
   "outputs": [
    {
     "data": {
      "text/plain": [
       "(True, True)"
      ]
     },
     "execution_count": 105,
     "metadata": {},
     "output_type": "execute_result"
    }
   ],
   "source": [
    "R_mod, Q_mod = clasicGS_mod(A)\n",
    "np.array_equal(Q_mod, Q_alg), np.array_equal(R_mod, R_alg)"
   ]
  },
  {
   "cell_type": "code",
   "execution_count": null,
   "metadata": {},
   "outputs": [],
   "source": []
  },
  {
   "cell_type": "code",
   "execution_count": null,
   "metadata": {},
   "outputs": [],
   "source": []
  }
 ],
 "metadata": {
  "kernelspec": {
   "display_name": "Python 3",
   "language": "python",
   "name": "python3"
  },
  "language_info": {
   "codemirror_mode": {
    "name": "ipython",
    "version": 3
   },
   "file_extension": ".py",
   "mimetype": "text/x-python",
   "name": "python",
   "nbconvert_exporter": "python",
   "pygments_lexer": "ipython3",
   "version": "3.7.6"
  }
 },
 "nbformat": 4,
 "nbformat_minor": 4
}
