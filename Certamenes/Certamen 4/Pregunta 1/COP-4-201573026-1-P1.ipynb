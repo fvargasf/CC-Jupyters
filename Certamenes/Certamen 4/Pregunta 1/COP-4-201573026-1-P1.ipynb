{
 "cells": [
  {
   "cell_type": "markdown",
   "metadata": {},
   "source": [
    "<center>\n",
    "    <img src=\"http://sct.inf.utfsm.cl/wp-content/uploads/2020/04/logo_di.png\" style=\"width:60%\">\n",
    "    <h1> INF285/ILI285 Computación Científica </h1>\n",
    "    <h1> COP-4</h1>\n",
    "</center>\n",
    "\n",
    "## <span style=\"color:blue\">Nombre</span>: Francis Vargas Ferrer\n",
    "\n",
    "## <span style=\"color:blue\">Rol</span>: 201573026-1"
   ]
  },
  {
   "cell_type": "markdown",
   "metadata": {},
   "source": [
    "# Librerías"
   ]
  },
  {
   "cell_type": "code",
   "execution_count": 1,
   "metadata": {},
   "outputs": [],
   "source": [
    "import numpy as np\n",
    "from scipy.linalg import solve_triangular"
   ]
  },
  {
   "cell_type": "markdown",
   "metadata": {},
   "source": [
    "# Desarrollo"
   ]
  },
  {
   "cell_type": "markdown",
   "metadata": {},
   "source": [
    "Método de $SOR(\\omega)$ obtenido del material de github[1], se le modificaron los parámetros que recibe para que sean los del problema."
   ]
  },
  {
   "cell_type": "code",
   "execution_count": 2,
   "metadata": {},
   "outputs": [],
   "source": [
    "def SOR(A, b, w=1.1, n_iter=3, x_0=None):\n",
    "    n = A.shape[0] # Matrix size\n",
    "    X = np.zeros((n_iter + 1, n)) # Matrix with solution at each iteration\n",
    "    # Initial guess\n",
    "    if x_0 is not None:\n",
    "        X[0] = x_0\n",
    "    L = np.tril(A, k=-1) # Get lower triangle \n",
    "    U = np.triu(A, k=1) # Get Upper triangle \n",
    "    D = A - U - L\n",
    "    # SOR\n",
    "    for k in range(n_iter):\n",
    "        X[k+1] = solve_triangular(w * L + D, w * b + np.dot((1 - w) * D - w * U, X[k]), lower=True)\n",
    "    return X"
   ]
  },
  {
   "cell_type": "markdown",
   "metadata": {},
   "source": [
    "Definiremos nuestro $F(\\beta)$"
   ]
  },
  {
   "cell_type": "code",
   "execution_count": 3,
   "metadata": {},
   "outputs": [],
   "source": [
    "def get_F(x, y):\n",
    "    f1 = lambda beta: np.sum((y-beta[0]-np.sin(beta[1]*x)-np.cos(beta[2]*x))**3)\n",
    "    f2 = lambda beta: np.sum(x*np.cos(beta[1]*x)*(y-beta[0]-np.sin(beta[1]*x)-np.cos(beta[2]*x))**3)\n",
    "    f3 = lambda beta: np.sum(x*np.sin(beta[2]*x)*(y-beta[0]-np.sin(beta[1]*x)-np.cos(beta[2]*x))**3)\n",
    "    return lambda beta: np.array([f1(beta),f2(beta),f3(beta)])"
   ]
  },
  {
   "cell_type": "markdown",
   "metadata": {},
   "source": [
    "Creamos la función que nos entrega el resultado de $J(\\beta)v$"
   ]
  },
  {
   "cell_type": "code",
   "execution_count": 4,
   "metadata": {},
   "outputs": [],
   "source": [
    "def J(F, beta, epsilon=1e-10):\n",
    "    ev = np.array([\n",
    "        [epsilon, 0, 0],\n",
    "        [0, epsilon, 0],\n",
    "        [0, 0, epsilon]\n",
    "    ])\n",
    "    J = np.array([(F(beta+ev[0])-F(beta))/epsilon, \n",
    "                  (F(beta+ev[1])-F(beta))/epsilon,\n",
    "                  (F(beta+ev[2])-F(beta))/epsilon]).T\n",
    "    #Usamos la transpuesta ya que sin esto cada fila es la columna de J\n",
    "    return J"
   ]
  },
  {
   "cell_type": "markdown",
   "metadata": {},
   "source": [
    "Creamos el método de Levenberg-Marquardt, el cual es una modificación del método de Newton usado en el curso[2]. El cambio ocurre en la línea 5 y 6, donde para resolver el sistema se utiliza el método $SOR(\\omega)$, el cual retorna todas las soluciones, como nos interesa la última, en la línea 6 solo se utiliza el último elemento de w."
   ]
  },
  {
   "cell_type": "code",
   "execution_count": 5,
   "metadata": {},
   "outputs": [],
   "source": [
    "def LM(F, b_0, n, tol=1e-10, lambd=1):\n",
    "    b = np.zeros((n + 1, b_0.shape[0]))\n",
    "    b[0] = b_0\n",
    "    for k in range(n):\n",
    "        w = SOR(J(F, b[k]).T@J(F, b[k]) + lambd*np.eye(b_0.shape[0]), -J(F, b[k]).T@F(b[k]))\n",
    "        b[k+1] = b[k] + w[-1]\n",
    "        if np.linalg.norm(F(b[k+1])) < tol:\n",
    "            b = b[:k+2]\n",
    "            break\n",
    "    return b"
   ]
  },
  {
   "cell_type": "markdown",
   "metadata": {},
   "source": [
    "Como tenemos todo definido, aplicaremos el método a los valores entregados."
   ]
  },
  {
   "cell_type": "code",
   "execution_count": 6,
   "metadata": {},
   "outputs": [],
   "source": [
    "#Cargamos el dataset\n",
    "data = np.load(\"1.npy\")\n",
    "x = data[:,0]\n",
    "y = data[:,1]\n",
    "\n",
    "#Definimos B_0\n",
    "b_0 = np.array([1,1,1])\n",
    "\n",
    "#Obtenemos F\n",
    "F = get_F(x, y)\n",
    "#Aplicamos el método\n",
    "B = LM(F, b_0, 3)"
   ]
  },
  {
   "cell_type": "markdown",
   "metadata": {},
   "source": [
    "#### 1 ¿Cuál es el valor de la segunda componente de $F(\\beta_0)$?"
   ]
  },
  {
   "cell_type": "code",
   "execution_count": 7,
   "metadata": {},
   "outputs": [
    {
     "data": {
      "text/plain": [
       "-1332.0028850739136"
      ]
     },
     "execution_count": 7,
     "metadata": {},
     "output_type": "execute_result"
    }
   ],
   "source": [
    "F(b_0)[1]"
   ]
  },
  {
   "cell_type": "markdown",
   "metadata": {},
   "source": [
    "#### 2  ¿Cuál es la norma de Frobenius de la aproximación del Jacobiano en $\\beta_0$, es decir,  $∥J(\\beta_0)∥_F$?"
   ]
  },
  {
   "cell_type": "code",
   "execution_count": 8,
   "metadata": {},
   "outputs": [
    {
     "data": {
      "text/plain": [
       "16783.581619549197"
      ]
     },
     "execution_count": 8,
     "metadata": {},
     "output_type": "execute_result"
    }
   ],
   "source": [
    "np.linalg.norm(J(F, b_0), ord='fro')"
   ]
  },
  {
   "cell_type": "markdown",
   "metadata": {},
   "source": [
    "#### ¿Cuál es el valor del parámetro $\\beta_1$ luego de ajustar el modelo?"
   ]
  },
  {
   "cell_type": "code",
   "execution_count": 9,
   "metadata": {},
   "outputs": [
    {
     "data": {
      "text/plain": [
       "1.0739414958375249"
      ]
     },
     "execution_count": 9,
     "metadata": {},
     "output_type": "execute_result"
    }
   ],
   "source": [
    "B[-1][0]"
   ]
  },
  {
   "cell_type": "markdown",
   "metadata": {},
   "source": [
    "# Referencias:\n",
    "[1] https://github.com/sct-utfsm/INF-285/blob/master/material/04_sistemas_ecuaciones/metodos_iterativos.ipynb\n",
    "\n",
    "\n",
    "[2]https://github.com/sct-utfsm/INF-285/blob/master/material/04_sistemas_ecuaciones/no_lineal.ipynb"
   ]
  }
 ],
 "metadata": {
  "kernelspec": {
   "display_name": "Python 3",
   "language": "python",
   "name": "python3"
  },
  "language_info": {
   "codemirror_mode": {
    "name": "ipython",
    "version": 3
   },
   "file_extension": ".py",
   "mimetype": "text/x-python",
   "name": "python",
   "nbconvert_exporter": "python",
   "pygments_lexer": "ipython3",
   "version": "3.7.6"
  }
 },
 "nbformat": 4,
 "nbformat_minor": 4
}
