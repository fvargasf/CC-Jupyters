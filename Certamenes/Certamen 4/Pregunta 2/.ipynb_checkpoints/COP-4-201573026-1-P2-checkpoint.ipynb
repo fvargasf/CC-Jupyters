{
 "cells": [
  {
   "cell_type": "markdown",
   "metadata": {},
   "source": [
    "<center>\n",
    "    <img src=\"http://sct.inf.utfsm.cl/wp-content/uploads/2020/04/logo_di.png\" style=\"width:60%\">\n",
    "    <h1> INF285/ILI285 Computación Científica </h1>\n",
    "    <h1> COP-4</h1>\n",
    "</center>\n",
    "\n",
    "## <span style=\"color:blue\">Nombre</span>: Francis Vargas Ferrer\n",
    "\n",
    "## <span style=\"color:blue\">Rol</span>: 201573026-1"
   ]
  },
  {
   "cell_type": "markdown",
   "metadata": {},
   "source": [
    "# Librerías"
   ]
  },
  {
   "cell_type": "code",
   "execution_count": 1,
   "metadata": {},
   "outputs": [],
   "source": [
    "import numpy as np\n",
    "import scipy.linalg as spla"
   ]
  },
  {
   "cell_type": "markdown",
   "metadata": {},
   "source": [
    "# Desarrollo"
   ]
  },
  {
   "cell_type": "markdown",
   "metadata": {},
   "source": [
    "Para resolver el problema de mínimos cuadrados que se nos genera se utilizara el siguiente código, el cual es una modificación del que se encuentra en el material del curso[1]. La obtención de QR en este caso siempre es por el método modificado."
   ]
  },
  {
   "cell_type": "code",
   "execution_count": 2,
   "metadata": {},
   "outputs": [],
   "source": [
    "def QR(A):\n",
    "    n, m = A.shape[::-1]\n",
    "    rs = np.zeros((n,n))\n",
    "    qs = np.zeros((m,n))\n",
    "    for j in range(n):\n",
    "        y = A[:, j]\n",
    "        for i in range(0, j):\n",
    "            rs[i, j] = qs[:,i]@y\n",
    "            y = y-rs[i, j]*qs[:,i]\n",
    "        rs[j, j] = np.linalg.norm(y)\n",
    "        qs[:,j] = y/rs[j,j]\n",
    "    return qs, rs\n",
    "\n",
    "def lstsq_QR(A, b):\n",
    "    Q, R = QR(A)\n",
    "    x = spla.solve_triangular(R, np.dot(Q.T, b))\n",
    "    return x"
   ]
  },
  {
   "cell_type": "markdown",
   "metadata": {},
   "source": [
    "Modificaremos la el código visto en clases[2], para encontrar las casi-splines que pide el problema, añadiendo la condición de continuidad en la tercera derivada, la cual viene dada por:\n",
    "$$\n",
    "    S^{'''}_{i-1}(x_i) = S^{'''}_{i}(x_i) \n",
    "$$\n",
    "Obteniendo la tercera derivada, se tiene que:\n",
    "\n",
    "\\begin{align}\n",
    "    S(x_i) &= y_i+b_i(x−x_i)+c_i(x−x_i)^2+d_i(x−x_i)^3\\\\\n",
    "    S^{'}(x_i) &= b_i + 2c_i(x-x_i)+3d_i(x-x_i)^2\\\\\n",
    "    S^{''}(x_i) &= 2c_i + 6d_i(x-x_i)\\\\\n",
    "    S^{'''}(x_i) &= 6d_i\n",
    "\\end{align}"
   ]
  },
  {
   "cell_type": "code",
   "execution_count": 3,
   "metadata": {},
   "outputs": [],
   "source": [
    "def casi_spline(x, y, ws):\n",
    "    #x: x-coordinates of points\n",
    "    #y: y-coordinates of points\n",
    "    n = len(x)\n",
    "    A = np.zeros((4*n-7, 3*n-3))\n",
    "    b = np.zeros(4*n-7)\n",
    "    \n",
    "    delta_x=np.diff(x)\n",
    "\n",
    "    #Building the linear system of equations\n",
    "    \n",
    "    #1st property\n",
    "    for i in np.arange(n-1):\n",
    "        b[i]= y[i+1]-y[i]\n",
    "        A[i,3*i:3*(i+1)] = [delta_x[i],delta_x[i]**2,delta_x[i]**3]\n",
    "    #2nd property\n",
    "    for i in np.arange(n-2):\n",
    "        A[(n-1)+i,3*i:3*(i+1)+1]= [1, 2*delta_x[i], 3*delta_x[i]**2, -1]\n",
    "    #3rd property\n",
    "    for i in np.arange(n-2):\n",
    "        A[(n-1)+(n-2)+i,3*i:3*(i+1)+2] = [0, 2, 6*delta_x[i], 0, -2]\n",
    "    #Propiedad de la tercera derivada\n",
    "    for i in np.arange(n-2):\n",
    "        A[(n-1)+(n-2)+(n-2)+i,3*i:3*(i+1)+3] = [0, 0, 6, 0, 0, -6]\n",
    "    \n",
    "    #Obtenemos W\n",
    "    W = np.zeros(4*n-7)\n",
    "    W[:n-1] = [ws[0] for i in range(n-1)]\n",
    "    W[n-1:2*n-3] = [ws[1] for i in range(n-2)]\n",
    "    W[2*n-3:3*n-5] = [ws[2] for i in range(n-2)]\n",
    "    W[3*n-5:4*n-7] = [ws[3] for i in range(n-2)]\n",
    "    W = np.diag(W)\n",
    "    \n",
    "    #Solving the system\n",
    "    WA = W@A\n",
    "    Wb = W@b\n",
    "\n",
    "    sol = lstsq_QR(WA, Wb)\n",
    "    S = {'b':sol[::3],\n",
    "         'c':sol[1::3],\n",
    "         'd':sol[2::3],\n",
    "         'x':x,\n",
    "         'y':y,\n",
    "         'A':A\n",
    "        }\n",
    "    return S"
   ]
  },
  {
   "cell_type": "markdown",
   "metadata": {},
   "source": [
    "Función para evaluar el la casi spline, también encontrada en [2]."
   ]
  },
  {
   "cell_type": "code",
   "execution_count": 4,
   "metadata": {},
   "outputs": [],
   "source": [
    "def cubic_spline_eval(xx,S,der=0):\n",
    "    x=S['x']\n",
    "    y=S['y']\n",
    "    b=S['b']\n",
    "    c=S['c']\n",
    "    d=S['d']\n",
    "    n=len(x)\n",
    "    yy=np.zeros_like(xx)\n",
    "    for i in np.arange(n-1):\n",
    "        jj = np.where(np.logical_and(x[i]<=xx,xx<=x[i+1]))\n",
    "        yy[jj]=y[i]+b[i]*(xx[jj]-x[i])+c[i]*(xx[jj]-x[i])**2+d[i]*(xx[jj]-x[i])**3\n",
    "    return yy"
   ]
  },
  {
   "cell_type": "markdown",
   "metadata": {},
   "source": [
    "Solo nos queda aplicar los métodos creados con anterioridad."
   ]
  },
  {
   "cell_type": "code",
   "execution_count": 29,
   "metadata": {},
   "outputs": [],
   "source": [
    "#Cargamos el dataset\n",
    "data = np.load(\"Dataset1.npy\")\n",
    "x = data[:,0]\n",
    "y = data[:,1]\n",
    "\n",
    "#Definimos nuestro w\n",
    "ws = np.array([1,0.1,1,1])\n",
    "\n",
    "#Calculamos la casi spline\n",
    "S = casi_spline(x,y, ws)"
   ]
  },
  {
   "cell_type": "markdown",
   "metadata": {},
   "source": [
    "#### 1. Norma de Frobenius"
   ]
  },
  {
   "cell_type": "code",
   "execution_count": 30,
   "metadata": {},
   "outputs": [
    {
     "data": {
      "text/plain": [
       "28.92462461596844"
      ]
     },
     "execution_count": 30,
     "metadata": {},
     "output_type": "execute_result"
    }
   ],
   "source": [
    "A = S['A']\n",
    "n, m = A.shape\n",
    "frob = 0\n",
    "for i in range(n):\n",
    "    for j in range(m):\n",
    "        frob += abs(A[i][j])**2\n",
    "frob = np.sqrt(frob)\n",
    "frob"
   ]
  },
  {
   "cell_type": "markdown",
   "metadata": {},
   "source": [
    "#### Coeficiente $b_1$"
   ]
  },
  {
   "cell_type": "code",
   "execution_count": 31,
   "metadata": {},
   "outputs": [
    {
     "data": {
      "text/plain": [
       "1.3380029880045403"
      ]
     },
     "execution_count": 31,
     "metadata": {},
     "output_type": "execute_result"
    }
   ],
   "source": [
    "b = S['b']\n",
    "b[0]"
   ]
  },
  {
   "cell_type": "markdown",
   "metadata": {},
   "source": [
    "#### Error de interpolación"
   ]
  },
  {
   "cell_type": "code",
   "execution_count": 32,
   "metadata": {},
   "outputs": [
    {
     "data": {
      "text/plain": [
       "0.05052887829316627"
      ]
     },
     "execution_count": 32,
     "metadata": {},
     "output_type": "execute_result"
    }
   ],
   "source": [
    "#Funcion original\n",
    "f = lambda x: np.sin(x)\n",
    "xs = np.linspace(0, 2*np.pi, 1000)\n",
    "ys = f(xs)\n",
    "#Evaluacion en el interpolador\n",
    "ys_cs = cubic_spline_eval(xs, S)\n",
    "\n",
    "np.linalg.norm(ys - ys_cs, np.inf)"
   ]
  },
  {
   "cell_type": "markdown",
   "metadata": {},
   "source": [
    "# Referencias\n",
    "\n",
    "[1] https://github.com/sct-utfsm/INF-285/blob/master/material/06_minimos_cuadrados/qr.ipynb\n",
    "\n",
    "\n",
    "[2] https://github.com/tclaudioe/Scientific-Computing/blob/master/SC1/08_Interpolation_Splines.ipynb"
   ]
  }
 ],
 "metadata": {
  "kernelspec": {
   "display_name": "Python 3",
   "language": "python",
   "name": "python3"
  },
  "language_info": {
   "codemirror_mode": {
    "name": "ipython",
    "version": 3
   },
   "file_extension": ".py",
   "mimetype": "text/x-python",
   "name": "python",
   "nbconvert_exporter": "python",
   "pygments_lexer": "ipython3",
   "version": "3.7.6"
  }
 },
 "nbformat": 4,
 "nbformat_minor": 4
}
