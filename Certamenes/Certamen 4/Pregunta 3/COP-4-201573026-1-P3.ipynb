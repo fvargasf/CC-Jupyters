{
 "cells": [
  {
   "cell_type": "markdown",
   "metadata": {},
   "source": [
    "<center>\n",
    "    <img src=\"http://sct.inf.utfsm.cl/wp-content/uploads/2020/04/logo_di.png\" style=\"width:60%\">\n",
    "    <h1> INF285/ILI285 Computación Científica </h1>\n",
    "    <h1> COP-4</h1>\n",
    "</center>\n",
    "\n",
    "## <span style=\"color:blue\">Nombre</span>: Francis Vargas Ferrer\n",
    "\n",
    "## <span style=\"color:blue\">Rol</span>: 201573026-1"
   ]
  },
  {
   "cell_type": "markdown",
   "metadata": {},
   "source": [
    "# Librerías"
   ]
  },
  {
   "cell_type": "code",
   "execution_count": 1,
   "metadata": {},
   "outputs": [],
   "source": [
    "import numpy as np"
   ]
  },
  {
   "cell_type": "markdown",
   "metadata": {},
   "source": [
    "# Desarrollo"
   ]
  },
  {
   "cell_type": "markdown",
   "metadata": {},
   "source": [
    "Comenzaremos cargando los datos:"
   ]
  },
  {
   "cell_type": "code",
   "execution_count": 2,
   "metadata": {},
   "outputs": [],
   "source": [
    "X1 = np.load(\"X1-0.npy\")\n",
    "X2 = np.load(\"X2-0.npy\")\n",
    "Y1 = np.load(\"Y1-0.npy\")\n",
    "Y2 = np.load(\"Y2-0.npy\")\n",
    "Yt = np.load(\"Yt-0.npy\")"
   ]
  },
  {
   "cell_type": "markdown",
   "metadata": {},
   "source": [
    "### Pregunta 1"
   ]
  },
  {
   "cell_type": "markdown",
   "metadata": {},
   "source": [
    "Podemos escribir el sistema de la forma"
   ]
  },
  {
   "cell_type": "code",
   "execution_count": 3,
   "metadata": {},
   "outputs": [
    {
     "data": {
      "text/plain": [
       "122.15594176011749"
      ]
     },
     "execution_count": 3,
     "metadata": {},
     "output_type": "execute_result"
    }
   ],
   "source": [
    "W1 = np.linalg.solve(X1, Y1)\n",
    "np.linalg.norm(W1, ord='fro')"
   ]
  },
  {
   "cell_type": "markdown",
   "metadata": {},
   "source": [
    "### Pregunta 2"
   ]
  },
  {
   "cell_type": "markdown",
   "metadata": {},
   "source": [
    "Como el sistema se encuentra en el orden incorrecto, es necesario utilizar la traspuesta para poder usar el solver de numpy, luego nuestro resultado será la transpuesta de lo que nos entrega el solver."
   ]
  },
  {
   "cell_type": "code",
   "execution_count": 4,
   "metadata": {},
   "outputs": [
    {
     "data": {
      "text/plain": [
       "67.67795024665512"
      ]
     },
     "execution_count": 4,
     "metadata": {},
     "output_type": "execute_result"
    }
   ],
   "source": [
    "W2 = np.linalg.solve(X2.T, Y2.T).T\n",
    "np.linalg.norm(W2, ord='fro')"
   ]
  },
  {
   "cell_type": "markdown",
   "metadata": {},
   "source": [
    "### Pregunta 3"
   ]
  },
  {
   "cell_type": "markdown",
   "metadata": {},
   "source": [
    "Como no podemos utilizar la inversa de las matrices, es necesario aplicar un poco de algebra.\n",
    "\n",
    "$$\n",
    "    P(X) = Y_1(X-X_2)(X_1-X_2)^{-1} + Y_2(X-X_1)(X_2-X_1)^{-1}\n",
    "$$\n",
    "\n",
    "Podemos escribir $(X_1-X_2)$ como $-(X_2-X_1)$, luego factorizamos:\n",
    "\n",
    "\\begin{align}\n",
    "    P(X) &= Y_1(X-X_2)(X_1-X_2)^{-1} + Y_2(X-X_1)(X_2-X_1)^{-1}\\\\\n",
    "    P(X) &= Y_1(X-X_2)(X_1-X_2)^{-1} - Y_2(X-X_1)(X_1-X_2)^{-1}\\\\\n",
    "    P(X) &= (Y_1(X-X_2) - Y_2(X-X_1))(X_1-X_2)^{-1}\n",
    "\\end{align}\n",
    "\n",
    "Multiplicamos por $(X_1-X_2)$ por la derecha:\n",
    "\n",
    "\\begin{align}\n",
    "    P(X)(X_1-X_2) &= (Y_1(X-X_2) - Y_2(X-X_1))(X_1-X_2)^{-1}(X_1-X_2)\\\\\n",
    "    P(X)(X_1-X_2) &= Y_1(X-X_2) - Y_2(X-X_1)\n",
    "\\end{align}\n",
    "\n",
    "Como sabemos que X es la matriz nula, entonces definiremos  $b = Y_1(X-X_2) - Y_2(X-X_1)$ como una matriz conocida, $A=(X_1-X_2)$ y $\\hat{x}=P(x)$.\n",
    "\n",
    "Al reemplazar obtenemos el siguiente sistema de ecuaciones:\n",
    "\n",
    "$$\n",
    "    \\hat{x}A = b\n",
    "$$\n",
    "\n",
    "El cual podemos resolver de la misma forma que en la pregunta 2.\n",
    "\n",
    "$$\n",
    "    A^T\\hat{x}^T = b^T\n",
    "$$"
   ]
  },
  {
   "cell_type": "code",
   "execution_count": 5,
   "metadata": {},
   "outputs": [
    {
     "data": {
      "text/plain": [
       "120.16699536175996"
      ]
     },
     "execution_count": 5,
     "metadata": {},
     "output_type": "execute_result"
    }
   ],
   "source": [
    "X = np.zeros_like(X1)\n",
    "A = X1-X2\n",
    "b = Y1@(X-X2)- Y2@(X-X1)\n",
    "P0 = np.linalg.solve(A.T, b.T).T\n",
    "np.linalg.norm(P0, ord='fro')"
   ]
  },
  {
   "cell_type": "markdown",
   "metadata": {},
   "source": [
    "### Pregunta 4"
   ]
  },
  {
   "cell_type": "markdown",
   "metadata": {},
   "source": [
    "Similar a la pregunta anterior, desarrollaremos el algebra que nos permita resolver $\\tilde{Y} = P(X)$.\n",
    "\n",
    "\\begin{align}\n",
    "    \\tilde{Y} &= P(X)\\\\\n",
    "    \\tilde{Y} &= Y_1(X-X_2)(X_1-X_2)^{-1} + Y_2(X-X_1)(X_2-X_1)^{-1}\\\\\n",
    "    \\tilde{Y} &= Y_1(X-X_2)(X_1-X_2)^{-1} - Y_2(X-X_1)(X_1-X_2)^{-1}\\\\\n",
    "    \\tilde{Y} &= (Y_1(X-X_2) - Y_2(X-X_1))(X_1-X_2)^{-1}\\\\\n",
    "    \\tilde{Y}(X_1-X_2) &= (Y_1(X-X_2) - Y_2(X-X_1))(X_1-X_2)^{-1}(X_1-X_2)\\\\\n",
    "    \\tilde{Y}(X_1-X_2) &= Y_1(X-X_2) - Y_2(X-X_1)\n",
    "\\end{align}\n",
    "\n",
    "Desarrollamos el lado derecho:\n",
    "\\begin{align}\n",
    "    \\tilde{Y}(X_1-X_2) &= Y_1(X-X_2) - Y_2(X-X_1)\\\\\n",
    "    \\tilde{Y}(X_1-X_2) &= Y_1X - Y_1X_2 - Y_2X + Y_2X_1)\\\\\n",
    "    \\tilde{Y}(X_1-X_2) &= (Y_1-Y_2)X - Y_1X_2 + Y_2X_1\n",
    "\\end{align}\n",
    "\n",
    "Despejamos la matriz $X$:\n",
    "\\begin{align}\n",
    "    \\tilde{Y}(X_1-X_2) &= (Y_1-Y_2)X - Y_1X_2 + Y_2X_1\\\\\n",
    "    \\tilde{Y}(X_1-X_2) + Y_1X_2 - Y_2X_1 &= (Y_1-Y_2)X\\\\\n",
    "    (Y_1-Y_2)X &= \\tilde{Y}(X_1-X_2) + Y_1X_2 - Y_2X_1\n",
    "\\end{align}\n",
    "\n",
    "Luego $A = (Y_1-Y_2)$ y $b=\\tilde{Y}(X_1-X_2) + Y_1X_2 + Y_2X_1$"
   ]
  },
  {
   "cell_type": "code",
   "execution_count": 6,
   "metadata": {},
   "outputs": [
    {
     "data": {
      "text/plain": [
       "1178.854274778712"
      ]
     },
     "execution_count": 6,
     "metadata": {},
     "output_type": "execute_result"
    }
   ],
   "source": [
    "A = Y1-Y2\n",
    "b = Yt@(X1-X2)+Y1@X2-Y2@X1\n",
    "X = np.linalg.solve(A, b)\n",
    "np.linalg.norm(X ,ord='fro')"
   ]
  }
 ],
 "metadata": {
  "kernelspec": {
   "display_name": "Python 3",
   "language": "python",
   "name": "python3"
  },
  "language_info": {
   "codemirror_mode": {
    "name": "ipython",
    "version": 3
   },
   "file_extension": ".py",
   "mimetype": "text/x-python",
   "name": "python",
   "nbconvert_exporter": "python",
   "pygments_lexer": "ipython3",
   "version": "3.7.6"
  }
 },
 "nbformat": 4,
 "nbformat_minor": 4
}
