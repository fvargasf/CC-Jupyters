{
 "cells": [
  {
   "cell_type": "markdown",
   "metadata": {},
   "source": [
    "<center>\n",
    "    <img src=\"http://sct.inf.utfsm.cl/wp-content/uploads/2020/04/logo_di.png\" style=\"width:60%\">\n",
    "    <h1> INF285/ILI285 Computación Científica </h1>\n",
    "    <h1> COP-2</h1>\n",
    "</center>\n",
    "\n",
    "## <span style=\"color:blue\">Nombre</span>: Francis Vargas Ferrer\n",
    "\n",
    "## <span style=\"color:blue\">Rol</span>: 201573026-1"
   ]
  },
  {
   "cell_type": "markdown",
   "metadata": {},
   "source": [
    "# Librerías"
   ]
  },
  {
   "cell_type": "code",
   "execution_count": 1,
   "metadata": {
    "collapsed": false,
    "jupyter": {
     "outputs_hidden": false
    }
   },
   "outputs": [],
   "source": [
    "import numpy as np\n",
    "from scipy import linalg as spla"
   ]
  },
  {
   "cell_type": "markdown",
   "metadata": {},
   "source": [
    "# Pregunta 1:"
   ]
  },
  {
   "cell_type": "markdown",
   "metadata": {},
   "source": [
    "## (b)"
   ]
  },
  {
   "cell_type": "code",
   "execution_count": 2,
   "metadata": {
    "collapsed": false,
    "jupyter": {
     "outputs_hidden": false
    }
   },
   "outputs": [],
   "source": [
    "def createA(a,b,c,n):\n",
    "    A = np.zeros((n,n))\n",
    "    for i in range(n):\n",
    "        A[i][i] = a\n",
    "        if i >= 0 and i<n-1:\n",
    "            A[i][i+1] = b\n",
    "        if i > 0:\n",
    "            A[i][i-1] = c\n",
    "    return np.fliplr(A) #Por como se creo la matriz es necesario intercambiar las columnas de izquierda a derecha\n",
    "\n",
    "def getLU(A):\n",
    "    n = A.shape[0]\n",
    "    L = np.identity(n)\n",
    "    for i in range(n-1): #Hacemos G.E\n",
    "        div = A[i+1][i]/A[i][i] #Calculamos la división\n",
    "        #solo se modifican 2 elementos de cada fila por iteración\n",
    "        A[i+1][i] = A[i+1][i] - div*A[i][i]\n",
    "        A[i+1][i+1] = A[i+1][i+1] - div*A[i][i+1]\n",
    "        #Almacenamos el valor usado para hacer 0 en la posicion i+1,i\n",
    "        L[i+1][i] = div\n",
    "    #U es el resultado de G.E\n",
    "    U = A\n",
    "    return L, U\n",
    "\n",
    "def solveSys(a, b, c, n):\n",
    "    #Creamos la matriz B\n",
    "    B = np.ones(n)\n",
    "    for i in range(n):\n",
    "        B[i] = B[i]/(i+1)\n",
    "    B = B[::-1]\n",
    "    \n",
    "    #Creamos A con los parámetros del problema\n",
    "    A = createA(a, b, c, n)\n",
    "    \n",
    "    #Solo para referencia, esta matriz corresponde a intercambiar todas las filas.\n",
    "    # P = np.identity(n)[::-1]\n",
    "    PA = A[::-1]#Utilizamos A con las permutaciones\n",
    "    \n",
    "    #Obtenemos nuestro LU\n",
    "    L, U = getLU(PA)\n",
    "    #Resolvemos LC=B con forward substitution\n",
    "    c = spla.solve_triangular(L, B, lower=True)\n",
    "    \n",
    "    #Resolvemos Ux=C con backward substitution\n",
    "    x = spla.solve_triangular(U, c)\n",
    "    \n",
    "    return x"
   ]
  },
  {
   "cell_type": "markdown",
   "metadata": {},
   "source": [
    "## (c)"
   ]
  },
  {
   "cell_type": "code",
   "execution_count": 3,
   "metadata": {
    "collapsed": false,
    "jupyter": {
     "outputs_hidden": false
    }
   },
   "outputs": [
    {
     "data": {
      "text/plain": [
       "array([3.11633683e-05, 4.33992998e-05, 4.82099131e-05, ...,\n",
       "       4.38180492e-02, 6.13011958e-02, 1.24520478e-01])"
      ]
     },
     "execution_count": 3,
     "metadata": {},
     "output_type": "execute_result"
    }
   ],
   "source": [
    "#Obtenemos x como nos indica el problema\n",
    "x_c = solveSys(10,-4,0.5,3000)\n",
    "x_c"
   ]
  },
  {
   "cell_type": "markdown",
   "metadata": {},
   "source": [
    "## (d)"
   ]
  },
  {
   "cell_type": "code",
   "execution_count": 4,
   "metadata": {
    "collapsed": false,
    "jupyter": {
     "outputs_hidden": false
    }
   },
   "outputs": [
    {
     "data": {
      "text/plain": [
       "True"
      ]
     },
     "execution_count": 4,
     "metadata": {},
     "output_type": "execute_result"
    }
   ],
   "source": [
    "#Asumiendo que nos entregan el vector de x para comprobar\n",
    "def checkResult(a, b, c, n, x):\n",
    "    #Creamos A\n",
    "    A = createA(a,b,c,n)\n",
    "    #Creamos B\n",
    "    B = np.ones(n)\n",
    "    for i in range(n):\n",
    "        B[i] = B[i]/(i+1)\n",
    "    \n",
    "    #Retornamos si Ax = B\n",
    "    return (A@x).all() == B.all()\n",
    "\n",
    "#Comprobamos si los valores de 1_c son correctos\n",
    "checkResult(10,-4,0.5,3000, x_c)"
   ]
  },
  {
   "cell_type": "markdown",
   "metadata": {},
   "source": [
    "# Pregunta 2"
   ]
  },
  {
   "cell_type": "markdown",
   "metadata": {},
   "source": [
    "## (c) "
   ]
  },
  {
   "cell_type": "code",
   "execution_count": 16,
   "metadata": {
    "collapsed": false,
    "jupyter": {
     "outputs_hidden": false
    }
   },
   "outputs": [
    {
     "data": {
      "text/plain": [
       "'33133323323333123333233233233233233233333323323332323323333313331333333333313333313323131323132333331333333333333133312333132323323333331331333133313233333323333313331332332333331333233332333331333133233332333333133123333333333133323333323333333333131333333323331333232332323331333332333333333133331323333233333331333331233332332333233333231333233233333333232333323231333323332313333323132323332313323232333333331333133332333331333333133333123332333333333332323233233333323323331333233331231333233313313333333231323323333313333333333331333332313323333333323323233332333333333313331333233231331332323132331333333332313233231333333323332333333323133323312333333332313333331331333333313323333333333332313332332313332332332333331313333313231333233133231333333323133333231331333231333332333233323333333333333132333333231333333333313313332333313323332333231332323331333313313333333332333333233332313333133333333333313332332333133333333323333332333323323332333313333333313233333333333333231333131333132313331331333231323131332313333132332333323333133313232333333313132313331332333233323133323133333333323333233333333313233231333133332332332313333331333331333331323132333333233333323333333333233313333133332331331333333331323231333312313323313233333331333233233331323231332333313233131323333133313231333233333133133333133333323323132332313233332331323332313333231332333331333313233331333332333231333333312333331332323333233332313333323333323123133333333333332333333313332313333233333231333333333333323333332313333331323132332313333331323333333333233323332333333233313332332333133333332333333333333231333123323132313332323133233233231233333331231323331333233333233333233231333233313323313233333323323233333333132333332323333233233333323332323133132323233231333333333233333233313333332331333331323332333231323132333313331333333331333231332312323231332333231333333323133333331233313333331333333331333231331323323331323331323333332313133333333333333133331333333133333323333233233231323132333323323323133332333313133231333333132333333323332333333333313323332333233333331333332313333323333231331332333333333231333133233233333132333331333333323333331323332313331231333233332332332332313231232332313133131333333313333313231323313333233332333132332313323333333332313331333132312333231333313233313233123333313231333233331233133233232333333323323333333333133332323333133333231333132323323333233233333323313333233323231332333231323233333323233233233233231333332313332323231333231233333332313313333333332313323332333333313332333133333232332333332333333133333333332313312333333333231333323332313233231332312333232332333123233231323331333233332313333333333333332313332323333333333133133333313333323333333323333233332333333332332333323333333133333233313133333333233312333313233333133333333231332333333313333312333123333323323323333332313232333333123332333233331323333333333333231332331333133312313332333333133233333333131331333332313333333231333233233231323332333231323123313331313333133323323333123323133323333231313333332332313333323323323132333333313333323332333233233333132333333332313233232333233333323133131233233323233333233323132331333133313323133333333313331333133233312333333233323133333313331332313331332313313333233123333131333323323133323333233332313333333333132331333133313323333133233231313333232333333323131233332332333333332333333232331331323233331333332333333231333233232333233233333333313233313333333331332333323323133333233323233333333231233133323323313323332333333133323133333333333231333233231323333313233333133133333332333333133333333333233132333232332332333323133323323333133313232333233331332313233333313131233231333323233333333333331323333333333333233312313332333331233331331333231333332313332333331331331332312332332323332333323323333133233331313231333332313333323133233331323331333232333333313333233333333313233323133233333323131333323333233233333323133333313231333133233231323132313333133313333313333133331323133132332313333323331323323133333231323333233312333332313332333333231333133333312333331333333333332331332333333333323133333232333233233233332333333333323323333323133231331323333333323333233133333323231331332332333333333333333323323323333331333133333332332333333313333333333232333323333313331333333331313133231333313332332312333333323132333333233333323133333233231333233331233333231332313233333333333133232333333333131323133333333313333132332313332333313333233232323333231333333323323333233333331333333323333123333332332313333333233233233323231333123333233332333132313333233331333332332313233333233333331333333233233231233323333133231333332312313133323133333233333333323131323333313333333233133231323333332313333333323333333133231333332332331332313313332332333133323333231333332313233333133333333312332313313332333333233233331333233133133232333323333333231333133333333331323333133313331233233333132313232333233323332333313132313333333312333333333231333233233312313312313233333133333233133323233333132313333333231323333133333333332333331331333333133333333323323333233333133323133313323333333133333333333333233331332323333233233332313332313331233233233133332331233332313133232333133233233333333123331332313323133132333133333333312333323131233233333233333123323323323331333332333333333333332333333332332332332333133323323133333333333233333323333232323333133131333233313233133233133332313233332333333333323333233233132333233313233332313333132333313333333332323333233332313333331331332333233233332333131313313233233313333323333233233333331333333333333333313333233133323333313233332333333231333231331333333132333323331333233331331333132313313333333323333333333132333331323233333233332332333333233333133333333323323133333333133323233333233333333332313313233133231333333333133233332333331331331333332333133323313232333333233333333332313333323133133232313133231333332332313313333333233233333332313331331333233233333133231332333313333232333231333332333333313332333323333333333231333323333333231323133323331313323333332313333323132312333233333323331333231323133323333331233333333313323313333323312333331333333333231333331313332333333323333333333323323323333332313332333132323332313331333331323333333323331312333132333133323333333333333333233333323133333313333331333233313333333231333313332313233323233233331313231333233333333333133331333123133133323323133333333133323133333313131333233233332333313323133323132331313323333333313333323313333332333333323233233333323333313131323133323331331333333323133333332313233233331313333333123333233231331231333333333333133333233333333331333131323323333231333332333133333232323333333331332312313233323233333333313133333333313332313231333323133313313332333323233331332331333332333232332332333333323233333232332333233323333333133132333333233333232331231333233313333323133333123333332313333132313231323323333332332331333131323333333332333232332313333331333333133333231332333333132332313323333331313331333332313233333333233333233323132333333133333333332333331323133333333313331323231333331233331323333133332333323333323233332332333333332333133231333133133331313333333333313133233333133333331233232333233333333333323133133233133331233333331333333233123332313331333333331333313123313323123333333232333313323313313231312333333333133313331333231331323323331332333312333332313333333233332313332313231331333333333233233332313332333333133313333333233332313333312333333233333323133123133313132331323133323323333233233332332332333331323333231333332333323133333133233313332313332332333333313332332333131333133333233332332333323323333332333333233233233323332313233331332313333333232313323333333133133331333313332333331333333332333333232332313333323123232333333323333333331323333231333323313333132333232333313333231333332313332332333323333323333133132333333332313331333323232333133231231333233233331332333133133333332332333333333133333233332332331333331333313332332313231333333333333133232333323133132333323333233333333313332331333133333331333133233323333231323133133331333233313323333233323331331333313333333333132333333333333333313323133233331323313133323313323323323323123333323332332333233332333313333231313331333332313233323313332333133133323333332323333331323333333233323332333333133323333313333233332333332333333313313333312331233233332323313333323333231333333333333333333323133323333232332323323331323131333323133233132333333231333233233323233313333323333332313323332333312332313313333313231333333333333233233333333333323133333313233133332332332313233233333313331233333333333233332333333333323333333233323133233333333333331333333332313231333231332312333323333313333333312313331333332313232333313332313233323233233233133333332323332333231332333333333332313333333123323333332313332332333133323333332333313333323333323333333233132332313332313331313231333333133323333332333333333133333332332333333333133333233333331333332313313133333233333333331323333313331332312323333313233233333313333233133333333332333233133323133333332333313333331332313332313333333133333333333333323333133133331333333323333233333323333333333233233332332332332332333333333333233233333333333133323323323333331313332313333133323333233331313233333331233323331333332313233233313312333333231231333233233131333333323232332313333323333333332313323333333333231333333331333313333333313332333323323133133313333313333333313313333333333323132323123331323331323333333133333123333233233323233323313332313332313233323332313233233233233233333333332333323231233233333313323133233323133333331333131333333313332313332333323133231332333333233333323331313323323333313233332313333133323133323332312313233333323133333233333331333332313331233333233333233133332332313333323333323233332333331333333313333231333332332333331333133333132332332333133333331233323333323333333323333333323332312332333333231332333313233133313333323132313333133323333333323323323333333323133333123133323132333233331323333131333233333133333331231333233333333133323233233233333323333231323133233323313333313323123331333333133333333233323132331233332333323123331333333333323312332332313333333332313333233332323132313333331331333333233331333233133323333133231332333133323233333313331331231323313331323331323332313333323332313333323332333333333233313332333323132333332313333332333133331333333323133323133313333331233332333323132313133233331333123333323133323132333333313233332331333333333233333131333232333333133323123333333333333332313313231333333231333313133323133312333323313333333323331333332323233231333123323333233332333323133331323132333323333313233331233313233233231233333333333231331333333323132332323232323323313323323333333333313331233233323333133133323333233233233123333333323333333323331331333332313333133331313323333333132323133231233313323333331313332332313231333333333233332332313332323332333333323332333313333333323133233333323332313333333332332333313333333323333333133233323333332313333331333332313233313231332313331333332313333323133333133332332312333333323333231233231313231333133313333333333333232333332313332313233313333323333323231323323333233333323333333333313313331332313313333333233233332313233233233233333323123233333333332313331331231333313333233232313233233313133233233333132332312333231332323333233333332333231331233323332312333233313323133333233313333333323333133132332331233332333331312323233333333333312313332333323323313323333133233331332333333233331333323333233333323333333333233231323133323123323123323333332313323333323233323133333333333232323333333313331333233313232333313313233231231233333133323323323333333233331323133323333313313331333323323133332333231331233333132323333332313133331233233331333323133333332333133333231332313132332313332333331333332332313333233333123133133333231331333231333333332333231323323331333332333133323331333333233313323331333333323331313323332333231333333133323333332332333131333323333233332313333132332333323133323133323313333233233333133313333332333133333123333333133313323133323333323333323323333233123133333323233333323333333323233333313332313333333323231323133231332313313133233333132333323333233332333333231332333313331323231332333333133132313323333132333323333313233333333333331323323331333333333332313233323333312313333333231323333313333333333323313233133331233323323333333233333323313233323332313323333323333332333132333333233233313332333313132333323323333233133333333333332323323323133323131333312313233332313333132333233323332333233333333323231331333313333323333233332333323323331323323133233133333333331333313233332313331333323233323333333333133333331331323323333333323133333231331233333233133233323233332332332333333332333323133333233333333332333323133323323313333333331333233332331313313331313233312333333231313233331332333333233233333333333133333233323333333313333323323323233313333333133332323133333333232333323233323331313323133232332333333233332313233133333123333333333333323233333313331333332313313332313333333233233233333331333233233333233132333323133323333332333333233233233332333233132333333231333233333132333312323333323133333333333333331333332332323332332332332313313332313333333232313331333313333132333333313233332332332331333323333313333333333133333333333133313133332313323333133323133332313323133323323133313333331231333323313323333323323133331333332333323233133323323333332332331233333333231323333123333332333231333323333233233332333332313123332332332332333133132332333323331323233133133333233333332323133323123132323333333232313333133323233323332313133133333233333323133323333323333132312333333333233313332333'"
      ]
     },
     "execution_count": 16,
     "metadata": {},
     "output_type": "execute_result"
    }
   ],
   "source": [
    "# Aquí se carga la matriz F definida en la pregunta 2.\n",
    "F = np.load(\"f.npy\")\n",
    "m, n2 = F.shape\n",
    "n = int(np.sqrt(n2))\n",
    "\n",
    "def checkSymmetric(A):\n",
    "    #Checamos si es simetrica con el metodo array equal de np\n",
    "    return np.array_equal(A, A.T)\n",
    "\n",
    "def checkDiagDom(A):\n",
    "    n = A.shape[0]\n",
    "    #Recorremos la matriz por filas\n",
    "    for i in range(n):\n",
    "        a_ii = abs(A[i][i])\n",
    "        #Calculamos la suma de los elementos que no son parte de la diagonal\n",
    "        suma = np.sum(np.absolute(A[i]))-a_ii\n",
    "        #Comprobamos si no se cumple la definición para la fila i\n",
    "        if a_ii < suma:\n",
    "            return False\n",
    "    return True\n",
    "\n",
    "def checkPosDef(A):\n",
    "    n = A.shape[0]\n",
    "    #Calculamos las menores principales, las matrices tienen tamaños desde 1x1 hasta nxn\n",
    "    for i in range(n):\n",
    "        det = np.linalg.det(A[0:i+1,0:i+1])\n",
    "        #Si un determinante es menor o igual 0, entonces no es definida positiva\n",
    "        if det <= 0:\n",
    "            return False\n",
    "    return True\n",
    "\n",
    "#Creamos m matrices donde cada una es A_i\n",
    "#Codigo sacado de la tarea 2 para la recomposicion del gif\n",
    "As = np.zeros((m,n,n))\n",
    "for a in range(m):\n",
    "    for row in range(n):\n",
    "        for col in range(n):\n",
    "            As[a][row][col] = F[a][n*row + col]\n",
    "\n",
    "\n",
    "code = ''\n",
    "\n",
    "#comprobamos cada matriz\n",
    "for i in range(m):\n",
    "    #Checamos si la matriz es simetrica\n",
    "    isSymetric = checkSymmetric(As[i])\n",
    "    #Si es simetrica puede tener etiqueta 1,2 o 3\n",
    "    if isSymetric:\n",
    "        isDiagDom = checkDiagDom(As[i])\n",
    "        isPosDef = checkPosDef(As[i])\n",
    "        #Si la matriz es positiva definida y a la vez diagonal dominante, entonces tiene descodificación 1\n",
    "        if isPosDef and isDiagDom:\n",
    "            code = code + '1'\n",
    "        #Si la matriz es positiva definida y no es diagonal dominante, entonces se añade al codigo un 2\n",
    "        elif isPosDef and isDiagDom == False:\n",
    "            code = code + '2'\n",
    "        else:\n",
    "            code = code + '3'\n",
    "    #Si no, tiene etiqueta 3\n",
    "    else:\n",
    "        code = code + '3'\n",
    "code"
   ]
  },
  {
   "cell_type": "markdown",
   "metadata": {},
   "source": [
    "# Pregunta 3:"
   ]
  },
  {
   "cell_type": "code",
   "execution_count": 6,
   "metadata": {
    "collapsed": false,
    "jupyter": {
     "outputs_hidden": false
    }
   },
   "outputs": [],
   "source": [
    "def bisymmetric(n):\n",
    "    np.random.seed(123)\n",
    "    J = np.eye(n)[::-1]\n",
    "    A = np.random.random((n, n))\n",
    "    A = np.dot(A.T, A) / n ** 2\n",
    "    A = np.dot(A, J) + np.dot(J, A)\n",
    "    return A"
   ]
  },
  {
   "cell_type": "code",
   "execution_count": 7,
   "metadata": {
    "collapsed": false,
    "jupyter": {
     "outputs_hidden": false
    }
   },
   "outputs": [],
   "source": [
    "def bisymmetricZ(n):\n",
    "    A = bisymmetric(n)\n",
    "    A = np.max(np.abs(np.diag(A))) * np.eye(n) - A\n",
    "    return A"
   ]
  },
  {
   "cell_type": "code",
   "execution_count": 8,
   "metadata": {
    "collapsed": false,
    "jupyter": {
     "outputs_hidden": false
    }
   },
   "outputs": [],
   "source": [
    "def bisymmetricZDD(n, delta):\n",
    "    A = bisymmetricZ(n)\n",
    "    A -= np.diag(np.diag(A))\n",
    "    C = np.diag(np.abs(np.sum(A, axis=1)))\n",
    "    A += C + delta * np.eye(n)\n",
    "    return A"
   ]
  },
  {
   "cell_type": "code",
   "execution_count": 9,
   "metadata": {
    "collapsed": false,
    "jupyter": {
     "outputs_hidden": false
    }
   },
   "outputs": [],
   "source": [
    "def generateSystem(n, delta=None):\n",
    "    if delta == None: # Generacion de A para la pregunta (b)\n",
    "        A = bisymmetricZ(n)\n",
    "    else:\n",
    "        A = bisymmetricZDD(n, delta) # Generacion de A para la pregunta (d) y (e)\n",
    "    b = np.dot(A, np.ones(n))\n",
    "    return A, b # Sistema de ecuaciones lineales"
   ]
  },
  {
   "cell_type": "markdown",
   "metadata": {},
   "source": [
    "## (b)"
   ]
  },
  {
   "cell_type": "code",
   "execution_count": 10,
   "metadata": {
    "collapsed": false,
    "jupyter": {
     "outputs_hidden": false
    }
   },
   "outputs": [],
   "source": [
    "def algoritmo1(A, b): # Incluir los parametros que requiera\n",
    "    # Implemente su algoritmo aqui\n",
    "    P, L, U = spla.lu(A)\n",
    "    Pb = np.dot(P, b)\n",
    "    c = spla.solve_triangular(L, Pb, lower=True)\n",
    "    x = spla.solve_triangular(U, c)\n",
    "    return x"
   ]
  },
  {
   "cell_type": "markdown",
   "metadata": {},
   "source": [
    "## (d)"
   ]
  },
  {
   "cell_type": "code",
   "execution_count": 11,
   "metadata": {
    "collapsed": false,
    "jupyter": {
     "outputs_hidden": false
    }
   },
   "outputs": [],
   "source": [
    "def algoritmo2(A, b, n_iter=5000, tol=1e-8, delta=None): # Incluir los parametros que requiera\n",
    "    L = np.zeros(A.shape)\n",
    "    D = np.zeros(A.shape)\n",
    "    U = np.zeros(A.shape)\n",
    "    for i in range(A.shape[0]):\n",
    "        for j in range(A.shape[1]):\n",
    "            if i > j:\n",
    "                L[i][j] = A[i][j]\n",
    "            elif i < j:\n",
    "                U[i][j] = A[i][j]\n",
    "            else:\n",
    "                D[i][j] = A[i][j]\n",
    "                \n",
    "    xs = np.zeros((A.shape[0],b.shape[0]))\n",
    "    LD = L+D\n",
    "    LD_i = np.linalg.inv(LD)\n",
    "    f = lambda x, LD_i, A, b: x + LD_i@(b-A@x)\n",
    "    for i in range(1,n_iter):\n",
    "        xs[i] = f(xs[i-1], LD_i, A, b)\n",
    "        if np.linalg.norm(b-A@xs[i], ord=2)/np.linalg.norm(b, ord=2) <= tol:\n",
    "            return xs[i]\n",
    "    return xs[n_iter-1]"
   ]
  },
  {
   "cell_type": "markdown",
   "metadata": {},
   "source": [
    "## (e)"
   ]
  },
  {
   "cell_type": "markdown",
   "metadata": {},
   "source": [
    "Para calcular tiempos puede hacer uso de la siguiente función, donde el output corresponde a un objeto con la información del experimento:"
   ]
  },
  {
   "cell_type": "code",
   "execution_count": 12,
   "metadata": {
    "collapsed": false,
    "jupyter": {
     "outputs_hidden": false
    }
   },
   "outputs": [
    {
     "name": "stdout",
     "output_type": "stream",
     "text": [
      "172 µs ± 3.94 µs per loop (mean ± std. dev. of 7 runs, 10000 loops each)\n",
      "7.14 ms ± 519 µs per loop (mean ± std. dev. of 7 runs, 100 loops each)\n",
      "169 µs ± 4.19 µs per loop (mean ± std. dev. of 7 runs, 1000 loops each)\n",
      "6.2 ms ± 761 µs per loop (mean ± std. dev. of 7 runs, 100 loops each)\n",
      "166 µs ± 4.93 µs per loop (mean ± std. dev. of 7 runs, 1000 loops each)\n",
      "5.78 ms ± 397 µs per loop (mean ± std. dev. of 7 runs, 100 loops each)\n",
      "166 µs ± 2.36 µs per loop (mean ± std. dev. of 7 runs, 1000 loops each)\n",
      "6.51 ms ± 668 µs per loop (mean ± std. dev. of 7 runs, 100 loops each)\n",
      "170 µs ± 10.6 µs per loop (mean ± std. dev. of 7 runs, 1000 loops each)\n",
      "6.48 ms ± 479 µs per loop (mean ± std. dev. of 7 runs, 100 loops each)\n",
      "165 µs ± 1.78 µs per loop (mean ± std. dev. of 7 runs, 1000 loops each)\n",
      "5.99 ms ± 363 µs per loop (mean ± std. dev. of 7 runs, 100 loops each)\n",
      "182 µs ± 24.4 µs per loop (mean ± std. dev. of 7 runs, 10000 loops each)\n",
      "6.49 ms ± 525 µs per loop (mean ± std. dev. of 7 runs, 100 loops each)\n",
      "205 µs ± 58.5 µs per loop (mean ± std. dev. of 7 runs, 1000 loops each)\n",
      "6.33 ms ± 268 µs per loop (mean ± std. dev. of 7 runs, 100 loops each)\n",
      "166 µs ± 2.68 µs per loop (mean ± std. dev. of 7 runs, 1000 loops each)\n",
      "6.32 ms ± 355 µs per loop (mean ± std. dev. of 7 runs, 100 loops each)\n",
      "173 µs ± 5.16 µs per loop (mean ± std. dev. of 7 runs, 10000 loops each)\n",
      "6.79 ms ± 624 µs per loop (mean ± std. dev. of 7 runs, 100 loops each)\n",
      "166 µs ± 811 ns per loop (mean ± std. dev. of 7 runs, 1000 loops each)\n",
      "6.23 ms ± 566 µs per loop (mean ± std. dev. of 7 runs, 100 loops each)\n",
      "164 µs ± 2 µs per loop (mean ± std. dev. of 7 runs, 1000 loops each)\n",
      "6.11 ms ± 505 µs per loop (mean ± std. dev. of 7 runs, 100 loops each)\n",
      "168 µs ± 4.4 µs per loop (mean ± std. dev. of 7 runs, 10000 loops each)\n",
      "6.81 ms ± 451 µs per loop (mean ± std. dev. of 7 runs, 100 loops each)\n",
      "166 µs ± 2.84 µs per loop (mean ± std. dev. of 7 runs, 1000 loops each)\n",
      "6.07 ms ± 395 µs per loop (mean ± std. dev. of 7 runs, 100 loops each)\n",
      "166 µs ± 2.42 µs per loop (mean ± std. dev. of 7 runs, 10000 loops each)\n",
      "6.19 ms ± 261 µs per loop (mean ± std. dev. of 7 runs, 100 loops each)\n",
      "165 µs ± 2.36 µs per loop (mean ± std. dev. of 7 runs, 1000 loops each)\n",
      "6.5 ms ± 660 µs per loop (mean ± std. dev. of 7 runs, 100 loops each)\n",
      "165 µs ± 1.02 µs per loop (mean ± std. dev. of 7 runs, 10000 loops each)\n",
      "6.44 ms ± 675 µs per loop (mean ± std. dev. of 7 runs, 100 loops each)\n",
      "167 µs ± 2.52 µs per loop (mean ± std. dev. of 7 runs, 10000 loops each)\n",
      "6.25 ms ± 259 µs per loop (mean ± std. dev. of 7 runs, 100 loops each)\n",
      "164 µs ± 1.45 µs per loop (mean ± std. dev. of 7 runs, 1000 loops each)\n",
      "5.83 ms ± 229 µs per loop (mean ± std. dev. of 7 runs, 100 loops each)\n",
      "167 µs ± 2.32 µs per loop (mean ± std. dev. of 7 runs, 10000 loops each)\n",
      "6.01 ms ± 267 µs per loop (mean ± std. dev. of 7 runs, 100 loops each)\n",
      "7.5 ms ± 291 µs per loop (mean ± std. dev. of 7 runs, 100 loops each)\n",
      "159 ms ± 15.1 ms per loop (mean ± std. dev. of 7 runs, 10 loops each)\n",
      "8.18 ms ± 692 µs per loop (mean ± std. dev. of 7 runs, 100 loops each)\n",
      "176 ms ± 22.3 ms per loop (mean ± std. dev. of 7 runs, 10 loops each)\n",
      "7.78 ms ± 106 µs per loop (mean ± std. dev. of 7 runs, 100 loops each)\n",
      "165 ms ± 10.5 ms per loop (mean ± std. dev. of 7 runs, 10 loops each)\n",
      "7.91 ms ± 641 µs per loop (mean ± std. dev. of 7 runs, 100 loops each)\n",
      "150 ms ± 3.31 ms per loop (mean ± std. dev. of 7 runs, 10 loops each)\n",
      "7.52 ms ± 481 µs per loop (mean ± std. dev. of 7 runs, 100 loops each)\n",
      "148 ms ± 3.71 ms per loop (mean ± std. dev. of 7 runs, 10 loops each)\n",
      "7.33 ms ± 259 µs per loop (mean ± std. dev. of 7 runs, 100 loops each)\n",
      "156 ms ± 9.6 ms per loop (mean ± std. dev. of 7 runs, 10 loops each)\n",
      "7.32 ms ± 153 µs per loop (mean ± std. dev. of 7 runs, 100 loops each)\n",
      "157 ms ± 8.54 ms per loop (mean ± std. dev. of 7 runs, 10 loops each)\n",
      "7.67 ms ± 551 µs per loop (mean ± std. dev. of 7 runs, 100 loops each)\n",
      "160 ms ± 7.1 ms per loop (mean ± std. dev. of 7 runs, 10 loops each)\n",
      "7.37 ms ± 192 µs per loop (mean ± std. dev. of 7 runs, 100 loops each)\n",
      "175 ms ± 10.9 ms per loop (mean ± std. dev. of 7 runs, 10 loops each)\n",
      "7.78 ms ± 555 µs per loop (mean ± std. dev. of 7 runs, 100 loops each)\n",
      "151 ms ± 3.38 ms per loop (mean ± std. dev. of 7 runs, 10 loops each)\n",
      "7.3 ms ± 466 µs per loop (mean ± std. dev. of 7 runs, 100 loops each)\n",
      "165 ms ± 9.9 ms per loop (mean ± std. dev. of 7 runs, 10 loops each)\n",
      "7.29 ms ± 124 µs per loop (mean ± std. dev. of 7 runs, 100 loops each)\n",
      "161 ms ± 7.91 ms per loop (mean ± std. dev. of 7 runs, 10 loops each)\n",
      "7.64 ms ± 782 µs per loop (mean ± std. dev. of 7 runs, 100 loops each)\n",
      "177 ms ± 4.88 ms per loop (mean ± std. dev. of 7 runs, 10 loops each)\n",
      "8.58 ms ± 854 µs per loop (mean ± std. dev. of 7 runs, 100 loops each)\n",
      "166 ms ± 9.91 ms per loop (mean ± std. dev. of 7 runs, 10 loops each)\n",
      "8.2 ms ± 501 µs per loop (mean ± std. dev. of 7 runs, 100 loops each)\n",
      "161 ms ± 8.66 ms per loop (mean ± std. dev. of 7 runs, 10 loops each)\n",
      "8.73 ms ± 715 µs per loop (mean ± std. dev. of 7 runs, 100 loops each)\n",
      "163 ms ± 8.75 ms per loop (mean ± std. dev. of 7 runs, 10 loops each)\n",
      "7.58 ms ± 272 µs per loop (mean ± std. dev. of 7 runs, 100 loops each)\n",
      "157 ms ± 11.7 ms per loop (mean ± std. dev. of 7 runs, 10 loops each)\n",
      "7.25 ms ± 260 µs per loop (mean ± std. dev. of 7 runs, 100 loops each)\n",
      "160 ms ± 8.02 ms per loop (mean ± std. dev. of 7 runs, 10 loops each)\n",
      "7.79 ms ± 343 µs per loop (mean ± std. dev. of 7 runs, 100 loops each)\n",
      "155 ms ± 6.53 ms per loop (mean ± std. dev. of 7 runs, 10 loops each)\n",
      "7.86 ms ± 497 µs per loop (mean ± std. dev. of 7 runs, 100 loops each)\n",
      "180 ms ± 33.5 ms per loop (mean ± std. dev. of 7 runs, 10 loops each)\n",
      "47.5 ms ± 10 ms per loop (mean ± std. dev. of 7 runs, 10 loops each)\n",
      "596 ms ± 6.75 ms per loop (mean ± std. dev. of 7 runs, 1 loop each)\n",
      "35.3 ms ± 1.79 ms per loop (mean ± std. dev. of 7 runs, 10 loops each)\n",
      "586 ms ± 30.9 ms per loop (mean ± std. dev. of 7 runs, 1 loop each)\n",
      "35.9 ms ± 1.19 ms per loop (mean ± std. dev. of 7 runs, 10 loops each)\n",
      "572 ms ± 19 ms per loop (mean ± std. dev. of 7 runs, 1 loop each)\n",
      "38.9 ms ± 1.69 ms per loop (mean ± std. dev. of 7 runs, 10 loops each)\n",
      "589 ms ± 29 ms per loop (mean ± std. dev. of 7 runs, 1 loop each)\n",
      "37.2 ms ± 988 µs per loop (mean ± std. dev. of 7 runs, 10 loops each)\n",
      "578 ms ± 8.35 ms per loop (mean ± std. dev. of 7 runs, 1 loop each)\n",
      "34.5 ms ± 1.2 ms per loop (mean ± std. dev. of 7 runs, 10 loops each)\n",
      "579 ms ± 21.7 ms per loop (mean ± std. dev. of 7 runs, 1 loop each)\n",
      "35.7 ms ± 995 µs per loop (mean ± std. dev. of 7 runs, 10 loops each)\n",
      "569 ms ± 13.4 ms per loop (mean ± std. dev. of 7 runs, 1 loop each)\n",
      "34.3 ms ± 1.06 ms per loop (mean ± std. dev. of 7 runs, 10 loops each)\n",
      "587 ms ± 22.2 ms per loop (mean ± std. dev. of 7 runs, 1 loop each)\n",
      "35.2 ms ± 1.76 ms per loop (mean ± std. dev. of 7 runs, 10 loops each)\n",
      "580 ms ± 33.1 ms per loop (mean ± std. dev. of 7 runs, 1 loop each)\n",
      "35.2 ms ± 1.17 ms per loop (mean ± std. dev. of 7 runs, 10 loops each)\n",
      "591 ms ± 17.5 ms per loop (mean ± std. dev. of 7 runs, 1 loop each)\n",
      "34.3 ms ± 1.04 ms per loop (mean ± std. dev. of 7 runs, 10 loops each)\n",
      "582 ms ± 20.4 ms per loop (mean ± std. dev. of 7 runs, 1 loop each)\n",
      "34.7 ms ± 863 µs per loop (mean ± std. dev. of 7 runs, 10 loops each)\n",
      "575 ms ± 26 ms per loop (mean ± std. dev. of 7 runs, 1 loop each)\n",
      "34.5 ms ± 1.05 ms per loop (mean ± std. dev. of 7 runs, 10 loops each)\n",
      "563 ms ± 14.1 ms per loop (mean ± std. dev. of 7 runs, 1 loop each)\n",
      "35.2 ms ± 2.84 ms per loop (mean ± std. dev. of 7 runs, 10 loops each)\n",
      "569 ms ± 17.4 ms per loop (mean ± std. dev. of 7 runs, 1 loop each)\n",
      "34.9 ms ± 1.71 ms per loop (mean ± std. dev. of 7 runs, 10 loops each)\n",
      "569 ms ± 11.2 ms per loop (mean ± std. dev. of 7 runs, 1 loop each)\n",
      "36.2 ms ± 4.35 ms per loop (mean ± std. dev. of 7 runs, 10 loops each)\n",
      "571 ms ± 13 ms per loop (mean ± std. dev. of 7 runs, 1 loop each)\n",
      "37.6 ms ± 1.6 ms per loop (mean ± std. dev. of 7 runs, 10 loops each)\n",
      "562 ms ± 14.1 ms per loop (mean ± std. dev. of 7 runs, 1 loop each)\n",
      "33.5 ms ± 1.34 ms per loop (mean ± std. dev. of 7 runs, 10 loops each)\n",
      "567 ms ± 9.71 ms per loop (mean ± std. dev. of 7 runs, 1 loop each)\n",
      "37.4 ms ± 1.5 ms per loop (mean ± std. dev. of 7 runs, 10 loops each)\n",
      "564 ms ± 21.1 ms per loop (mean ± std. dev. of 7 runs, 1 loop each)\n",
      "34.5 ms ± 1.49 ms per loop (mean ± std. dev. of 7 runs, 10 loops each)\n",
      "555 ms ± 9.43 ms per loop (mean ± std. dev. of 7 runs, 1 loop each)\n",
      "179 ms ± 4.72 ms per loop (mean ± std. dev. of 7 runs, 10 loops each)\n",
      "2.34 s ± 32.8 ms per loop (mean ± std. dev. of 7 runs, 1 loop each)\n",
      "173 ms ± 7.9 ms per loop (mean ± std. dev. of 7 runs, 10 loops each)\n",
      "2.35 s ± 42.7 ms per loop (mean ± std. dev. of 7 runs, 1 loop each)\n",
      "172 ms ± 6.44 ms per loop (mean ± std. dev. of 7 runs, 10 loops each)\n",
      "2.37 s ± 33.5 ms per loop (mean ± std. dev. of 7 runs, 1 loop each)\n",
      "176 ms ± 9.3 ms per loop (mean ± std. dev. of 7 runs, 1 loop each)\n",
      "2.4 s ± 76.4 ms per loop (mean ± std. dev. of 7 runs, 1 loop each)\n",
      "198 ms ± 6.67 ms per loop (mean ± std. dev. of 7 runs, 10 loops each)\n",
      "2.36 s ± 77.9 ms per loop (mean ± std. dev. of 7 runs, 1 loop each)\n",
      "183 ms ± 13.5 ms per loop (mean ± std. dev. of 7 runs, 10 loops each)\n",
      "2.41 s ± 48.9 ms per loop (mean ± std. dev. of 7 runs, 1 loop each)\n",
      "191 ms ± 5.08 ms per loop (mean ± std. dev. of 7 runs, 10 loops each)\n",
      "2.34 s ± 46.5 ms per loop (mean ± std. dev. of 7 runs, 1 loop each)\n",
      "177 ms ± 6.23 ms per loop (mean ± std. dev. of 7 runs, 10 loops each)\n",
      "2.35 s ± 28.9 ms per loop (mean ± std. dev. of 7 runs, 1 loop each)\n",
      "181 ms ± 3.22 ms per loop (mean ± std. dev. of 7 runs, 10 loops each)\n",
      "2.31 s ± 30.4 ms per loop (mean ± std. dev. of 7 runs, 1 loop each)\n",
      "190 ms ± 14 ms per loop (mean ± std. dev. of 7 runs, 10 loops each)\n",
      "2.32 s ± 30.1 ms per loop (mean ± std. dev. of 7 runs, 1 loop each)\n",
      "176 ms ± 6.54 ms per loop (mean ± std. dev. of 7 runs, 10 loops each)\n",
      "2.31 s ± 43.8 ms per loop (mean ± std. dev. of 7 runs, 1 loop each)\n",
      "180 ms ± 10.4 ms per loop (mean ± std. dev. of 7 runs, 10 loops each)\n",
      "2.37 s ± 77.4 ms per loop (mean ± std. dev. of 7 runs, 1 loop each)\n",
      "186 ms ± 10.1 ms per loop (mean ± std. dev. of 7 runs, 10 loops each)\n",
      "2.4 s ± 180 ms per loop (mean ± std. dev. of 7 runs, 1 loop each)\n",
      "175 ms ± 5.45 ms per loop (mean ± std. dev. of 7 runs, 10 loops each)\n",
      "2.34 s ± 30.7 ms per loop (mean ± std. dev. of 7 runs, 1 loop each)\n",
      "183 ms ± 7.17 ms per loop (mean ± std. dev. of 7 runs, 10 loops each)\n",
      "2.35 s ± 38 ms per loop (mean ± std. dev. of 7 runs, 1 loop each)\n",
      "186 ms ± 9.9 ms per loop (mean ± std. dev. of 7 runs, 10 loops each)\n",
      "2.46 s ± 96.4 ms per loop (mean ± std. dev. of 7 runs, 1 loop each)\n",
      "186 ms ± 11.8 ms per loop (mean ± std. dev. of 7 runs, 10 loops each)\n",
      "2.35 s ± 76.4 ms per loop (mean ± std. dev. of 7 runs, 1 loop each)\n",
      "178 ms ± 11.3 ms per loop (mean ± std. dev. of 7 runs, 10 loops each)\n",
      "2.32 s ± 79.5 ms per loop (mean ± std. dev. of 7 runs, 1 loop each)\n",
      "182 ms ± 8.47 ms per loop (mean ± std. dev. of 7 runs, 10 loops each)\n",
      "2.45 s ± 134 ms per loop (mean ± std. dev. of 7 runs, 1 loop each)\n",
      "200 ms ± 8.81 ms per loop (mean ± std. dev. of 7 runs, 10 loops each)\n",
      "2.41 s ± 83.1 ms per loop (mean ± std. dev. of 7 runs, 1 loop each)\n"
     ]
    }
   ],
   "source": [
    "ns = np.array([100, 500, 1000, 2000])\n",
    "delta = np.array([i+1 for i in range(100000)])\n",
    "delta_opt = []\n",
    "for i in range(ns.shape[0]):    \n",
    "    for j in range(delta.shape[0]):\n",
    "        A, b = generateSystem(ns[i], delta=delta[j])\n",
    "        t1 = %timeit -o algoritmo1(A, b)\n",
    "        t2 = %timeit -o algoritmo2(A, b)\n",
    "        if t1.average >= t2.average:\n",
    "            delta_opt.append(delta[j])\n",
    "            print(\"Delta_%d:\"%(i), delta[j])\n",
    "            break"
   ]
  },
  {
   "cell_type": "markdown",
   "metadata": {},
   "source": [
    "El tiempo promedio obtenido por la función se obtiene de la forma que se indica a continuación:"
   ]
  },
  {
   "cell_type": "code",
   "execution_count": 15,
   "metadata": {},
   "outputs": [
    {
     "data": {
      "text/plain": [
       "0.20014780142857294"
      ]
     },
     "execution_count": 15,
     "metadata": {},
     "output_type": "execute_result"
    }
   ],
   "source": [
    "t1.average"
   ]
  },
  {
   "cell_type": "markdown",
   "metadata": {},
   "source": [
    "## <span style=\"color:red\">Recuerde incluir su <em>Declaración de Trabajo Individual</em> en su PDF de las respuestas de la parte teórica</span>."
   ]
  },
  {
   "cell_type": "markdown",
   "metadata": {
    "jupyter": {
     "outputs_hidden": false
    }
   },
   "source": [
    "# Bibliografía\n",
    "\n",
    "El código usado para resolver sistemas de ecuaciones utilizando PA=LU se sacó del desafío 2, el cual se encuentra en https://github.com/sct-utfsm/INF-285/blob/master/desafios/desafio_2.ipynb"
   ]
  }
 ],
 "metadata": {
  "kernelspec": {
   "display_name": "Python 3",
   "language": "python",
   "name": "python3"
  },
  "language_info": {
   "codemirror_mode": {
    "name": "ipython",
    "version": 3
   },
   "file_extension": ".py",
   "mimetype": "text/x-python",
   "name": "python",
   "nbconvert_exporter": "python",
   "pygments_lexer": "ipython3",
   "version": "3.7.6"
  }
 },
 "nbformat": 4,
 "nbformat_minor": 4
}
