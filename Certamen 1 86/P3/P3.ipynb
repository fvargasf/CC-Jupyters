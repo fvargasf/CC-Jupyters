{
 "cells": [
  {
   "cell_type": "markdown",
   "metadata": {},
   "source": [
    "<center>\n",
    "    <img src=\"http://sct.inf.utfsm.cl/wp-content/uploads/2020/04/logo_di.png\" style=\"width:60%\">\n",
    "    <h1> INF285/ILI285 Computación Científica </h1>\n",
    "    <h1> COP-1</h1>\n",
    "</center>\n",
    "\n",
    "Nombre: Francis Vargas Ferrer\n",
    "\n",
    "Rol: 201573026-1"
   ]
  },
  {
   "cell_type": "code",
   "execution_count": 1,
   "metadata": {},
   "outputs": [],
   "source": [
    "#importamos librerias\n",
    "import numpy as np"
   ]
  },
  {
   "cell_type": "markdown",
   "metadata": {},
   "source": [
    "# Pregunta 3:"
   ]
  },
  {
   "cell_type": "markdown",
   "metadata": {},
   "source": [
    "## (b)"
   ]
  },
  {
   "cell_type": "code",
   "execution_count": 2,
   "metadata": {
    "collapsed": false,
    "jupyter": {
     "outputs_hidden": false
    }
   },
   "outputs": [],
   "source": [
    "#Usamos la formula entregada en el apunte.\n",
    "#Usamos newton-raphson por la convergencia cuadratica.\n",
    "def find_v0(b, b_p, b_pp, y, y_p, y_pp, t_0, n_iter):\n",
    "    v = lambda t: b(t) + b_p(t)*t + t*y_p(t) + 0.5*(t**2)*y_p(t)\n",
    "    v_p = lambda t: 2*b_p(t) + b_pp(t)*t + y_p(t) + 2*t*y_p(t) + (0.5)*(t**2)*y_pp(t)\n",
    "    roots = np.zeros(n_iter+1)\n",
    "    roots[0] = t_0\n",
    "    for i in range(n_iter):\n",
    "        roots[i+1] = roots[i] - v(roots[i])/v_p(roots[i])\n",
    "    return roots"
   ]
  },
  {
   "cell_type": "markdown",
   "metadata": {},
   "source": [
    "## (c)"
   ]
  },
  {
   "cell_type": "markdown",
   "metadata": {},
   "source": [
    "### 1."
   ]
  },
  {
   "cell_type": "code",
   "execution_count": 11,
   "metadata": {
    "collapsed": false,
    "jupyter": {
     "outputs_hidden": false
    }
   },
   "outputs": [
    {
     "data": {
      "text/plain": [
       "array([1.5       , 0.76862638, 0.77092646, 0.77089176, 0.77089216,\n",
       "       0.77089216])"
      ]
     },
     "execution_count": 11,
     "metadata": {},
     "output_type": "execute_result"
    }
   ],
   "source": [
    "b = lambda t: 2*np.sin(2*np.pi*t) + t**2\n",
    "b_p = lambda t: 2*t + 4*np.pi*np.cos(2*np.pi*t)\n",
    "b_pp = lambda t: 2-8*(np.pi**2)*np.sin(2*np.pi*t)\n",
    "\n",
    "y = lambda t: -t\n",
    "y_p = lambda t: -1\n",
    "y_pp = lambda t: 0\n",
    "\n",
    "find_v0(b, b_p, b_pp, y, y_p, y_pp, 1.5, 5)"
   ]
  },
  {
   "cell_type": "markdown",
   "metadata": {},
   "source": [
    "### 2."
   ]
  },
  {
   "cell_type": "code",
   "execution_count": 18,
   "metadata": {
    "collapsed": false,
    "jupyter": {
     "outputs_hidden": false
    }
   },
   "outputs": [
    {
     "name": "stdout",
     "output_type": "stream",
     "text": [
      "e_i/e_{i+1} | e_i/e_{i+1}^2\n",
      "0.0 | 0.0\n",
      "0.0 | 0.0\n",
      "0.0031448765134475 | 0.004299958883574671\n",
      "0.015084598900522576 | 6.558293905212451\n",
      "0.011680974117992217 | 336.668437546736\n",
      "0.011731098399783918 | 28945.626761349587\n",
      "0.011730514258717217 | 2467303.9513973384\n"
     ]
    }
   ],
   "source": [
    "values = find_v0(b, b_p, b_pp, y, y_p, y_pp, 1.5, 10)\n",
    "\n",
    "error = np.zeros(len(values)-2)\n",
    "tasa1 = np.zeros(len(error)-2)\n",
    "tasa2 = np.zeros(len(error)-2)\n",
    "\n",
    "for i in range(1,len(values)-2):\n",
    "    error[i] = abs(values[i-1]-values[i])\n",
    "    \n",
    "for i in range(1,len(tasa1)-1):\n",
    "    if(error[i] != 0):\n",
    "        tasa1[i+1] = error[i+1]/error[i]\n",
    "        tasa2[i+1] = error[i+1]/error[i]**2\n",
    "    else:\n",
    "        tasa1[i+1] = np.nan\n",
    "        tasa2[i+1] = np.nan\n",
    "\n",
    "print(\"e_i/e_{i+1} | e_i/e_{i+1}^2\")\n",
    "for i in range(len(tasa1)):\n",
    "    print(tasa1[i], \"|\", tasa2[i])"
   ]
  },
  {
   "cell_type": "markdown",
   "metadata": {},
   "source": [
    "## (d)"
   ]
  },
  {
   "cell_type": "markdown",
   "metadata": {},
   "source": [
    "### 1."
   ]
  },
  {
   "cell_type": "code",
   "execution_count": 19,
   "metadata": {
    "collapsed": false,
    "jupyter": {
     "outputs_hidden": false
    }
   },
   "outputs": [
    {
     "data": {
      "text/plain": [
       "array([ 2.5       ,  0.92925757,  0.51641771,  1.0236989 , -0.37986509,\n",
       "        0.2046581 ,  2.64064616,  2.67134773,  2.66965256,  2.6695982 ,\n",
       "        2.66959668,  2.66959663,  2.66959663,  2.66959663,  2.66959663,\n",
       "        2.66959663])"
      ]
     },
     "execution_count": 19,
     "metadata": {},
     "output_type": "execute_result"
    }
   ],
   "source": [
    "b = lambda t: 27-27*t + 9*t**2 - t**3\n",
    "b = lambda t: -27 + 18*t - 3*t**2\n",
    "b = lambda t: 18 - 6*t\n",
    "\n",
    "y = lambda t: 0\n",
    "y_p = lambda t: 0\n",
    "y_pp = lambda t: 0\n",
    "\n",
    "find_v0(b, b_p, b_pp, y, y_p, y_pp, 2.5, 15)"
   ]
  },
  {
   "cell_type": "markdown",
   "metadata": {},
   "source": [
    "### 2."
   ]
  },
  {
   "cell_type": "code",
   "execution_count": 20,
   "metadata": {
    "collapsed": false,
    "jupyter": {
     "outputs_hidden": false
    }
   },
   "outputs": [
    {
     "name": "stdout",
     "output_type": "stream",
     "text": [
      "e_i/e_{i+1} | e_i/e_{i+1}^2\n",
      "0.0 | 0.0\n",
      "0.0 | 0.0\n",
      "0.2628310423350569 | 0.1673291801673442\n",
      "1.2287601927353837 | 2.976360291472808\n",
      "2.7668362170669574 | 5.4542455616967125\n",
      "0.4164563868781055 | 0.2967135025125038\n",
      "4.167478910367933 | 7.129706745059682\n",
      "0.01260333648148738 | 0.005173808818295871\n",
      "0.05521470660137592 | 1.7984322556570072\n",
      "0.0320642595236207 | 18.91497452317454\n",
      "0.028053326125315824 | 516.116437877449\n",
      "0.02792317460077498 | 18312.33658332953\n"
     ]
    }
   ],
   "source": [
    "values_2 = find_v0(b, b_p, b_pp, y, y_p, y_pp, 2.5, 15)\n",
    "\n",
    "error = np.zeros(len(values_2)-2)\n",
    "tasa1 = np.zeros(len(error)-2)\n",
    "tasa2 = np.zeros(len(error)-2)\n",
    "\n",
    "for i in range(len(error)-1):\n",
    "    error[i+1] = abs(values_2[i]-values_2[i+1])\n",
    "\n",
    "for i in range(1,len(tasa1)-1):\n",
    "    if(error[i] != 0):\n",
    "        tasa1[i+1] = error[i+1]/error[i]\n",
    "        tasa2[i+1] = error[i+1]/error[i]**2\n",
    "    else:\n",
    "        tasa1[i+1] = np.nan\n",
    "        tasa2[i+1] = np.nan\n",
    "\n",
    "print(\"e_i/e_{i+1} | e_i/e_{i+1}^2\")\n",
    "for i in range(len(tasa1)):\n",
    "    print(tasa1[i], \"|\", tasa2[i])"
   ]
  }
 ],
 "metadata": {
  "kernelspec": {
   "display_name": "Python 3",
   "language": "python",
   "name": "python3"
  },
  "language_info": {
   "codemirror_mode": {
    "name": "ipython",
    "version": 3
   },
   "file_extension": ".py",
   "mimetype": "text/x-python",
   "name": "python",
   "nbconvert_exporter": "python",
   "pygments_lexer": "ipython3",
   "version": "3.7.6"
  }
 },
 "nbformat": 4,
 "nbformat_minor": 4
}
