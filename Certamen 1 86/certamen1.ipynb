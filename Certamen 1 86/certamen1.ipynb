{
 "cells": [
  {
   "cell_type": "markdown",
   "metadata": {},
   "source": [
    "<center>\n",
    "    <img src=\"http://sct.inf.utfsm.cl/wp-content/uploads/2020/04/logo_di.png\" style=\"width:60%\">\n",
    "    <h1> INF285/ILI285 Computación Científica </h1>\n",
    "    <h1> COP-1 Home</h1>\n",
    "</center>\n",
    "\n",
    "Nombre: Francis Vargas Ferrer\n",
    "\n",
    "Rol: 201573026-1"
   ]
  },
  {
   "cell_type": "code",
   "execution_count": 1,
   "metadata": {},
   "outputs": [],
   "source": [
    "#importamos librerias\n",
    "import numpy as np\n",
    "import matplotlib.pyplot as plt"
   ]
  },
  {
   "cell_type": "markdown",
   "metadata": {},
   "source": [
    "# Pregunta 1:"
   ]
  },
  {
   "cell_type": "markdown",
   "metadata": {},
   "source": [
    "#### Considere la siguiente serie:\n",
    "\n",
    "\n",
    "#### \\begin{align}\n",
    "    \\sum_{k=1}^{\\infty} k^2 = \\frac{\\pi^2}{6} = 1.64493406684822643647241516664602518921894990120679843773555822937000 ... \\label{eq1}\\tag{1}\n",
    "\\end{align}\n",
    "\n",
    "\n",
    "#### Suponiendo que uno no conoce el valor de la serie y quisiera obtener una estimación de ella. Por ejemplo, uno puede\n",
    "expandir los términos de la serie de la siguiente forma:\n",
    "\n",
    "\n",
    "\\begin{align}\n",
    "    \\sum_{k=1}^{\\infty} k^2 = 1 + \\frac{1}{2^2} + \\frac{1}{3^2} + \\frac{1}{4^2} + ... + \\frac{1}{k^2}+ \\frac{1}{(k+1)^2} + ... \\label{eq2}\\tag{2}\n",
    "\\end{align}\n",
    "\n",
    "\n",
    "#### Notar que podríamos obtener computacionalmente el valor de la serie (2) sumando los términos de izquierda a derecha, i.e. primero se parte con 1, luego se le suma $\\frac{1}{2^2}$, y así sucesivamente. A este algoritmo lo denotaremos como Algoritmo 1. La otra forma de obtener una estimación del valor de la serie es realizar la suma de derecha a izquierda, donde claramente no podemos partir desde infinito! Sin embargo podemos truncar la serie hasta el termino K, es decir, hasta el término $\\frac{1}{k^2}$, y luego sumar desde ese termino hasta llegar a 1. Aunque claramente esta segunda opción es una aproximación desde el comienzo, evaluaremos su comportamiento. Este será el Algoritmo 2."
   ]
  },
  {
   "cell_type": "markdown",
   "metadata": {},
   "source": [
    "## IMPORTANTE:\n",
    "* Por simplicidad, en esta pregunta se trabajará con single precision, es decir, los números de punto flotante utilizarán 32 bits para su almacenamiento. Recordar que en single precision se utiliza 1 bit para el signo, 23 bits para la mantisa y 8 bits para el exponente.\n",
    "* En Python 3 cualquier variable se puede almacenar en single precision, para esto se puede utilizar la función de Numpy np.float32().\n",
    "* Para implementar los algoritmos en single precision se debe hacer casting luego de cada operación, por ejemplo al multiplicar 2 números en single precision y mantener el resultado en single precision uno puede hacer lo siguiente c=np.float32(a*b), otro ejemplo sería elevar un número a a la potencia b: c=np.float32(a**b), y así con todas las operaciones."
   ]
  },
  {
   "cell_type": "markdown",
   "metadata": {},
   "source": [
    "## (a)\n",
    "### En el Algoritmo 1 sabemos que, por como opera la representación de punto flotante, podemos truncar la serie dado que si estamos sumando números positivos la suma será creciente. Esto nos permite concluir que para cierto K, el seguir agregando términos a la suma será en vano, lo único que significará será tiempo extra de computación. Por esto, se le solicita que estime un valor de K donde se asegura que esto ocurrira, i.e. debe obtener un valor de K donde es seguro truncar la suma al estar trabajando en single precision. Usted debe mostrar todo su desarrollo, respuestas sin justificación no reciben puntaje. Hint: This estimation does not have to be tight, but it must be an upper bound of the tight estimation."
   ]
  },
  {
   "cell_type": "markdown",
   "metadata": {},
   "source": [
    "El punto en el cual no nos \"sirve\" continuar añadiendo valores a la sumatoria es cuando $\\frac{1}{k^2} < \\epsilon_{mach}$.\n",
    "\n",
    "Calculamos $\\epsilon_{mach}$ teniendo en cuenta que single precision almacena 24 bits.\n",
    "\n",
    "$$\n",
    "    \\epsilon_{mach} = 2^{-24}\n",
    "$$\n",
    "\n",
    "Procedemos a calcular el valor de k.\n",
    "\n",
    "\\begin{align}\n",
    "    \\frac{1}{k^2} &< \\epsilon_{mach}\\\\\n",
    "    \\frac{1}{k^2} &< 2^{-24}\\\\\n",
    "    k^2 &> 2^{24}\\\\\n",
    "    k &> \\sqrt{2^{24}}\\\\\n",
    "    k &> 4096\n",
    "\\end{align}\n",
    "\n",
    "Finalmente, cuando nuestro k sea mayor a 2896 no tendrá sentido seguir añadiendo valores a la suma."
   ]
  },
  {
   "cell_type": "markdown",
   "metadata": {},
   "source": [
    "## (b)\n",
    "### Implemente el Algoritmo 1 utilizando single precision (i.e. use np.float32()). Su implementación debe recibir K como input, y el output debe ser un NumPy Array donde el primer término es la aproximación obtenida y el segundo término es el logaritmo en base 10 del valor absoluto del error. El error debe obtenerse respecto a la aproximación entregada en (1). El K a utilizar en esta implementación debe ser el obtenido en la pregunta anterior."
   ]
  },
  {
   "cell_type": "code",
   "execution_count": 2,
   "metadata": {
    "collapsed": false,
    "jupyter": {
     "outputs_hidden": false
    }
   },
   "outputs": [
    {
     "data": {
      "text/plain": [
       "array([ 1.6447253, -3.6804037], dtype=float32)"
      ]
     },
     "execution_count": 2,
     "metadata": {},
     "output_type": "execute_result"
    }
   ],
   "source": [
    "def alg_1(K):\n",
    "    sum = 0\n",
    "    val_real = np.float32((np.pi**2)/6)\n",
    "    for k in range(1,K+1):\n",
    "        sum = np.float32(sum + np.float32(1/np.float32(k**2)))\n",
    "    error = abs(val_real - sum)\n",
    "    sol = np.array([sum, np.log10(error)])\n",
    "    return sol\n",
    "alg_1(4096)"
   ]
  },
  {
   "cell_type": "markdown",
   "metadata": {},
   "source": [
    "## (c)\n",
    "### Implemente el Algoritmo 2 utilizando single precision. Su implementación debe recibir K como input, y el output debe ser un NumPy Array donde el primer término es la aproximación obtenida y el segundo término es el logaritmo en base 10 del valor absoluto del error. El error debe obtenerse respecto a la aproximación entregada en (1). El K a utilizar en esta implementación debe ser definido por usted tal que el error obtenido en escala logarítmica (es decir la segunda componente de su output) sea menor que -6 (i.e. $log_{10}(error) < -6$)."
   ]
  },
  {
   "cell_type": "code",
   "execution_count": 3,
   "metadata": {
    "collapsed": false,
    "jupyter": {
     "outputs_hidden": false
    }
   },
   "outputs": [
    {
     "data": {
      "text/plain": [
       "array([ 1.6449331, -6.0206   ], dtype=float32)"
      ]
     },
     "execution_count": 3,
     "metadata": {},
     "output_type": "execute_result"
    }
   ],
   "source": [
    "def alg_2(K):\n",
    "    sum = 0\n",
    "    val_real = np.float32((np.pi**2)/6)\n",
    "    while(K>0):\n",
    "        sum = np.float32(sum + np.float32(1/np.float32(K**2)))\n",
    "        K -= 1\n",
    "    error = abs(val_real - sum)\n",
    "    sol = np.array([sum, np.log10(error)])\n",
    "    return sol\n",
    "alg_2(1020000)"
   ]
  },
  {
   "cell_type": "markdown",
   "metadata": {},
   "source": [
    "## (d)\n",
    "### Dado los resultados obtenidos por los 2 algoritmos implementados, ¿Cómo puede explicar lo ocurrido? ¿Qué conclusión/es puede obtener? Asegúrese de responder ambas preguntas."
   ]
  },
  {
   "cell_type": "markdown",
   "metadata": {},
   "source": [
    "Al revisar los resultados, notamos que el algoritmo 2 nos permite tener mejores aproximaciones, ya que no tiene como limitante el valor de k y podemos expandir la sumatoria hasta términos mucho más lejanos, esto debido al enfoque que posee este algoritmo. Para explicar lo ocurrido analizaremos ambos métodos:\n",
    "\n",
    "* Algoritmo 1\n",
    "\n",
    "Analizando el algoritmo 1 vemos que para valores sobre 4096 no vale la pena seguir desarrollando la sumatoria, esto debido a que se produce perdida de significancia ya que el valor de la suma$>>\\frac{1}{4097^2}$, con lo cual el computador desde este término realizara el siguiente calculo:\n",
    "\n",
    "$$ suma + \\sum_{k=4097}^{\\infty}\\frac{1}{k^2} = suma $$\n",
    "\n",
    "* Algoritmo 2\n",
    "\n",
    "El enfoque de el algoritmo 2 evita el problema presentado en el algoritmo 1, ya que siempre suma valores cuyos ordenes de magnitud son cercanos, lo cual nos permite desarrollar la suma hasta el término que queramos (teniendo en cuenta que el menor positivo representable por simple precision es $2^{-149}$).\n",
    "\n",
    "Se puede concluir que es mucho mejor aplicar un enfoque como el del algoritmo 2 cuando nos enfrentamos a problemas que involucren sumar valores cada vez más pequeños, ya que de esta manera evitamos perdida de significancia y obtenemos mejores aproximaciones."
   ]
  },
  {
   "cell_type": "markdown",
   "metadata": {},
   "source": [
    "# Pregunta 3:\n",
    "\n",
    "### Para mejorar las actividades de entrenamiento del Ejército de las Murallas, la Tropa de Reclutas adquirió una máquina rudimentaria pero que permite calcular raíces de ecuaciones en 1$D$. En particular, quieren simular operaciones básicas del _Equipo de Maniobras Tridimensionales_ ($EDM3D$). Para esto, utilizan la siguiente ecuación que describe la posición del soldado para un instante $t$:\n",
    "### $$\n",
    "    r(t) = \\alpha + \\beta(t)t + \\frac{1}{2}\\gamma(t)t^2,\n",
    "$$\n",
    "### donde $\\alpha$ es una constante, y $\\beta(t)$ y $\\gamma(t)$ son funciones que depende de $t$. Para evitar que los soldados sean alcanzados por un titán, el objetivo de esta máquina es encontrar el tiempo $t_c$ para que la velocidad $v(t)$ sea nula, es decir $v(t_c) = 0$, donde $v(t)$ se obtiene derivando $r(t)$, i.e. $v(t) = r'(t)$."
   ]
  },
  {
   "cell_type": "markdown",
   "metadata": {},
   "source": [
    "## (a)\n",
    "### Obtenga la función $v(t)$. Hint: Don’t forget that $\\beta(t)$ and $\\gamma(t)$ are functions of $t$."
   ]
  },
  {
   "cell_type": "markdown",
   "metadata": {},
   "source": [
    "Para obtener la función $v(t)$ derivamos como se nos indica en el enunciado.\n",
    "\n",
    "\\begin{align}\n",
    "    v(t) &= r'(t)\\\\\n",
    "    v(t) &= \\frac{d}{dt}\\alpha + \\frac{d}{dt}\\beta(t)t + \\frac{d}{dt}\\frac{1}{2}\\gamma(t)t^2\\\\\n",
    "    v(t) &= 0 + \\beta'(t)t + \\beta(t) + \\frac{1}{2}(\\gamma'(t)t^2 + 2\\gamma(t)t)\\\\\n",
    "    v(t) &= \\beta(t) + \\beta'(t)t +  \\gamma(t)t + \\frac{1}{2}\\gamma'(t)t^2\n",
    "\\end{align}"
   ]
  },
  {
   "cell_type": "markdown",
   "metadata": {},
   "source": [
    "## (b) \n",
    "### Implemente un algoritmo que obtenga $t_c$ y que tenga convergencia cuadrática en condiciones generales. Su implementación debe recibir como input las siguientes funciones: $\\beta(t)$, $\\beta'(t)$, $\\beta''(t)$, $\\gamma(t)$, $\\gamma'(t)$, $\\gamma''(t)$, el _initial guess_ $t_0$ y el número maximo de iteraciones $n$. El output de su implementación debe ser un vector con las aproximaciones para cada iteración de su algoritmo."
   ]
  },
  {
   "cell_type": "markdown",
   "metadata": {},
   "source": [
    "Para poder aplicar el método de Newton-Raphson es necesario obtener $v'(t)$, por lo que la calcularemos manualmente:\n",
    "\n",
    "\\begin{align}\n",
    "    v'(t) &= \\frac{d}{dt}\\beta(t) + \\frac{d}{dt}(\\beta'(t)t) +  \\frac{d}{dt}(\\gamma(t)t) + \\frac{d}{dt}(\\frac{1}{2}\\gamma'(t)t^2)\\\\\n",
    "    v'(t) &= \\beta'(t) + \\beta''(t)t + \\beta'(t) + \\gamma'(t)t + \\gamma(t) + \\frac{1}{2}\\gamma''(t)t^2 + \\gamma'(t)t\\\\\n",
    "    v'(t) &= 2\\beta'(t) + \\beta''(t)t + \\gamma(t) + 2\\gamma'(t)t + \\frac{1}{2}\\gamma''(t)t^2\\\\\n",
    "\\end{align}"
   ]
  },
  {
   "cell_type": "code",
   "execution_count": 4,
   "metadata": {
    "collapsed": false,
    "jupyter": {
     "outputs_hidden": false
    }
   },
   "outputs": [],
   "source": [
    "#Usamos la formula entregada en el apunte.\n",
    "#Usamos newton-raphson por la convergencia cuadratica.\n",
    "def find_v0(b, b_p, b_pp, y, y_p, y_pp, t_0, n_iter):\n",
    "    v = lambda t: b(t) + b_p(t)*t + t*y_p(t) + 0.5*(t**2)*y_p(t)\n",
    "    v_p = lambda t: 2*b_p(t) + b_pp(t)*t + y(t) + 2*y_p(t)*t + 0.5*y_pp(t)*t**2\n",
    "    roots = np.zeros(n_iter+1)\n",
    "    roots[0] = t_0\n",
    "    for i in range(n_iter):\n",
    "        roots[i+1] = roots[i] - v(roots[i])/v_p(roots[i])\n",
    "    return roots"
   ]
  },
  {
   "cell_type": "markdown",
   "metadata": {},
   "source": [
    "## (c)"
   ]
  },
  {
   "cell_type": "markdown",
   "metadata": {},
   "source": [
    "### 1. Encuentre una raíz de $v(t)$ cercana a $t_0 = 1.5$ para el siguiente input: $\\beta(t) = 2 sin(2\\pi t) + t^2$, $\\gamma(t) = -t$."
   ]
  },
  {
   "cell_type": "code",
   "execution_count": 5,
   "metadata": {
    "collapsed": false,
    "jupyter": {
     "outputs_hidden": false
    }
   },
   "outputs": [
    {
     "data": {
      "text/plain": [
       "array([1.5       , 0.78634999, 0.77104501, 0.77089094, 0.77089217,\n",
       "       0.77089216, 0.77089216, 0.77089216, 0.77089216, 0.77089216,\n",
       "       0.77089216, 0.77089216, 0.77089216, 0.77089216, 0.77089216,\n",
       "       0.77089216])"
      ]
     },
     "execution_count": 5,
     "metadata": {},
     "output_type": "execute_result"
    }
   ],
   "source": [
    "b = lambda t: 2*np.sin(2*np.pi*t) + t**2\n",
    "b_p = lambda t: 2*t + 4*np.pi*np.cos(2*np.pi*t)\n",
    "b_pp = lambda t: 2-8*(np.pi**2)*np.sin(2*np.pi*t)\n",
    "\n",
    "y = lambda t: -t\n",
    "y_p = lambda t: -1\n",
    "y_pp = lambda t: 0\n",
    "\n",
    "find_v0(b, b_p, b_pp, y, y_p, y_pp, 1.5, 15)"
   ]
  },
  {
   "cell_type": "markdown",
   "metadata": {},
   "source": [
    "### 2. Muestra en un Tabla o gráficamente los cocientes de los errores: $e_i/e_{i-1}$ y $e_i/e^2_{i-1}$, donde $e_i = |x_i - x_{i+1}|$ y $x_i$ es la aproximación en la i-ésima iteración"
   ]
  },
  {
   "cell_type": "code",
   "execution_count": 6,
   "metadata": {
    "collapsed": false,
    "jupyter": {
     "outputs_hidden": false
    }
   },
   "outputs": [
    {
     "data": {
      "image/png": "[encoded data removed]",
      "text/plain": [
       "<Figure size 864x432 with 1 Axes>"
      ]
     },
     "metadata": {
      "needs_background": "light"
     },
     "output_type": "display_data"
    }
   ],
   "source": [
    "values = find_v0(b, b_p, b_pp, y, y_p, y_pp, 1.5, 20)\n",
    "\n",
    "error = np.zeros(len(values))\n",
    "tasa1 = np.zeros(len(error))\n",
    "tasa2 = np.zeros(len(error))\n",
    "\n",
    "for i in range(0,len(values)-1):\n",
    "    error[i+1] = abs(values[i+1]-values[i])\n",
    "    \n",
    "for i in range(0,len(tasa1)-1):\n",
    "    if(error[i] != 0):\n",
    "        tasa1[i+1] = error[i+1]/error[i]\n",
    "        tasa2[i+1] = error[i+1]/error[i]**2\n",
    "    else:\n",
    "        tasa1[i+1] = np.nan\n",
    "        tasa2[i+1] = np.nan\n",
    "    \n",
    "plt.figure(figsize=(12, 6))\n",
    "plt.plot(tasa1, 'ro', label=\"e_i/e_{i+1}\")\n",
    "plt.plot(tasa2, 'go', label=\"e_i/e_{i+1}^2\")\n",
    "plt.grid(True)\n",
    "plt.legend()\n",
    "plt.yscale('log')\n",
    "plt.xlabel(\"# Iteraciones\")\n",
    "plt.ylabel(\"Error\")\n",
    "plt.show()"
   ]
  },
  {
   "cell_type": "markdown",
   "metadata": {},
   "source": [
    "### 3. Analizando la Tabla o gráfico anterior, ¿es efectivamente cuadrática la convergencia o lineal? Justifique."
   ]
  },
  {
   "cell_type": "markdown",
   "metadata": {},
   "source": [
    "Al analizar el gráfico nos damos cuenta que la convergencia es lineal, como se puede visualizar(puntos en rojo) la curva del error es lineal, luego su convergencia es lineal."
   ]
  },
  {
   "cell_type": "markdown",
   "metadata": {},
   "source": [
    "## (d)"
   ]
  },
  {
   "cell_type": "markdown",
   "metadata": {},
   "source": [
    "### 1. Encuentre una raíz de $v(t)$ cercana a $t_0 = 2.5$ para el siguiente input: $\\beta(t) = 27 - 27t +9t^2 - t^3 $, $\\gamma(t) = 0$."
   ]
  },
  {
   "cell_type": "code",
   "execution_count": 7,
   "metadata": {
    "collapsed": false,
    "jupyter": {
     "outputs_hidden": false
    }
   },
   "outputs": [
    {
     "data": {
      "text/plain": [
       "array([ 2.5       ,  0.92925757,  0.51641771,  1.0236989 , -0.37986509,\n",
       "        0.2046581 ,  2.64064616,  2.67134773,  2.66965256,  2.6695982 ,\n",
       "        2.66959668])"
      ]
     },
     "execution_count": 7,
     "metadata": {},
     "output_type": "execute_result"
    }
   ],
   "source": [
    "b = lambda t: 27-27*t + 9*t**2 - t**3\n",
    "b = lambda t: -27 + 18*t - 3*t**2\n",
    "b = lambda t: 18 - 6*t\n",
    "\n",
    "y = lambda t: 0\n",
    "y_p = lambda t: 0\n",
    "y_pp = lambda t: 0\n",
    "\n",
    "find_v0(b, b_p, b_pp, y, y_p, y_pp, 2.5, 10)"
   ]
  },
  {
   "cell_type": "markdown",
   "metadata": {},
   "source": [
    "### 2. Muestra en un Tabla o gráficamente los cocientes de los errores: $e_i/e_{i-1}$ y $e_i/e^2_{i-1}$, donde $e_i = |x_i - x_{i+1}|$ y $x_i$ es la aproximación en la i-ésima iteración"
   ]
  },
  {
   "cell_type": "code",
   "execution_count": 8,
   "metadata": {
    "collapsed": false,
    "jupyter": {
     "outputs_hidden": false
    }
   },
   "outputs": [
    {
     "data": {
      "image/png": "[encoded data removed]",
      "text/plain": [
       "<Figure size 864x432 with 1 Axes>"
      ]
     },
     "metadata": {
      "needs_background": "light"
     },
     "output_type": "display_data"
    }
   ],
   "source": [
    "values_2 = find_v0(b, b_p, b_pp, y, y_p, y_pp, 2.5, 12)\n",
    "\n",
    "error = np.zeros(len(values_2)-1)\n",
    "tasa1 = np.zeros(len(error)-1)\n",
    "tasa2 = np.zeros(len(error)-1)\n",
    "\n",
    "for i in range(len(error)-1):\n",
    "    error[i+1] = abs(values_2[i]-values_2[i+1])\n",
    "\n",
    "for i in range(1,len(tasa1)-1):\n",
    "    if(error[i] != 0):\n",
    "        tasa1[i+1] = error[i+1]/error[i]\n",
    "        tasa2[i+1] = error[i+1]/error[i]**2\n",
    "    else:\n",
    "        tasa1[i+1] = np.nan\n",
    "        tasa2[i+1] = np.nan\n",
    "\n",
    "plt.figure(figsize=(12, 6))\n",
    "plt.plot(tasa1, 'ro', label=\"e_i/e_{i+1}\")\n",
    "plt.plot(tasa2, 'go', label=\"e_i/e_{i+1}^2\")\n",
    "plt.grid(True)\n",
    "plt.legend()\n",
    "plt.yscale('log')\n",
    "plt.xlabel(\"# Iteraciones\")\n",
    "plt.ylabel(\"Error\")\n",
    "plt.show()"
   ]
  },
  {
   "cell_type": "markdown",
   "metadata": {},
   "source": [
    "### 3. Analizando la Tabla o gráfico anterior, ¿es efectivamente cuadrática la convergencia o lineal? Justifique."
   ]
  },
  {
   "cell_type": "markdown",
   "metadata": {},
   "source": [
    "Observando el gráfico nos damos cuenta de que, al inicio de las iteraciones, ambas tasas caen rápidamente, lo cual parece indicar que existe convergencia cuadrática, si bien más adelante el error asociado a la convergencia cuadrática se dispara, ocurre cuando ya se ha encontrado un cero. Podemos decir entonces que la convergencia es cuadrática."
   ]
  }
 ],
 "metadata": {
  "kernelspec": {
   "display_name": "Python 3",
   "language": "python",
   "name": "python3"
  },
  "language_info": {
   "codemirror_mode": {
    "name": "ipython",
    "version": 3
   },
   "file_extension": ".py",
   "mimetype": "text/x-python",
   "name": "python",
   "nbconvert_exporter": "python",
   "pygments_lexer": "ipython3",
   "version": "3.7.6"
  }
 },
 "nbformat": 4,
 "nbformat_minor": 4
}
