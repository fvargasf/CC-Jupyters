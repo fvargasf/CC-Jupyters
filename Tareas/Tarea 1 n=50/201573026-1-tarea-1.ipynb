{
 "cells": [
  {
   "cell_type": "markdown",
   "metadata": {
    "colab_type": "text",
    "id": "aBPGOpUM11V1"
   },
   "source": [
    "\n",
    "<center>\n",
    "    <h1> INF285/ILI285 Computación Científica </h1>\n",
    "    <h1> Tarea N°1, v1.00 </h1>\n",
    "    \n",
    "</center>\n",
    "\n",
    "<p>\n",
    "\n",
    "</p>"
   ]
  },
  {
   "cell_type": "markdown",
   "metadata": {
    "colab_type": "text",
    "id": "B7MCAVSDRk3l"
   },
   "source": [
    "## Instrucciones\n",
    "\n",
    "* La tarea es individual.\n",
    "* Las consultas sobre las tareas se deben realizar por medio de la plataforma Aula.\n",
    "* La tarea debe ser realizada en `Jupyter Notebook` (`Python3`).\n",
    "* Se evaluará la correcta utilización de librerias `NumPy`, `SciPy`, entre otras, así como la correcta implementación de algoritmos de forma vectorizada.\n",
    "*  **El archivo de entrega debe denominarse ROL-tarea-numero.ipynb**. _De no respetarse este formato existirá un descuento de **50 puntos**_\n",
    "* La fecha de entrega es el jueves 30 de Abril a las **18:00 hrs**.  Se aceptarán entregas hasta las 19:00 hrs sin descuento en caso de existir algun problema, posteriormente existirá un descuento lineal hasta las 20:00 hrs del mismo día.\n",
    "* Las tareas que sean entregadas antes del jueves a mediodía recibirán una bonificación de 10 puntos\n",
    "* Debe citar cualquier código ajeno utilizado (incluso si proviene de los Jupyter Notebooks del curso).\n",
    "\n",
    "\n"
   ]
  },
  {
   "cell_type": "code",
   "execution_count": 1,
   "metadata": {
    "colab": {},
    "colab_type": "code",
    "id": "FLzJ4KdUUOhB"
   },
   "outputs": [],
   "source": [
    "# Importamos las librerías que se utilizaran.\n",
    "import numpy as np\n",
    "from scipy.special import legendre"
   ]
  },
  {
   "cell_type": "markdown",
   "metadata": {
    "colab_type": "text",
    "id": "PNhvmtRq2Orx"
   },
   "source": [
    "## Introducción \n",
    "\n",
    "En esta primera tarea de INF/ILI-285, versión 2020-1, estudiaremos la importancia de los primeros temas estudiados en el curso, los cuales son: Representación de Punto Flotante, Pérdida de Significancia, Errores de Cancelación y Búsqueda de Ceros. El desarrollo de cada uno de esos temas se presenta en una serie de preguntas, donde ustedes deben ir decidiendo, pregunta a pregunta, como cada uno de los temas se aplica. En general, los temas no se analizan por separado, sino de manera acoplada. Es muy importante que cada uno de los problemas sea analizado teóricamente primero, para luego poner su conocimiento en acción. Cada problema puede ser desarrollado de diversas formas, sin embargo, es muy importante determinar al final si el camino elegido resuelve la pregunta presentada."
   ]
  },
  {
   "cell_type": "markdown",
   "metadata": {
    "colab_type": "text",
    "id": "lAtn1U0qRg2S"
   },
   "source": [
    "## Problemas"
   ]
  },
  {
   "cell_type": "markdown",
   "metadata": {
    "colab_type": "text",
    "id": "3znHUOxOUB0-"
   },
   "source": [
    "### 1. Simulador (50 ptos) \n",
    "\n",
    "Dada la familia de polinomios de grado 3 con la forma:\n",
    "\n",
    "\n",
    "\\begin{equation}\n",
    "f(x)=x^3 - A\\,x^2 + A\\,x - 1\n",
    "\\end{equation}\n",
    "\n",
    "\n",
    "Se pide implementar un algoritmo que reciba como parámetros el valor de $A$ (con $|A|>>1$) y la cantidad de bits que tiene en la mantisa un computador ficticio, el manejo del exponente debe considerarse de las misma forma que lo maneja _double precision_.\n",
    "Esta implementación debe calcular las raíces de $f$ sin perdida de significancia con la cantidad de bits disponibles para la mantisa.\n",
    "Para obtener las raíces de $f$ usted debe encontrar de forma algebraica sus raíces y luego proponer un algoritmo basado en las _fórmulas_ obtenidas.\n",
    "\n",
    "Considere que en ese computador ficticio cuenta con las operaciones matemáticas necesarias para obtener las raíces.  Considere el siguiente ejemplo:\n",
    "\n",
    "```python\n",
    "# Alg. Base\n",
    "a = 9819824.624837\n",
    "b = 148736.523476\n",
    "c = a+b\n",
    "\n",
    "# Alg. con Representación de Punto Flotante de 'bits_mant' bits en la mantisa.\n",
    "am = f_new_rep(9819824.624837,bits_mant) # Aproximar el input en la nueva representación.\n",
    "bm = f_new_rep(148736.523476,bits_mant) # Aproximar el input en la nueva representación.\n",
    "cm = f_new_rep(m,exp,am+bm) # Aproximar el output de la suma y cada operación en la nueva representación.\n",
    "```\n"
   ]
  },
  {
   "cell_type": "code",
   "execution_count": 2,
   "metadata": {
    "colab": {},
    "colab_type": "code",
    "id": "2efm5YD2UBGD"
   },
   "outputs": [],
   "source": [
    "def flToBin(x, bits_mant): # Definimos una función para representar la parte no entera de un numero en base 10 en binario.\n",
    "    n = float('0.'+ x)\n",
    "    mant = list()\n",
    "    while bits_mant > 0:\n",
    "        if n!= 0:\n",
    "            n = n*2\n",
    "            mant.append(int(n))\n",
    "            if n >= 1:\n",
    "                n = n-1\n",
    "        else:\n",
    "            mant.append(0)\n",
    "        bits_mant -= 1\n",
    "    return mant\n",
    "\n",
    "\"\"\"\n",
    "input\n",
    "x         : (double) valor a evaluar\n",
    "bits_mant : (int) cantidad de bits de la mantisa\n",
    "output\n",
    "eval      : (double) resultado obtenido\n",
    "\"\"\"\n",
    "def f_new_rep(x,bits_mant):\n",
    "    # Algoritmo de representación de punto flotante modificada.\n",
    "    signo = 0 # El signo se representa como 0 para x>0 y como 1 para x<1\n",
    "    mantissa = list()\n",
    "    x = float(x)\n",
    "    b = '{:f}'.format(x)\n",
    "    if x < 0: # Modificamos el signo en caso de que el número sea negativo.\n",
    "        signo = 1\n",
    "        x *= -1\n",
    "    int_part = int(x)\n",
    "    fl_part = str(b).split('.')[1]\n",
    "    \n",
    "    if int_part > 0: #Tenemos dos casos, si x > 1 => exponente > 1023\n",
    "        # El exponente será la cantidad de números (en binario) que hay después del primero 1.\n",
    "        # Ej: 10101 tiene por exponente 4, que se corresponde al largo de 0101.\n",
    "        exp = str(bin(int_part)).split(\"b\")[1][1:len(str(bin(int_part)).split(\"b\")[1])]\n",
    "        # Añadimos los números que siguen del primer 1 a la mantisa.\n",
    "        for i in range(len(exp)):\n",
    "            mantissa.append(int(exp[i]))\n",
    "        # Manteniendo el formato de \"IEEE 754 double precision\", utilizamos un bias de 1023 para el exponente.\n",
    "        exp = bin(len(exp) + 1023)\n",
    "        # Obtenemos la parte decimal del número y lo añadimos a la mantisa respetando su cantidad de dígitos.\n",
    "        mantissa = mantissa + flToBin(str(fl_part), bits_mant-len(mantissa)) \n",
    "    else: # Y cuando x < a 1 => exponente < 1023\n",
    "        exp = flToBin(str(fl_part), bits_mant)\n",
    "        cont = 1\n",
    "        exp_f = 0\n",
    "        for i in range(0,bits_mant+1): # Contamos los 0's hasta el primer 1 para obtener el exponente.\n",
    "            if int(exp[i]) == 1: \n",
    "                cont = i+1\n",
    "                break\n",
    "            exp_f += 1\n",
    "        # Calculamos la representación binaria del largo de la mantisa más la cantidad de ceros antes del primer 1.\n",
    "        mantissa = flToBin(str(fl_part), bits_mant+cont)\n",
    "        # La mantisa finalmente corresponde a los dígitos que están después del primer 1.\n",
    "        mantissa = mantissa[ mantissa.index(1)+1 : ]\n",
    "        exp = bin(-exp_f-1 + 1023)\n",
    "    exp = 2**(int(exp, 2)-1023)\n",
    "    mant = 0    \n",
    "    for i in range(len(mantissa)):# Obtenemos la representación en base 10 de la mantisa.\n",
    "        mant += mantissa[i]*2**(-(i+1)) #(bit)2^-(1+posición del bit)\n",
    "    # Finalmente la nueva representación viene dada por: ((-1)^signo)*(1+mant)*(2^exp).\n",
    "    result = (-1)**signo*(mant+1)*exp\n",
    "    return result\n",
    "\n",
    "def f_find_roots(A,bits_mant):\n",
    "    # Algoritmo para encontrar raíces de f(x).\n",
    "    # Obtenemos la nueva representación para A.\n",
    "    A = f_new_rep(A, bits_mant)\n",
    "\n",
    "    # Calculamos sus raíces según la formula obtenida en el despeje.\n",
    "    x2 = (A+1 + np.sqrt(A**2 - 2*A -3))*0.5\n",
    "    x3 = (A+1 - np.sqrt(A**2 - 2*A -3))*0.5\n",
    "\n",
    "    # Obtenemos la nueva representación de cada raíz y retornamos.\n",
    "    x_roots = [1, f_new_rep(x2, bits_mant), f_new_rep(x3, bits_mant)]\n",
    "    return x_roots\n"
   ]
  },
  {
   "cell_type": "markdown",
   "metadata": {
    "colab_type": "text",
    "id": "7Qk0oJUHUOhH"
   },
   "source": [
    "### Para poder encontrar las raíces de la función primero se factorizo.\n",
    "\\begin{align}\n",
    "    f(x) &= x^3 - A\\,x^2 + A\\,x - 1\\\\\n",
    "    f(x) &= (x-1)(x^2 - (A-1)x +1)\n",
    "\\end{align}\n",
    "\n",
    "\n",
    "Como queremos los ceros, entonces buscamos $f(x) = 0$, luego:\n",
    "\n",
    "\n",
    "\\begin{align}\n",
    "    (x-1)(x^2 - (A-1)x +1) &= 0\n",
    "\\end{align}\n",
    "\n",
    "\n",
    "De donde se tiene que:\n",
    "\n",
    "\n",
    "\\begin{align}\n",
    "    x-1 = 0\\\\\n",
    "    x^2 - (A-1)x +1 = 0\n",
    "\\end{align}\n",
    "\n",
    "\n",
    "Obteniendo que:\n",
    "\n",
    "\n",
    "\\begin{align}\n",
    "        x_1 &= 1\\\\\n",
    "        x_2 &= \\frac{1+A + \\sqrt{A^2-2A-3}}{2}\\\\\n",
    "        x_3 &= \\frac{1+A - \\sqrt{A^2-2A-3}}{2}\n",
    "\\end{align}"
   ]
  },
  {
   "cell_type": "markdown",
   "metadata": {
    "colab_type": "text",
    "id": "Nw-jJfD-VPMa"
   },
   "source": [
    "### Polinomios de Legendre (50 puntos)\n",
    "Dada la función compuesta $f$\n",
    "\\begin{equation}\n",
    "f_{n,m}(x) = L_n(C_m(x)),\n",
    "\\end{equation}\n",
    "donde $L_n$ es conocido como el polinomio de Legendre de grado $n$ definido de la siguiente forma:\n",
    "\\begin{equation}\n",
    "L_{n}(x)=\\frac{1}{2^{n}} \\sum_{k=0}^{n}\\left(\\begin{array}{l}\n",
    "n \\\\\n",
    "k\n",
    "\\end{array}\\right)^{2}(x-1)^{n-k}(x+1)^{k},\n",
    "\\end{equation}\n",
    "y $C_m$ es el polinomio de Chebyshev\n",
    "\\begin{equation}\n",
    "C_m(x) = \\cos(m \\cdot \\arccos(x)).\n",
    "\\end{equation}\n",
    "\n",
    "Utilizando el método de Bisección y Punto fijo se pide obtener la raíz de $f$ más cercana a $0.5$ dado un valor de $m$ y $n$\n",
    "\n",
    "\n",
    "\n",
    "*Hint: Las raíces de Legendre son conocidas*\n",
    "\n"
   ]
  },
  {
   "cell_type": "markdown",
   "metadata": {
    "colab_type": "text",
    "id": "U_UTW2abUOhI"
   },
   "source": [
    "##### Para $L_N$ usaremos legendre que se encuentra en scipy y lo evaluaremos con np.polyval de numpy"
   ]
  },
  {
   "cell_type": "code",
   "execution_count": 3,
   "metadata": {
    "colab": {},
    "colab_type": "code",
    "id": "ByeaYHToUOhJ"
   },
   "outputs": [],
   "source": [
    "# Definimos el polinomio de Chebyshev y el de Legendre\n",
    "cm = lambda x,m: np.cos(m*np.arccos(x))\n",
    "ln = lambda n: legendre(n)\n",
    "f = lambda x,n,m: np.polyval(ln(n), cm(x,m))"
   ]
  },
  {
   "cell_type": "code",
   "execution_count": 4,
   "metadata": {
    "colab": {},
    "colab_type": "code",
    "id": "x0rfc_-6JTrG"
   },
   "outputs": [],
   "source": [
    "\"\"\"\n",
    "input\n",
    "n: (int) grado del polinomio de Legendre\n",
    "m: (int) grado del polinomio de Chebyshev\n",
    "tol: (double) tolerancia para la detención del algoritmo\n",
    "output\n",
    "root: (double) raiz obtenida\n",
    "\"\"\"\n",
    "def f_Biseccion(n, m, tol):\n",
    "    a = 0.3\n",
    "    b = 0.9\n",
    "    while (b-a)/2 > tol:\n",
    "        c = (a+b)/2\n",
    "\n",
    "        # Evaluamos la función en los puntos a,b y c.\n",
    "        f_a = f(a,n,m)\n",
    "        f_b = f(b,n,m)\n",
    "        f_c = f(c,n,m)\n",
    "        \n",
    "        # Actualizamos el valor de a o b según corresponda\n",
    "        if f_a*f_c<0: \n",
    "            b = c\n",
    "        elif f_c*f_b<0:\n",
    "            a = c\n",
    "        # Si no se cumple con los criterios anteriores, entones no se puede encontrar una raíz entre los puntos a y b.\n",
    "        else: \n",
    "            return \"NO SE PUEDE ENCONTRAR UNA RAIZ EN EL RANGO [\" + str(a) +',' + str(b) + ']'\n",
    "    root = c\n",
    "    return root\n",
    "\n",
    "def f_FPI(n, m, tol):\n",
    "    x_0 = 0.45 # Definimos nuestro initial guess\n",
    "    root = f(x_0, n, m) # Calculamos x_1 como el valor obtenido de evaluar la función en x_0\n",
    "    error = np.inf # Definimos nuestro error como un número muy grande.\n",
    "    while error > tol: #I teramos hasta cumplir con nuestra tolerancia.\n",
    "        x_i = root # Nuestro x_i será nuestro último resultado\n",
    "        root = f(x_i, n, m) # Calculamos x_{i+1}(root)\n",
    "        error = abs(root-x_0) # Actualizamos el error\n",
    "    return root\n"
   ]
  },
  {
   "cell_type": "markdown",
   "metadata": {
    "colab_type": "text",
    "id": "tv8u5FTKUOhN"
   },
   "source": [
    "#### En el algoritmo de bisección se escogió a = 0.3 y b= 0.9 ya que 0.5 se encuentra entre estos valores y convergio para distintos n's y m's."
   ]
  },
  {
   "cell_type": "markdown",
   "metadata": {
    "colab_type": "text",
    "id": "sv7nBimeVOT2"
   },
   "source": [
    "###  Determinantes (20 puntos)"
   ]
  },
  {
   "cell_type": "markdown",
   "metadata": {
    "colab_type": "text",
    "id": "fZPW_hUvQTW_"
   },
   "source": [
    "Dada una matriz de dimensiones $ n \\times n$ de la forma:\n",
    "\\begin{equation}\n",
    "A\n",
    "=\n",
    "\\begin{pmatrix}\n",
    "a_{1,1} & a_{1,2}  & \\dots & a_{1,n} \\\\\n",
    "a_{2,1} & a_{2,2}  & \\dots & a_{2,n} \\\\\n",
    "\\vdots &  \\vdots   & \\ddots & \\vdots \\\\\n",
    "a_{n,1} & a_{n,2}  & \\dots & a_{n,n}\n",
    "\\end{pmatrix}\n",
    "=\n",
    "\\begin{pmatrix}\n",
    "\\mathbf{r}_1 \\\\\n",
    "\\mathbf{r}_2 \\\\\n",
    "\\vdots \\\\\n",
    "\\mathbf{r}_n \\\\\n",
    "\\end{pmatrix},\n",
    "\\end{equation}\n",
    "donde $\\mathbf{r}_k$ representa la $k$-ésima fila de la matriz $A$.\n",
    "Considere la siguiente matriz $C_{i,j}(\\alpha)$,\n",
    "\\begin{equation}\n",
    "C_{i,j}(\\alpha)\n",
    "=\n",
    "\\begin{pmatrix}\n",
    "\\mathbf{r}_1 \\\\\n",
    "\\vdots \\\\\n",
    "\\mathbf{r}_i\\,(1-\\alpha)+\\mathbf{r}_j\\,\\alpha \\\\\n",
    "\\vdots \\\\\n",
    "\\mathbf{r}_j\\,(1-\\alpha)+\\mathbf{r}_i\\,\\alpha \\\\\n",
    "\\vdots \\\\\n",
    "\\mathbf{r}_n \\\\\n",
    "\\end{pmatrix},\n",
    "\\end{equation}\n",
    "de lo cual sabemos que $C_{i,j}(0)=A$ y que $C_{i,j}(1)$ es la matriz $A$ donde se intercambiaron las filas $i$ y $j$, es decir:\n",
    "\\begin{equation}\n",
    "C_{i,j}(1)\n",
    "=\n",
    "\\begin{pmatrix}\n",
    "\\mathbf{r}_1 \\\\\n",
    "\\vdots \\\\\n",
    "\\mathbf{r}_j \\\\\n",
    "\\vdots \\\\\n",
    "\\mathbf{r}_i \\\\\n",
    "\\vdots \\\\\n",
    "\\mathbf{r}_n \\\\\n",
    "\\end{pmatrix}.\n",
    "\\end{equation}\n",
    "De las relaciones anteriores podemos concluir que el determinante de la matriz $A$, denominado $D=\\det(A)$, es igual al determinante de $C_{i,j}(0)$, es decir $\\det(C_{i,j}(0))=\\det(A)=D$.\n",
    "Por el otro lado, el determinante de $C_{i,j}(1)$ es $-D$, dado que es el intercambio de las filas $i$ y $j$ de la matriz $A$.\n",
    "Por lo cual podemos concluir que $-D\\leq \\det(C_{i,j}(\\alpha))\\leq D$.\n",
    "\n",
    "Utilizando el método de Bisección debe encontrar el valor de $\\alpha$ con $p$ decimales de precisión que permitan que, dado los índices de las filas $i$, $j$, y $i\\neq j$, el determinante de la matriz sea igual a $d$, donde $d\\in[-D,D]$. \n",
    "\n",
    "Para esto se debe implementar una función que reciba la matriz $A$, las filas $i$ y $j$, y $p$; y retorne $\\widehat{\\alpha}$ tal que $\\det(C_{i,j}(\\widehat{\\alpha}))=d$.\n"
   ]
  },
  {
   "cell_type": "code",
   "execution_count": 5,
   "metadata": {
    "colab": {},
    "colab_type": "code",
    "id": "ZewzBMC0WevO"
   },
   "outputs": [],
   "source": [
    "\"\"\"\n",
    "input\n",
    "A: (array n x n) matriz\n",
    "i: (int) índice de la fila \"i\".\n",
    "j: (int) índice de la fila \"j\".\n",
    "p: (int) cantidad de decimales de precision \n",
    "d: (double) valor requerido del determinante de $C_{i,j}(\\alpha)$, i.e. $\\det(C_{i,j}(\\widehat{\\alpha}))=d$.\n",
    "output\n",
    "alpha_hat: (double) alpha_hat tal que det(C_{i,j}(alpha_hat))=d.\n",
    "\"\"\"\n",
    "def find_alpha_hat(A,i,j,p,d):\n",
    "  # Algoritmo a desarrollar, note que usted debe definir el intervalo a utilizar en el método de la bisección.\n",
    "  return alpha_hat"
   ]
  },
  {
   "cell_type": "markdown",
   "metadata": {
    "colab_type": "text",
    "id": "gVOkWN_zrvR9"
   },
   "source": [
    "# Referencias\n",
    "\n",
    "[1] Claudio Torres et al, Apuntes de Computación Científica,2020"
   ]
  },
  {
   "cell_type": "code",
   "execution_count": null,
   "metadata": {
    "colab": {},
    "colab_type": "code",
    "id": "sKOF9cISW9xX"
   },
   "outputs": [],
   "source": []
  }
 ],
 "metadata": {
  "colab": {
   "collapsed_sections": [],
   "name": "201573026-1-Tarea1_CC.ipynb",
   "provenance": []
  },
  "kernelspec": {
   "display_name": "Python 3",
   "language": "python",
   "name": "python3"
  },
  "language_info": {
   "codemirror_mode": {
    "name": "ipython",
    "version": 3
   },
   "file_extension": ".py",
   "mimetype": "text/x-python",
   "name": "python",
   "nbconvert_exporter": "python",
   "pygments_lexer": "ipython3",
   "version": "3.7.6"
  }
 },
 "nbformat": 4,
 "nbformat_minor": 4
}
