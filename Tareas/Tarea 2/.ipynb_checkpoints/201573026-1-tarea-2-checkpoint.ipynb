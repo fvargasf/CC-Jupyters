{
 "cells": [
  {
   "cell_type": "markdown",
   "metadata": {
    "colab_type": "text",
    "id": "pVd0tF-m0Jb2"
   },
   "source": [
    "## INF-285 \n",
    "#Tarea 2: SVD y PCA"
   ]
  },
  {
   "cell_type": "markdown",
   "metadata": {
    "colab_type": "text",
    "id": "JghL-XhvvGKq"
   },
   "source": [
    "# Instrucciones\n",
    "* La tarea es individual.\n",
    "* Las consultas sobre las tareas se deben realizar por medio de la plataforma Aula.\n",
    "* La tarea debe ser realizada en Jupyter Notebook (Python 3).\n",
    "* Se evaluará la correcta utilización de librerias ```NumPy```, ```SciPy```, entre otras, así como la correcta implementación de algoritmos de forma vectorizada.\n",
    "* El archivo de entrega debe denominarse **ROL-tarea-numero.ipynb**. De no respetarse este formato existirá un descuento de 50 puntos\n",
    "* La fecha de entrega es el viernes 29 de Mayo a las 18:00 hrs. Se aceptarán entregas hasta las 19:00 hrs sin descuento en caso de existir algun problema, posteriormente existirá un descuento lineal hasta las 20:00 hrs del mismo día.\n",
    "* Las tareas que sean entregadas antes del jueves a mediodía recibirán una bonificación de 10 puntos.\n",
    "* Se limitará el uso de librerias a solo las que estan agregadas en el Notebook (No se permite usar sklearn)\n",
    "* Debe seguir la firma de las funciones que se indican en la tarea, en caso contrario se considerará incorrecta\n",
    "* Debe citar cualquier código ajeno utilizado (incluso si proviene de los Jupyter Notebooks del curso)."
   ]
  },
  {
   "cell_type": "markdown",
   "metadata": {
    "colab_type": "text",
    "id": "P-v8NiwRvGKt"
   },
   "source": [
    "# Introducción\n",
    "\n",
    "La compresión de Imágenes utilizando *SVD* se basa en que  la matriz $\\Sigma$ representa los valores singulares de la matriz original, entonces se puede obtener una aproximación de la imagen original minimizando el rango de la matriz al eliminar los  valores singulares de menor valor, ya que estos representan una \"menor información\" de la imagen. De este forma, por ejemplo si $\\Sigma$ es de tamaño $n\\times n$, se pueden omitir los $\\sigma$ menos significativos obteniendo $\\tilde{\\Sigma}$ de tamaño $m\\times m$, $m<n$.\n",
    "\n",
    "Por otro lado, también se puede utilizar el análisis de componentes principales (PCA) para la compresión de imágenes al reducir la dimensión de la matriz de la imagen y proyectar esas nuevas dimensiones en una nueva imagen reteniendo la información importante de la imagen original\n",
    "\n",
    "En esta tarea se busca comprimir un archivo *GIF*, el cual consiste de una secuencia de multiples imagenes, utilizando *SVD* y *PCA* para poder comparar ambos métodos y analizar la relación entre ambos."
   ]
  },
  {
   "cell_type": "code",
   "execution_count": 1,
   "metadata": {
    "colab": {},
    "colab_type": "code",
    "id": "VkDC02YMvGKu"
   },
   "outputs": [],
   "source": [
    "import numpy as np\n",
    "import matplotlib.pyplot as plt\n",
    "from PIL import Image, ImageSequence"
   ]
  },
  {
   "cell_type": "code",
   "execution_count": 2,
   "metadata": {
    "colab": {},
    "colab_type": "code",
    "id": "3_i17VbvvGK8"
   },
   "outputs": [],
   "source": [
    "def plotAnimation(animation):\n",
    "    \"\"\"\n",
    "    Parameters\n",
    "    ----------\n",
    "    animimation         : (frames, rows, cols) array\n",
    "                          GIF array\n",
    "\n",
    "    Returns\n",
    "    -------\n",
    "    Animation plots      : None\n",
    "    \"\"\"\n",
    "    for frame in animation:\n",
    "        plt.imshow(frame, cmap=plt.cm.gray)\n",
    "        plt.axis('off')\n",
    "        plt.show()"
   ]
  },
  {
   "cell_type": "code",
   "execution_count": 3,
   "metadata": {
    "colab": {},
    "colab_type": "code",
    "id": "ile_dQ-DvGLD"
   },
   "outputs": [],
   "source": [
    "def gifToArray(gif_file):\n",
    "    \"\"\"\n",
    "    Parameters\n",
    "    ----------\n",
    "    gif_file             : string\n",
    "                          GIF path\n",
    "\n",
    "    Returns\n",
    "    -------\n",
    "    data                 : (frames, rows, cols) array\n",
    "                          NumPy array with GIF pixel values\n",
    "    \"\"\"\n",
    "    im = Image.open(gif_file)\n",
    "    data = list()\n",
    "    for frame in ImageSequence.Iterator(im):\n",
    "        tmp = np.array(im.convert('L'))\n",
    "        data.append(tmp)\n",
    "    data = np.array(data)\n",
    "    return data"
   ]
  },
  {
   "cell_type": "markdown",
   "metadata": {
    "colab_type": "text",
    "id": "JMO9iKGbvGLL"
   },
   "source": [
    "\n",
    "\n",
    "Podemos considerar un *GIF* como una colección de $p$ *frames*, donde un *frame* es una martriz $F\\in\\mathbb{R}^{r\\times c}$ con $r$ el número de filas y $c$ en número de columnas de esta imagen. Ahora, si $(f_k)_{i,j}$ corresponde al elemento $i,j$ del $k$-ésimo *frame*, vamos a definir $\\mathbf{f}_{i,j}=\\langle (f_1)_{i,j}, (f_2)_{i,j},\\dots,(f_p)_{i,j}\\rangle$,\n",
    "es decir, este vector corresponde a los valores de los $p$ frames de la coordenada $(i,j)$ del *GIF*.\n",
    "\n",
    "Finalmente, para trabajar con los algoritmos, vamos a construir la matriz $G \\in \\mathbb{R}^{q\\times p}$, donde $q=r\\times c$ de cada *frame*, y que se define como:\n",
    "\n",
    "\\begin{equation}\n",
    "    G = \n",
    "    \\left[\n",
    "    \\begin{array}{c}\n",
    "        \\mathbf{f}_{1,1} \\\\ \\hline\n",
    "        \\mathbf{f}_{1,2} \\\\ \\hline\n",
    "        \\dots \\\\ \\hline\n",
    "        \\mathbf{f}_{r,c}\n",
    "    \\end{array}\n",
    "    \\right]\n",
    "\\end{equation}"
   ]
  },
  {
   "cell_type": "markdown",
   "metadata": {
    "colab_type": "text",
    "id": "c66vLEwcvGLM"
   },
   "source": [
    "----\n",
    "## Funciones a Implementar"
   ]
  },
  {
   "cell_type": "markdown",
   "metadata": {
    "colab_type": "text",
    "id": "FKGPVeK6vGLO"
   },
   "source": [
    "1. Crear la función ```createG(data)``` que recibe ```data``` el arreglo ```NumPy``` con la información del GIF, y retorna el arreglo $G$ definido anteriormente. (10 puntos)"
   ]
  },
  {
   "cell_type": "code",
   "execution_count": 4,
   "metadata": {
    "colab": {},
    "colab_type": "code",
    "id": "7KtFKZE6vGLQ"
   },
   "outputs": [],
   "source": [
    "def createG(data):\n",
    "    \"\"\"\n",
    "    Parameters\n",
    "    ----------\n",
    "    data             : (frames, rows, cols) array\n",
    "                       NumPy array with GIF pixel values\n",
    "\n",
    "    G                : (q, p) array\n",
    "                       G matrix\n",
    "    \"\"\"\n",
    "    frames, rows, cols = np.shape(data)\n",
    "    G = []\n",
    "    #Recorremos cada frame con la idea de rellenar cada columna con los valores del mismo, para esto rellenamos las filas y luego obtenemos su transpuesta\n",
    "    for frame in range(frames):\n",
    "        G.append([])\n",
    "        for row in range(rows):\n",
    "            for col in range(cols):\n",
    "                G[frame].append(data[frame][row][col])\n",
    "    G = np.array(G).T\n",
    "    \n",
    "    return G"
   ]
  },
  {
   "cell_type": "markdown",
   "metadata": {
    "colab_type": "text",
    "id": "NI6Wvv_YvGLX"
   },
   "source": [
    "2. Crear la función ```restoreGIF(data)``` que recibe los datos procesados ```data``` y ```shape``` que contiene la tupla ```(frames, rows, cols)```, la dimensión original del *GIF*. Esta función retorna la reconstrucción del GIF. (10 puntos)"
   ]
  },
  {
   "cell_type": "code",
   "execution_count": 5,
   "metadata": {
    "colab": {},
    "colab_type": "code",
    "id": "rSrx92TivGLY"
   },
   "outputs": [],
   "source": [
    "def restoreGIF(data, shape):\n",
    "    \"\"\"\n",
    "    Parameters\n",
    "    ----------\n",
    "    data             : (q, p) array\n",
    "                       G matrix\n",
    "    shape            : tuple (frames, rows, cols) \n",
    "    Returns\n",
    "    -------\n",
    "    reshaped_data    : (frames, rows, cols) array\n",
    "                       NumPy array with GIF pixel values\n",
    "                       \n",
    "    \"\"\"\n",
    "    frames, rows, cols = shape\n",
    "    reshaped_data = np.zeros(shape)\n",
    "    \n",
    "    \n",
    "    #Para volver a generar la matriz, queremos recorrer de la misma forma que antes, para esto necesitamos calcular la transpuesta de nuestra data y convertir cada fila en una matriz de rows*cols\n",
    "    data = data.T\n",
    "    for frame in range(frames):\n",
    "        for row in range(rows):\n",
    "            for col in range(cols):\n",
    "                reshaped_data[frame][row][col] = data[frame][cols*row + col]\n",
    "    return reshaped_data"
   ]
  },
  {
   "cell_type": "markdown",
   "metadata": {
    "colab_type": "text",
    "id": "wBIADoJZvGLg"
   },
   "source": [
    "### SVD\n",
    "3. Implementar la función ```G_SVD(G, m)``` que reciba la matriz $G$ y los $m$ componentes que se utilizarán para comprimir el *GIF* utilizando *SVD*. La función debe retornar $U$, $\\textrm{diag}(\\Sigma)$ y $V^T$. Además, implementar la función ```SVD_G(U, s, Vt)``` que recibe las matrices generadas por el *SVD* y retorne la reconstrucción de la matriz $G$. (30 puntos)"
   ]
  },
  {
   "cell_type": "code",
   "execution_count": 6,
   "metadata": {
    "colab": {},
    "colab_type": "code",
    "id": "_s-S59b6vGLg"
   },
   "outputs": [],
   "source": [
    "# G to SVD\n",
    "def G_SVD(G, m):\n",
    "    \"\"\"\n",
    "    Parameters\n",
    "    ----------\n",
    "    G             : (q, p)-array\n",
    "                    G matrix\n",
    "    m             : int\n",
    "                    Number of components\n",
    "    Returns\n",
    "    -------\n",
    "    U             : (q, m)-array\n",
    "                    SVD U matrix\n",
    "    s             : m-array\n",
    "                    Singular values\n",
    "    Vt            : (m, p)-array\n",
    "                    SVD V^T matrix \n",
    "    \"\"\"\n",
    "    # A partir del apunte calculamos SVD\n",
    "    \n",
    "    #Primero calculamos el producto G*G\n",
    "    GtG = G.T@G\n",
    "    \n",
    "    #Calculamos los valores y vectores propios de G*G\n",
    "    eigenvalues, eigenvector = np.linalg.eig(GtG)\n",
    "    \n",
    "    #Sigma sera la raíz de los valores propios, usamos abs ya que algunos valores estan dando resutlados negativos, esto no debería ocurrir\n",
    "    s = np.sqrt(abs(eigenvalues))[:m]\n",
    "    \n",
    "    #El vector propio que entrega numpy tiene una forma incorrecta, por lo que debemos cambiar su orden\n",
    "    V = eigenvector[::-1]\n",
    "    #Usamos las primeras m columnas\n",
    "    V = V[:,:m]\n",
    "    Vt = V.T\n",
    "    \n",
    "    #Para obtener U es necesario resolver GV=Us, entonces calculamos la inversa de Sigma\n",
    "    s_i = np.zeros((m,m))\n",
    "    #Como S matricialmente es una matriz diagonal de mxm, entonces su inversa sera la misma matriz, pero cada valor sera (1/s_{ij})\n",
    "    for i in range(m):\n",
    "        s_i[i][i] = 1/np.sqrt(abs(eigenvalues[i]))\n",
    "    \n",
    "    #Finalmente U es GAs^{-1}\n",
    "    U = G@V@s_i\n",
    "    \n",
    "    return U, s, Vt\n",
    "\n",
    "# SVD to 'compressed' G\n",
    "def SVD_G(U, s, Vt):\n",
    "    \"\"\"\n",
    "    Parameters\n",
    "    ----------\n",
    "    U             : (q, m)-array\n",
    "                    SVD U matrix\n",
    "    s             : m-array\n",
    "                    Singular values\n",
    "    Vt            : (m, p)-array\n",
    "                    SVD V^T matrix \n",
    "    Returns\n",
    "    -------\n",
    "    B             : (p, q)-array\n",
    "                    \"Compressed\" G\n",
    "    \"\"\"\n",
    "    #Convertimos s en una matriz diagonal\n",
    "    s_matrix = np.zeros((s.shape[0], s.shape[0]))\n",
    "    for i in range(s.shape[0]):\n",
    "        s_matrix[i][i] = s[i]\n",
    "    #La matriz reconstruida es el producto UsVt\n",
    "    B = U@s_matrix@Vt\n",
    "    return B"
   ]
  },
  {
   "cell_type": "markdown",
   "metadata": {
    "colab_type": "text",
    "id": "8sMOpP2xvGLs"
   },
   "source": [
    "### PCA\n",
    "4. Implementar la función ```G_PCA(G, m)``` que reciba la matriz $G$ y los $m$ componentes que se utilizarán para comprimir el *GIF* utilizando *PCA*. La función debe retornar $PC$, $Y$ y $\\mu$. Además, implementar la función ```PCA_G(PC, Y, mu)``` que recibe las matrices generadas por *PCA* y retorne la reconstrucción de la matriz $G$. Para esto debe utilizar la funcion de SVD implementada en el punto anterior. (35 puntos)"
   ]
  },
  {
   "cell_type": "code",
   "execution_count": 7,
   "metadata": {
    "colab": {},
    "colab_type": "code",
    "id": "9HCshfMDvGLt",
    "jupyter": {
     "source_hidden": true
    }
   },
   "outputs": [],
   "source": [
    "def G_PCA(G, m):\n",
    "    \"\"\"\n",
    "    Parameters\n",
    "    ----------\n",
    "    G             : (q, p)-array\n",
    "                    G matrix\n",
    "    m             : int\n",
    "                    Number of components\n",
    "    Returns\n",
    "    -------\n",
    "    PC             : (p, m)-array\n",
    "                     first m principal components\n",
    "    Y             : (q,m)-array\n",
    "                    PC Scores \n",
    "    mu           : (p)-array\n",
    "                    Average per column \n",
    "    \"\"\"\n",
    "    #Seguiremos los pasos del apunte.\n",
    "    \n",
    "    #Comenzamos calculando mu, el cual es un vector con las medias de cada columna de G, entonces cada elemento de mu sera el promedio de cada fila de G transpuesta.\n",
    "    GT = G.T\n",
    "    mu = np.zeros(G.shape[1])\n",
    "    for i in range(G.shape[1]):\n",
    "        mu[i] = GT[i].mean()\n",
    "    mu = np.array(mu)\n",
    "    \n",
    "    #Obtenemos Z\n",
    "    Z = G-mu\n",
    "    \n",
    "    #Realizamos SVD a Z con m componentes\n",
    "    U, s, Vt = G_SVD(Z, m)\n",
    "    \n",
    "    #Convertimos el array s en una matriz diagonal para poder realizar multiplicaciones matriciales\n",
    "    s_matrix = np.zeros((s.shape[0], s.shape[0]))\n",
    "    for i in range(s.shape[0]):\n",
    "        s_matrix[i][i] = s[i]\n",
    "    \n",
    "    #Calculamos Y segun el apunte\n",
    "    Y = U@s_matrix\n",
    "    \n",
    "    #Calculamos PC segun el apunte\n",
    "    PC = Vt.T\n",
    "    \n",
    "    \n",
    "    return  PC, Y, mu"
   ]
  },
  {
   "cell_type": "code",
   "execution_count": 8,
   "metadata": {
    "colab": {},
    "colab_type": "code",
    "id": "m05kUtkAvGL0",
    "jupyter": {
     "source_hidden": true
    }
   },
   "outputs": [],
   "source": [
    "def PCA_G(PC, Y, mu):\n",
    "    \"\"\"\n",
    "    Parameters\n",
    "    ----------\n",
    "    PC             : (p, m)-array\n",
    "                     first m principal components\n",
    "    Y             : (q,m)-array\n",
    "                    PC Scores \n",
    "    mu           : (p)-array\n",
    "                    Average per column \n",
    "    Returns\n",
    "    -------\n",
    "    B            : (q, p)-array\n",
    "                    \"Compressed\" G\n",
    "    \"\"\"\n",
    "    #Realizamos las operaciones en reversa\n",
    "    B = Y@PC.T + mu\n",
    "    return B"
   ]
  },
  {
   "cell_type": "markdown",
   "metadata": {
    "colab_type": "text",
    "id": "WXU6uYie6Nq0"
   },
   "source": [
    "## Preguntas\n",
    "\n",
    "Para responder las siguientes preguntas, debe implementar las funciones propuestas"
   ]
  },
  {
   "cell_type": "markdown",
   "metadata": {
    "colab_type": "text",
    "id": "5RmHo48BvGM2"
   },
   "source": [
    "#### 1. ¿Cuál sería el costo de almacenamiento en MB usando $m$ vectores singulares? (5 puntos)"
   ]
  },
  {
   "cell_type": "markdown",
   "metadata": {},
   "source": [
    "El costo esta de almacenamiento en MB estará dado por la dimensión de la matriz ($q*p$) multiplicado por el peso en bytes de sus elementos (si son del tipo float, entonces son 8 bytes).\\\\\n",
    "Se utilizo el metodo .nbytes que tienen los arreglos de numpy para obtener el tamaño en bytes, luego este valor se múltiplo por $10^{-6}$ para obtener su tamaño en Megabytes.\n",
    "\n",
    "La cantidad de vectores singulares parece no influir en los resultados, ya que la matriz final que se obtiene tiene la misma dimensión que la inicial."
   ]
  },
  {
   "cell_type": "code",
   "execution_count": 9,
   "metadata": {
    "colab": {},
    "colab_type": "code",
    "id": "e7y73fYtvGM2"
   },
   "outputs": [],
   "source": [
    "def SVD_size(G, m):\n",
    "    \"\"\"\n",
    "    Parameters\n",
    "    ----------\n",
    "    G             : (q, p)-array\n",
    "                    G matrix\n",
    "    m             : int\n",
    "                    Number of components\n",
    "    Returns\n",
    "    -------\n",
    "    size          : Float\n",
    "                    total size of SVD return\n",
    "    \"\"\"\n",
    "    U, s, VT = G_SVD(G, m)\n",
    "    compress_G = SVD_G(U, s, VT)\n",
    "    size = compress_G.nbytes*1e-6\n",
    "    \n",
    "    return size\n",
    "\n",
    "def PCA_size(G, m):\n",
    "    \"\"\"\n",
    "    Parameters\n",
    "    ----------\n",
    "    G             : (q, p)-array\n",
    "                    G matrix\n",
    "    m             : int\n",
    "                    Number of components\n",
    "    Returns\n",
    "    -------\n",
    "    size          : Float\n",
    "                    total size of PCA return\n",
    "    \"\"\"\n",
    "    PC, Y, mu = G_PCA(G, m)\n",
    "    compress_G = PCA_G(PC, Y, mu)\n",
    "    size = compress_G.nbytes*1e-6\n",
    "    \n",
    "    return size"
   ]
  },
  {
   "cell_type": "markdown",
   "metadata": {
    "colab_type": "text",
    "id": "klJlLp9svGM6"
   },
   "source": [
    "#### 2. ¿Cuál sería el *gif* resultante con $m$ componentes? (5 puntos)"
   ]
  },
  {
   "cell_type": "markdown",
   "metadata": {},
   "source": [
    "Para poder visualizar cada gif, debemos aplicar el método, ya sea SVD o PCA, luego recomponer la matriz y llevar esta su forma de GIF(usar la función $restoreGIF(matriz\\_comprimida, dimensiones)$). Para ver los frames resultantes llamamos a la función entregada $plotAnimation(matriz\\_recreada)$."
   ]
  },
  {
   "cell_type": "code",
   "execution_count": 10,
   "metadata": {
    "colab": {},
    "colab_type": "code",
    "id": "NfS25SORvGM7"
   },
   "outputs": [],
   "source": [
    "def print_animation_SVD(G, m, shape):\n",
    "    \"\"\"\n",
    "    Parameters\n",
    "    ----------\n",
    "    G             : (q, p)-array\n",
    "                    G matrix\n",
    "    m             : int\n",
    "                    Number of components\n",
    "    shape         : tuple (frames, rows, cols)\n",
    "    Returns\n",
    "    -------\n",
    "    La funcion no debe retornar nada, solo mostrar las imagenes de los frames reconstruidos\n",
    "    \"\"\"\n",
    "    #Obtenemos la descoposición SVD de G con m componentes\n",
    "    U, s, VT = G_SVD(G, m)\n",
    "    #Reconstruimos la matriz\n",
    "    compress_G = SVD_G(U, s, VT)\n",
    "    #Transformamos al formato de GIF\n",
    "    recreated_G = restoreGIF(compress_G, shape)\n",
    "    #Visualizamos los frames\n",
    "    plotAnimation(recreated_G)\n",
    "    \n",
    "    return\n",
    "\n",
    "def print_animation_PCA(G, m, shape):\n",
    "    \"\"\"\n",
    "    Parameters\n",
    "    ----------\n",
    "    G             : (q, p)-array\n",
    "                    G matrix\n",
    "    m             : int\n",
    "                    Number of components\n",
    "    shape         : tuple (frames, rows, cols)\n",
    "    Returns\n",
    "    -------\n",
    "    La funcion no debe retornar nada, solo mostrar las imagenes de los frames reconstruidos\n",
    "    \"\"\"\n",
    "    #Calculamos PCA a G con m componentes\n",
    "    PC, Y, mu = G_PCA(G, m)\n",
    "    #Reconstruimos la matriz\n",
    "    compress_G = PCA_G(PC, Y, mu)\n",
    "    #Transformamos al formato de GIF\n",
    "    recreated_G = restoreGIF(compress_G, shape)\n",
    "    #Visualizamos los frames\n",
    "    plotAnimation(recreated_G)\n",
    "    \n",
    "    return\n"
   ]
  },
  {
   "cell_type": "markdown",
   "metadata": {
    "colab_type": "text",
    "id": "hAYGfX8TvGNO"
   },
   "source": [
    "#### 3. ¿Cual sería el error en función de $m$? (Calcule el error utilizando la norma-2) (5 puntos)\n",
    "\n",
    "Considere calcular el error de la siguiente manera: $||G-B_m||_2$, donde $G$ corresponde a la matriz definida anteriormente y $B_m$ a la matriz \"comprimida\" utilizando los métodos correspondientes para un $m$ particular."
   ]
  },
  {
   "cell_type": "code",
   "execution_count": 11,
   "metadata": {
    "colab": {},
    "colab_type": "code",
    "id": "Wk65LuvdvGNP",
    "jupyter": {
     "source_hidden": true
    }
   },
   "outputs": [],
   "source": [
    "def compression_error_SVD(G, m):\n",
    "    \"\"\"\n",
    "    Parameters\n",
    "    ----------\n",
    "    G             : (q, p)-array\n",
    "                    G matrix\n",
    "    m             : int\n",
    "                    Number of components\n",
    "    Returns\n",
    "    -------\n",
    "    error          : Float\n",
    "                    total size of PCA return\n",
    "    \"\"\"\n",
    "    #Calculamos la descomposición SVD a G con m componentes\n",
    "    U, s, VT = G_SVD(G, m)\n",
    "    #Reconstruimos la matriz\n",
    "    B = SVD_G(U, s, VT)\n",
    "    #Calculamos la resta G-B\n",
    "    GB = G-B\n",
    "    #El error sera la norma 2 de la resta matricial\n",
    "    error = np.linalg.norm(GB, ord=2)    \n",
    "    \n",
    "    return error\n",
    "\n",
    "def compression_error_PCA(G, m):\n",
    "    \"\"\"\n",
    "    Parameters\n",
    "    ----------\n",
    "    G             : (q, p)-array\n",
    "                    G matrix\n",
    "    m             : int\n",
    "                    Number of components\n",
    "    Returns\n",
    "    -------\n",
    "    error         : Float\n",
    "                    total size of PCA return\n",
    "    \"\"\"\n",
    "    #Calculamos PCA a G con m componentes\n",
    "    PC, Y, mu = G_PCA(G, m)\n",
    "    #Reconstruimos la matriz\n",
    "    B = PCA_G(PC, Y, mu)\n",
    "    #Calculamos la resta G-B\n",
    "    GB = G-B\n",
    "    #El error sera la norma 2 de la resta matricial\n",
    "    error = np.linalg.norm(GB, ord=2)  \n",
    "    \n",
    "    return error"
   ]
  },
  {
   "cell_type": "markdown",
   "metadata": {
    "colab_type": "text",
    "id": "OCJCcJjH8Bbs"
   },
   "source": [
    "# Prueba\n",
    "\n",
    "Para verificar sus algoritmos, pruebe las funciones desarrolladas para $m=10$."
   ]
  },
  {
   "cell_type": "markdown",
   "metadata": {},
   "source": [
    "### Obtenemos la matriz G para el gif entregado"
   ]
  },
  {
   "cell_type": "code",
   "execution_count": 12,
   "metadata": {},
   "outputs": [
    {
     "data": {
      "text/plain": [
       "array([[ 0,  0,  0, ...,  3,  3,  3],\n",
       "       [ 0,  0,  0, ...,  3,  3,  3],\n",
       "       [17, 17, 17, ..., 14, 14, 14],\n",
       "       ...,\n",
       "       [30, 30, 30, ..., 27, 29, 27],\n",
       "       [ 8,  8,  8, ..., 14,  8,  8],\n",
       "       [ 0,  0,  0, ...,  0,  3,  0]], dtype=uint8)"
      ]
     },
     "execution_count": 12,
     "metadata": {},
     "output_type": "execute_result"
    }
   ],
   "source": [
    "data_gif = gifToArray(\"somebody.gif\")\n",
    "g_shape = data_gif.shape\n",
    "G = createG(data_gif)\n",
    "G"
   ]
  },
  {
   "cell_type": "markdown",
   "metadata": {},
   "source": [
    "### Probamos que la reconstrucción sea correcta "
   ]
  },
  {
   "cell_type": "code",
   "execution_count": 13,
   "metadata": {},
   "outputs": [
    {
     "data": {
      "text/plain": [
       "array([[[ True,  True,  True, ...,  True,  True,  True],\n",
       "        [ True,  True,  True, ...,  True,  True,  True],\n",
       "        [ True,  True,  True, ...,  True,  True,  True],\n",
       "        ...,\n",
       "        [ True,  True,  True, ...,  True,  True,  True],\n",
       "        [ True,  True,  True, ...,  True,  True,  True],\n",
       "        [ True,  True,  True, ...,  True,  True,  True]],\n",
       "\n",
       "       [[ True,  True,  True, ...,  True,  True,  True],\n",
       "        [ True,  True,  True, ...,  True,  True,  True],\n",
       "        [ True,  True,  True, ...,  True,  True,  True],\n",
       "        ...,\n",
       "        [ True,  True,  True, ...,  True,  True,  True],\n",
       "        [ True,  True,  True, ...,  True,  True,  True],\n",
       "        [ True,  True,  True, ...,  True,  True,  True]],\n",
       "\n",
       "       [[ True,  True,  True, ...,  True,  True,  True],\n",
       "        [ True,  True,  True, ...,  True,  True,  True],\n",
       "        [ True,  True,  True, ...,  True,  True,  True],\n",
       "        ...,\n",
       "        [ True,  True,  True, ...,  True,  True,  True],\n",
       "        [ True,  True,  True, ...,  True,  True,  True],\n",
       "        [ True,  True,  True, ...,  True,  True,  True]],\n",
       "\n",
       "       ...,\n",
       "\n",
       "       [[ True,  True,  True, ...,  True,  True,  True],\n",
       "        [ True,  True,  True, ...,  True,  True,  True],\n",
       "        [ True,  True,  True, ...,  True,  True,  True],\n",
       "        ...,\n",
       "        [ True,  True,  True, ...,  True,  True,  True],\n",
       "        [ True,  True,  True, ...,  True,  True,  True],\n",
       "        [ True,  True,  True, ...,  True,  True,  True]],\n",
       "\n",
       "       [[ True,  True,  True, ...,  True,  True,  True],\n",
       "        [ True,  True,  True, ...,  True,  True,  True],\n",
       "        [ True,  True,  True, ...,  True,  True,  True],\n",
       "        ...,\n",
       "        [ True,  True,  True, ...,  True,  True,  True],\n",
       "        [ True,  True,  True, ...,  True,  True,  True],\n",
       "        [ True,  True,  True, ...,  True,  True,  True]],\n",
       "\n",
       "       [[ True,  True,  True, ...,  True,  True,  True],\n",
       "        [ True,  True,  True, ...,  True,  True,  True],\n",
       "        [ True,  True,  True, ...,  True,  True,  True],\n",
       "        ...,\n",
       "        [ True,  True,  True, ...,  True,  True,  True],\n",
       "        [ True,  True,  True, ...,  True,  True,  True],\n",
       "        [ True,  True,  True, ...,  True,  True,  True]]])"
      ]
     },
     "execution_count": 13,
     "metadata": {},
     "output_type": "execute_result"
    }
   ],
   "source": [
    "rebuilt_gif = restoreGIF(G, g_shape)\n",
    "rebuilt_gif == data_gif"
   ]
  },
  {
   "cell_type": "markdown",
   "metadata": {},
   "source": [
    "### Probamos que los métodos de SVD sean correctos ($G\\_SVD, SVD\\_G, compression\\_error\\_SVD, print\\_animation\\_SVD y SVD\\_size$), como $G\\_SVD, SVD\\_G$ se utilizan en las otras funciones no se probaran por separado, se escogió por temas de espacio no dejar la ejecución de $print\\_animation\\_SVD$"
   ]
  },
  {
   "cell_type": "markdown",
   "metadata": {},
   "source": [
    "### $compression\\_error\\_SVD$"
   ]
  },
  {
   "cell_type": "code",
   "execution_count": 14,
   "metadata": {},
   "outputs": [
    {
     "data": {
      "text/plain": [
       "34164.21752948026"
      ]
     },
     "execution_count": 14,
     "metadata": {},
     "output_type": "execute_result"
    }
   ],
   "source": [
    "compression_error_SVD(G, 10)"
   ]
  },
  {
   "cell_type": "markdown",
   "metadata": {},
   "source": [
    "### $SVD\\_size$"
   ]
  },
  {
   "cell_type": "code",
   "execution_count": 15,
   "metadata": {},
   "outputs": [
    {
     "data": {
      "text/plain": [
       "133.2"
      ]
     },
     "execution_count": 15,
     "metadata": {},
     "output_type": "execute_result"
    }
   ],
   "source": [
    "SVD_size(G, 10)"
   ]
  },
  {
   "cell_type": "markdown",
   "metadata": {},
   "source": [
    "### Probamos que los métodos de PCA sean correctos ($G\\_PCA, PCA\\_G, compression\\_error\\_PCA, print\\_animation\\_PCA y PCA\\_size$), como $G\\_PCA, PCA\\_G$ se utilizan en las otras funciones no se probaran por separado, se escogió por temas de espacio no dejar la ejecución de $print\\_animation\\_PCA$"
   ]
  },
  {
   "cell_type": "markdown",
   "metadata": {},
   "source": [
    "### $compression\\_error\\_PCA$"
   ]
  },
  {
   "cell_type": "code",
   "execution_count": 16,
   "metadata": {},
   "outputs": [
    {
     "data": {
      "text/plain": [
       "26930.57758496589"
      ]
     },
     "execution_count": 16,
     "metadata": {},
     "output_type": "execute_result"
    }
   ],
   "source": [
    "compression_error_PCA(G, 10)"
   ]
  },
  {
   "cell_type": "markdown",
   "metadata": {},
   "source": [
    "### $PCA\\_size$"
   ]
  },
  {
   "cell_type": "code",
   "execution_count": 17,
   "metadata": {},
   "outputs": [
    {
     "data": {
      "text/plain": [
       "133.2"
      ]
     },
     "execution_count": 17,
     "metadata": {},
     "output_type": "execute_result"
    }
   ],
   "source": [
    "PCA_size(G, 10)"
   ]
  },
  {
   "cell_type": "markdown",
   "metadata": {},
   "source": [
    "# Conclusión"
   ]
  },
  {
   "cell_type": "markdown",
   "metadata": {},
   "source": [
    "* Podemos notar que el tamaño en MB es el mismo para ambos métodos, lo cual tiene sentido, ya que ambos almacenan el mismo tipo de datos, a la vez que poseen las mismas dimensiones, en el caso del GIF de prueba estas son (200,250,333) y el dato que se almacena son float de 8btyes, si realizamos el cálculo manual tenemos que:\n",
    "$$\n",
    "    size_{MB} = 200*250*333*8*10^{-6}\\\\\n",
    "    size_{MB} = 133.2\n",
    "$$\n",
    "\n",
    "* Podemos notar que PCA presenta un menor error en comparación a SVD, sin importar el m que utilizamos, por lo que puede ser más recomendable el utilizar PCA por sobre SVD.\n",
    "\n",
    "* A medida que aumentamos m obtenemos un GIF más parecido al original, pero tarda más tiempo en realizar su cálculo.\n",
    "\n",
    "* Las visualizaciones de PCA son mejores que las SVD, esto se comprueba con el valor de sus errores, ya que $error_{SVD} > error_{PCA}$."
   ]
  },
  {
   "cell_type": "markdown",
   "metadata": {
    "colab_type": "text",
    "id": "R2zh8RmEvGNT"
   },
   "source": [
    "# Referencias\n",
    "\n",
    "https://numpy.org/doc/stable/reference/generated/numpy.ndarray.nbytes.html\n",
    "\n",
    "https://numpy.org/doc/stable/reference/generated/numpy.linalg.eig.html"
   ]
  }
 ],
 "metadata": {
  "colab": {
   "collapsed_sections": [],
   "name": "Tarea-2.ipynb",
   "provenance": []
  },
  "kernelspec": {
   "display_name": "Python 3",
   "language": "python",
   "name": "python3"
  },
  "language_info": {
   "codemirror_mode": {
    "name": "ipython",
    "version": 3
   },
   "file_extension": ".py",
   "mimetype": "text/x-python",
   "name": "python",
   "nbconvert_exporter": "python",
   "pygments_lexer": "ipython3",
   "version": "3.7.6"
  }
 },
 "nbformat": 4,
 "nbformat_minor": 4
}
