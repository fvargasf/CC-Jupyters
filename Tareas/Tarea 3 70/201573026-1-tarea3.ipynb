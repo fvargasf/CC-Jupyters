{
 "cells": [
  {
   "cell_type": "code",
   "execution_count": 25,
   "metadata": {
    "collapsed": false,
    "jupyter": {
     "outputs_hidden": false
    }
   },
   "outputs": [],
   "source": [
    "import numpy as np\n",
    "import sympy as sp\n",
    "from PIL import Image\n",
    "from scipy import interpolate\n",
    "import matplotlib.pyplot as plt\n",
    "import time\n",
    "\n",
    "from skimage import data, img_as_float\n",
    "from skimage.metrics import structural_similarity as ssim\n",
    "from skimage.metrics import mean_squared_error"
   ]
  },
  {
   "cell_type": "markdown",
   "metadata": {},
   "source": [
    "# Tarea 3:Interpolación Bicúbica"
   ]
  },
  {
   "cell_type": "markdown",
   "metadata": {},
   "source": [
    "## Instrucciones\n",
    "\n",
    "* La tarea es individual.\n",
    "* Las consultas sobre las tareas se deben realizar por medio de la plataforma Aula.\n",
    "* La tarea debe ser realizada en `Jupyter Notebook` (`Python3`).\n",
    "* Se evaluará la correcta utilización de librerias `NumPy`, `SciPy`, entre otras, así como la correcta implementación de algoritmos de forma vectorizada.\n",
    "*  **El archivo de entrega debe denominarse ROL-tarea-numero.ipynb**. _De no respetarse este formato existirá un descuento de **50 puntos**_\n",
    "* La fecha de entrega es el viernes 24 de Julio a las **18:00 hrs**.  Se aceptarán entregas hasta las 19:00 hrs sin descuento en caso de existir algun problema, posteriormente existirá un descuento lineal hasta las 20:00 hrs del mismo día.\n",
    "* Las tareas que sean entregadas antes del jueves a mediodía recibirán una bonificación de 10 puntos\n",
    "* Debe citar cualquier código ajeno utilizado (incluso si proviene de los Jupyter Notebooks del curso).\n"
   ]
  },
  {
   "cell_type": "markdown",
   "metadata": {},
   "source": [
    "## Introducción"
   ]
  },
  {
   "cell_type": "markdown",
   "metadata": {
    "jupyter": {
     "source_hidden": true
    }
   },
   "source": [
    "En la siguiente tarea estudiaremos un método de interpolación denominado **Interpolación Bicúbica**, utilizada frecuentemente sobre imágenes. Aplicaremos el método para aumentar la resolución de una imagen intentando preservar las propiedades de la versión original."
   ]
  },
  {
   "cell_type": "markdown",
   "metadata": {},
   "source": [
    "## Contexto"
   ]
  },
  {
   "cell_type": "markdown",
   "metadata": {
    "jupyter": {
     "source_hidden": true
    }
   },
   "source": [
    "Supongamos que usted conoce $f$ y las derivadas $f_x$, $f_y$ y $f_{xy}$ dentro de las coordenadas $(0,0),(0,1),(1,0)$ y $(1,1)$ de un cuadrado unitario. La superficie que interpola estos 4 puntos es:\n",
    "\n",
    "$$\n",
    "p(x,y) = \\sum\\limits_{i=0}^3 \\sum_{j=0}^3 a_{ij} x^i y^j.\n",
    "$$\n",
    "\n",
    "Como se puede observar el problema de interpolación se resume en determinar los 16 coeficientes $a_{ij}$ y para esto se genera un total de $16$ ecuaciones utilizando los valores conocidos de $f$,$f_x$,$f_y$ y $f_{xy}$. Por ejemplo, las primeras $4$ ecuaciones son:\n",
    "\n",
    "$$\n",
    "\\begin{aligned}\n",
    "f(0,0)&=p(0,0)=a_{00},\\\\\n",
    "f(1,0)&=p(1,0)=a_{00}+a_{10}+a_{20}+a_{30},\\\\\n",
    "f(0,1)&=p(0,1)=a_{00}+a_{01}+a_{02}+a_{03},\\\\\n",
    "f(1,1)&=p(1,1)=\\textstyle \\sum \\limits _{i=0}^{3}\\sum \\limits _{j=0}^{3}a_{ij}.\n",
    "\\end{aligned}\n",
    "$$\n",
    "\n",
    "Para las $12$ ecuaciones restantes se debe utilizar:\n",
    "\n",
    "$$\n",
    "\\begin{aligned}\n",
    "f_{x}(x,y)&=p_{x}(x,y)=\\textstyle \\sum \\limits _{i=1}^{3}\\sum \\limits _{j=0}^{3}a_{ij}ix^{i-1}y^{j},\\\\\n",
    "f_{y}(x,y)&=p_{y}(x,y)=\\textstyle \\sum \\limits _{i=0}^{3}\\sum \\limits _{j=1}^{3}a_{ij}x^{i}jy^{j-1},\\\\\n",
    "f_{xy}(x,y)&=p_{xy}(x,y)=\\textstyle \\sum \\limits _{i=1}^{3}\\sum \\limits _{j=1}^{3}a_{ij}ix^{i-1}jy^{j-1}.\n",
    "\\end{aligned}\n",
    "$$\n",
    "\n",
    "\n",
    "Una vez planteadas las ecuaciones, los coeficientes se pueden obtener al resolver el problema $A\\alpha=x$, donde $\\alpha=\\left[\\begin{smallmatrix}a_{00}&a_{10}&a_{20}&a_{30}&a_{01}&a_{11}&a_{21}&a_{31}&a_{02}&a_{12}&a_{22}&a_{32}&a_{03}&a_{13}&a_{23}&a_{33}\\end{smallmatrix}\\right]^T$ y ${\\displaystyle x=\\left[{\\begin{smallmatrix}f(0,0)&f(1,0)&f(0,1)&f(1,1)&f_{x}(0,0)&f_{x}(1,0)&f_{x}(0,1)&f_{x}(1,1)&f_{y}(0,0)&f_{y}(1,0)&f_{y}(0,1)&f_{y}(1,1)&f_{xy}(0,0)&f_{xy}(1,0)&f_{xy}(0,1)&f_{xy}(1,1)\\end{smallmatrix}}\\right]^{T}}$.\n"
   ]
  },
  {
   "cell_type": "markdown",
   "metadata": {
    "jupyter": {
     "source_hidden": true
    }
   },
   "source": [
    "En un contexto más aplicado, podemos hacer uso de la interpolación bicúbica para aumentar la resolución de una imagen. Supongamos que tenemos la siguiente imagen de tamaño $5 \\times 5$:"
   ]
  },
  {
   "cell_type": "markdown",
   "metadata": {
    "jupyter": {
     "source_hidden": true
    }
   },
   "source": [
    "<img src=\"img1.png\" width=\"20%\"/>"
   ]
  },
  {
   "cell_type": "markdown",
   "metadata": {
    "jupyter": {
     "source_hidden": true
    }
   },
   "source": [
    "Podemos ir tomando segmentos de la imagen de tamaño $2 \\times 2$ de la siguiente forma:"
   ]
  },
  {
   "cell_type": "markdown",
   "metadata": {
    "jupyter": {
     "source_hidden": true
    }
   },
   "source": [
    "<img src=\"img2.png\" width=\"50%\"/>"
   ]
  },
  {
   "cell_type": "markdown",
   "metadata": {
    "jupyter": {
     "source_hidden": true
    }
   },
   "source": [
    "Por cada segmento podemos generar una superficie interpoladora mediante el algoritmo de interpolación cubica. Para el ejemplo anterior estariamos generando $16$ superficies interpoladoras distintas. La idea es hacer uso de estas superficies para estimar los valores de los pixeles correspondienets a una imagen más grande. Por ejemplo, la imagen $5 \\times 5$ la podemos convertir a una imagen de $9 \\times 9$ agregando un pixel entre cada par de pixeles originales además de uno en el centro para que no quede un hueco."
   ]
  },
  {
   "cell_type": "markdown",
   "metadata": {
    "jupyter": {
     "source_hidden": true
    }
   },
   "source": [
    "<img src=\"img3.png\" width=\"50%\"/>"
   ]
  },
  {
   "cell_type": "markdown",
   "metadata": {
    "jupyter": {
     "source_hidden": true
    }
   },
   "source": [
    "Aca los pixeles verdes son los mismos que la imagen original y los azules son obtenidos de evaluar cada superficie interpoladora. Notar que existen pixeles azules que se pueden obtener a partir de dos superficies interpoladoras distintas, en esos casos se puede promediar el valor de los pixeles o simplemente dejar uno de los dos. \n",
    "\n",
    "Para trabajar con la interpolación bicubica necesitamos conocer los valores de $f_x$, $f_y$ y $f_{xy}$. En el caso de las imagenes solo tenemos acceso al valor de cada pixel por lo que deberemos estimar cual es el valor de estos. Para estimar $f_x$ haremos lo siguiente:"
   ]
  },
  {
   "cell_type": "markdown",
   "metadata": {
    "jupyter": {
     "source_hidden": true
    }
   },
   "source": [
    "Para estimar el valor de $f_x$ en cada pixel haremos una interpolación con los algoritmos conocidos, usando tres pixels en dirección de las filas, luego derivaremos el polinomio obtenido y finalmente evaluaremos en la posición de interes. La misma idea aplica para $f_y$ solo que ahora interpolaremos en dirección de las columnas."
   ]
  },
  {
   "cell_type": "markdown",
   "metadata": {
    "jupyter": {
     "source_hidden": true
    }
   },
   "source": [
    "<img src=\"img5.png\" width=\"60%\"/>"
   ]
  },
  {
   "cell_type": "markdown",
   "metadata": {},
   "source": [
    "Por ejemplo si queremos obtener el valor de $f_x$ en la posición $(0,0)$ (imagen de la izquierda) entonces haremos una interpolación de Lagrange utilizando los pixeles $(0,-1),(0,0)$ y $(0,1)$. Derivaremos el polinomio interpolador y evaluaremos en $(0,0)$. Por otro lado si queremos obtener el valor de $f_y$ en la posición $(0,0)$ (imagen de la derecha) entonces interpolaremos los pixeles $(-1,0),(0,0)$ y $(1,0)$. Luego derivaremos el polinomio interpolador y evaluaremos en $(0,0)$."
   ]
  },
  {
   "cell_type": "markdown",
   "metadata": {},
   "source": [
    "Para obtener $f_{xy}$ seguiremos la idea anterior. Solo que esta vez se utilizaran los valores de $f_y$ y se interpolaran estos en dirección de las filas."
   ]
  },
  {
   "cell_type": "markdown",
   "metadata": {},
   "source": [
    "# Preguntas"
   ]
  },
  {
   "cell_type": "code",
   "execution_count": 2,
   "metadata": {},
   "outputs": [],
   "source": [
    "#Codigo para abrir y visualizar imágenes\n",
    "#img = Image.open('imagenes_prueba/sunset.png')\n",
    "#array=np.array(img)\n",
    "#imgplot = plt.imshow(array)\n",
    "#plt.show()"
   ]
  },
  {
   "cell_type": "markdown",
   "metadata": {},
   "source": [
    "## 1. Interpolación bicubica"
   ]
  },
  {
   "cell_type": "markdown",
   "metadata": {},
   "source": [
    "### 1.1  Obtener derivadas (30 puntos)\n",
    "\n",
    "Implemente la función `derivativeValues` que reciba como input un arreglo con valores, el método de interpolación y si es que se considera el uso de  los puntos de chebyshev . La función debe retornar un arreglo de igual dimensión con los valores de las derivadas de los puntos obtenidas\n",
    "\n",
    "Los métodos de interpolación serán representados por los siguientes valores\n",
    "\n",
    "* Interpolación de lagrange: `'lagrange'`\n",
    "* Diferencias divididas de Newton: `'newton'`\n",
    "* Spline cubica: `'spline3'`\n"
   ]
  },
  {
   "cell_type": "code",
   "execution_count": 3,
   "metadata": {
    "jupyter": {
     "source_hidden": true
    }
   },
   "outputs": [],
   "source": [
    "def newtonDD(x_i, y_i):\n",
    "    n = x_i.shape[-1]\n",
    "    pyramid = np.zeros((n, n)) # Create a square matrix to hold pyramid\n",
    "    pyramid[:,0] = y_i # first column is y\n",
    "    for j in range(1,n):\n",
    "        for i in range(n-j):\n",
    "            # create pyramid by updating other columns\n",
    "            pyramid[i][j] = (pyramid[i+1][j-1] - pyramid[i][j-1]) / (x_i[i+j] - x_i[i])\n",
    "    a = pyramid[0] # f[ ... ] coefficients\n",
    "    return np.poly1d(a[::-1])\n",
    "\n",
    "def chebyshevNodes(n):\n",
    "    i = np.arange(1, n+1)\n",
    "    t = (2*i - 1) * np.pi / (2 * n)\n",
    "    return np.cos(t)"
   ]
  },
  {
   "cell_type": "code",
   "execution_count": 8,
   "metadata": {
    "jupyter": {
     "source_hidden": true
    }
   },
   "outputs": [],
   "source": [
    "def derivativeValues(values, method, cheb):\n",
    "    \"\"\"\n",
    "    Parameters\n",
    "    ----------\n",
    "    values: (int array) points values\n",
    "    method: (string)    interpolation method\n",
    "    cheb:   (boolean)   if chebyshev points are used\n",
    "\n",
    "    Returns\n",
    "    -------\n",
    "    d: (float array) derivative value of interpolated points\n",
    "\n",
    "    \"\"\"\n",
    "    values = np.sort(values)\n",
    "    N = len(values)\n",
    "    d = np.array(N)\n",
    "    \n",
    "    if cheb:\n",
    "        xs = np.sort(chebyshevNodes(N))\n",
    "    else:\n",
    "        xs = np.linspace(0, N-1, N)\n",
    "    \n",
    "    if method == 'lagrange':\n",
    "        f = interpolate.lagrange(xs, values)\n",
    "        fp = f.deriv(1)\n",
    "    elif method == 'newton':\n",
    "        f = newtonDD(xs, values)\n",
    "        fp = f.deriv(1)\n",
    "    else:\n",
    "        f = interpolate.CubicSpline(xs, values)\n",
    "        fp = f.derivative()\n",
    "    d = fp(xs)\n",
    "    \n",
    "    return d\n"
   ]
  },
  {
   "cell_type": "markdown",
   "metadata": {},
   "source": [
    "\n",
    "### 1.2 Interpolación de imagen (50 puntos)\n",
    "Implemente la función `bicubicInterpolation` que reciba como input la matriz de la imagen y cuantos píxeles extra se quiere agregar entre los píxeles originales y el algoritmo de interpolación a utilizar. La función debe retornar la matriz con la imagen de dimensión nueva. Considere que se debe aplicar el método de interpolación en cada canal RGB por separado."
   ]
  },
  {
   "cell_type": "code",
   "execution_count": 37,
   "metadata": {
    "jupyter": {
     "source_hidden": true
    }
   },
   "outputs": [],
   "source": [
    "def bicubicInterpolation(image, interiorPixels, method,cheb):\n",
    "    \"\"\"\n",
    "    Parameters\n",
    "    ----------\n",
    "    image: (nxnx3 array) image array in RGB format\n",
    "    interio Pixels: (int) interpolation method\n",
    "    method: (string)    interpolation method\n",
    "    cheb:   (boolean)   if chebyshev points are used\n",
    "\n",
    "\n",
    "    Returns\n",
    "    -------\n",
    "    newImage:  (nxnx3 array) image array in RGB format\n",
    "\n",
    "    \"\"\"\n",
    "    A = np.array([\n",
    "        [1,0,0,0,0,0,0,0,0,0,0,0,0,0,0,0],\n",
    "        [1,1,1,1,0,0,0,0,0,0,0,0,0,0,0,0],\n",
    "        [1,0,0,0,1,0,0,0,1,0,0,0,1,0,0,0],\n",
    "        [1,1,1,1,1,1,1,1,1,1,1,1,1,1,1,1],\n",
    "        [0,1,0,0,0,0,0,0,0,0,0,0,0,0,0,0],\n",
    "        [0,1,2,3,0,0,0,0,0,0,0,0,0,0,0,0],\n",
    "        [0,1,0,0,0,1,0,0,0,1,0,0,0,1,0,0],\n",
    "        [0,1,2,3,0,1,2,3,0,1,2,3,0,1,2,3],\n",
    "        [0,0,0,0,1,0,0,0,0,0,0,0,0,0,0,0],\n",
    "        [0,0,0,0,1,1,1,1,0,0,0,0,0,0,0,0],\n",
    "        [0,0,0,0,1,0,0,0,2,0,0,0,3,0,0,0],\n",
    "        [0,0,0,0,1,1,1,1,2,2,2,2,3,3,3,3],\n",
    "        [0,0,0,0,0,1,0,0,0,0,0,0,0,0,0,0],\n",
    "        [0,0,0,0,0,1,2,3,0,0,0,0,0,0,0,0],\n",
    "        [0,0,0,0,0,1,0,0,0,2,0,0,0,3,0,0],\n",
    "        [0,0,0,0,0,1,2,3,0,2,4,6,0,3,6,9]\n",
    "    ])\n",
    "    \n",
    "    A_i = np.linalg.inv(A)\n",
    "    \n",
    "    n = image.shape[0]\n",
    "    image = np.append(image, image[:,-1:], axis=1)\n",
    "    image = np.append(image, image[:,-1:], axis=1)\n",
    "    image = np.append(image, image[:,-1:], axis=1)\n",
    "    image = np.append(image, image[:,-1:], axis=1)\n",
    "    rep = np.ones(image.shape[0])\n",
    "    rep[-1] = 5\n",
    "    image = np.repeat(image, repeats = rep.astype(int), axis=0)\n",
    "    extra_p = interiorPixels(n-1) if n%2 else interiorPixels*n\n",
    "    newImage = np.zeros((n+extra_p+1, n+extra_p+1, 3))\n",
    "    added_p = 1\n",
    "    i_n = 0\n",
    "    for i in range(n+1):\n",
    "        j_n = 0\n",
    "        for j in range(n+1):\n",
    "            f_00 = image[i ][j  ]\n",
    "            f_01 = image[i ][j+1]\n",
    "            f_10 = image[i+1][j  ]\n",
    "            f_11 = image[i+1][j+1]\n",
    "\n",
    "            fxR_00  = derivativeValues(np.array([image[i][j][0], image[i+1][j][0], image[i+2][j][0]]), method, cheb)\n",
    "            fxG_00  = derivativeValues(np.array([image[i][j][1], image[i+1][j][1], image[i+2][j][1]]), method, cheb)\n",
    "            fxB_00  = derivativeValues(np.array([image[i][j][2], image[i+1][j][2], image[i+2][j][2]]), method, cheb)\n",
    "\n",
    "            fxR_01  = derivativeValues(np.array([image[i][j+1][0], image[i+1][j+1][0], image[i+2][j+1][0]]), method, cheb)\n",
    "            fxG_01  = derivativeValues(np.array([image[i][j+1][1], image[i+1][j+1][1], image[i+2][j+1][1]]), method, cheb)\n",
    "            fxB_01  = derivativeValues(np.array([image[i][j+1][2], image[i+1][j+1][2], image[i+2][j+1][2]]), method, cheb)\n",
    "\n",
    "            fxR_10  = derivativeValues(np.array([image[i+1][j][0], image[i+2][j][0], image[i+3][j][0]]), method, cheb)\n",
    "            fxG_10  = derivativeValues(np.array([image[i+1][j][1], image[i+2][j][1], image[i+3][j][1]]), method, cheb)\n",
    "            fxB_10  = derivativeValues(np.array([image[i+1][j][2], image[i+2][j][2], image[i+3][j][2]]), method, cheb)\n",
    "\n",
    "            fxR_11  = derivativeValues(np.array([image[i+1][j+1][0], image[i+2][j+1][0], image[i+3][j+1][0]]), method, cheb)\n",
    "            fxG_11  = derivativeValues(np.array([image[i+1][j+1][1], image[i+2][j+1][1], image[i+3][j+1][1]]), method, cheb)\n",
    "            fxB_11  = derivativeValues(np.array([image[i+1][j+1][2], image[i+2][j+1][2], image[i+3][j+1][2]]), method, cheb)\n",
    "\n",
    "            fyR_00  = derivativeValues(np.array([image[i][j+1][0], image[i][j+1][0], image[i][j+2][0]]), method, cheb)\n",
    "            fyG_00  = derivativeValues(np.array([image[i][j+1][1], image[i][j+1][1], image[i][j+2][1]]), method, cheb)\n",
    "            fyB_00  = derivativeValues(np.array([image[i][j+1][2], image[i][j+1][2], image[i][j+2][2]]), method, cheb)\n",
    "\n",
    "            fyR_01  = derivativeValues(np.array([image[i][j+1][0], image[i][j+2][0], image[i][j+3][0]]), method, cheb)\n",
    "            fyG_01  = derivativeValues(np.array([image[i][j+1][1], image[i][j+2][1], image[i][j+3][1]]), method, cheb)\n",
    "            fyB_01  = derivativeValues(np.array([image[i][j+1][2], image[i][j+2][2], image[i][j+3][2]]), method, cheb)\n",
    "\n",
    "            fyR_10  = derivativeValues(np.array([image[i+1][j][0], image[i+2][j][0], image[i+3][j][0]]), method, cheb)\n",
    "            fyG_10  = derivativeValues(np.array([image[i+1][j][1], image[i+2][j][1], image[i+3][j][1]]), method, cheb)\n",
    "            fyB_10  = derivativeValues(np.array([image[i+1][j][2], image[i+2][j][2], image[i+3][j][2]]), method, cheb)\n",
    "\n",
    "            fyR_11  = derivativeValues(np.array([image[i+1][j+1][0], image[i+2][j+1][0], image[i+3][j+1][0]]), method, cheb)\n",
    "            fyG_11  = derivativeValues(np.array([image[i+1][j+1][1], image[i+2][j+1][1], image[i+3][j+1][1]]), method, cheb)\n",
    "            fyB_11  = derivativeValues(np.array([image[i+1][j+1][2], image[i+2][j+1][2], image[i+3][j+1][2]]), method, cheb)\n",
    "\n",
    "            fxyR_00 = derivativeValues(fyR_00, method, cheb)\n",
    "            fxyG_00 = derivativeValues(fyG_00, method, cheb)\n",
    "            fxyB_00 = derivativeValues(fyB_00, method, cheb)\n",
    "\n",
    "            fxyR_01 = derivativeValues(fyR_01, method, cheb)\n",
    "            fxyG_01 = derivativeValues(fyG_01, method, cheb)\n",
    "            fxyB_01 = derivativeValues(fyB_01, method, cheb)\n",
    "\n",
    "            fxyR_10 = derivativeValues(fyR_10, method, cheb)\n",
    "            fxyG_10 = derivativeValues(fyG_10, method, cheb)\n",
    "            fxyB_10 = derivativeValues(fyB_10, method, cheb)\n",
    "\n",
    "            fxyR_11 = derivativeValues(fyR_11, method, cheb)\n",
    "            fxyG_11 = derivativeValues(fyG_11, method, cheb)\n",
    "            fxyB_11 = derivativeValues(fyB_11, method, cheb)\n",
    "\n",
    "\n",
    "            fsR = np.array([f_00[0], f_10[0], f_01[0], f_11[0], fxR_00[0], fxR_10[0], fxR_01[0], fxR_11[0], fyR_00[0],\n",
    "                            fyR_10[0], fyR_01[0], fyR_11[0], fxyR_00[0], fxyR_10[0], fxyR_01[0], fxyR_11[0]])\n",
    "\n",
    "            fsG = np.array([f_00[1], f_10[1], f_01[1], f_11[1], fxG_00[0], fxG_10[0], fxG_01[0], fxG_11[0], fyG_00[0],\n",
    "                            fyG_10[0], fyG_01[0], fyG_11[0], fxyG_00[0], fxyG_10[0], fxyG_01[0], fxyG_11[0]])\n",
    "\n",
    "            fsB = np.array([f_00[2], f_10[2], f_01[2], f_11[2], fxB_00[0], fxB_10[0], fxB_01[0], fxB_11[0], fyB_00[0],\n",
    "                            fyB_10[0], fyB_01[0], fyB_11[0], fxyB_00[0], fxyB_10[0], fxyB_01[0], fxyB_11[0]])\n",
    "\n",
    "            alpha_R = np.dot(A_i,fsR).reshape((4,4)).T\n",
    "            alpha_G = np.dot(A_i,fsG).reshape((4,4)).T\n",
    "            alpha_B = np.dot(A_i,fsB).reshape((4,4)).T\n",
    "\n",
    "            f_aux = lambda x: np.array([1, x, x**2, x**3])\n",
    "\n",
    "            pR_00 = np.dot(np.dot(f_aux(0),alpha_R),f_aux(0))\n",
    "            pG_00 = np.dot(np.dot(f_aux(0),alpha_G),f_aux(0))\n",
    "            pB_00 = np.dot(np.dot(f_aux(0),alpha_B),f_aux(0))\n",
    "\n",
    "            pR_01 = np.dot(np.dot(f_aux(0),alpha_R),f_aux(1))\n",
    "            pG_01 = np.dot(np.dot(f_aux(0),alpha_G),f_aux(1))\n",
    "            pB_01 = np.dot(np.dot(f_aux(0),alpha_B),f_aux(1))\n",
    "\n",
    "            pR_10 = np.dot(np.dot(f_aux(1),alpha_R),f_aux(0))\n",
    "            pG_10 = np.dot(np.dot(f_aux(1),alpha_G),f_aux(0))\n",
    "            pB_10 = np.dot(np.dot(f_aux(1),alpha_B),f_aux(0))\n",
    "\n",
    "            pR_11 = np.dot(np.dot(f_aux(1),alpha_R),f_aux(1))\n",
    "            pG_11 = np.dot(np.dot(f_aux(1),alpha_G),f_aux(1))\n",
    "            pB_11 = np.dot(np.dot(f_aux(1),alpha_B),f_aux(1))\n",
    "\n",
    "            if j_n < n+extra_p and i_n < n+extra_p:\n",
    "                newImage[i_n  ][j_n  ] = [pR_00, pG_00, pB_00]\n",
    "                newImage[i_n  ][j_n+1] = [pR_01, pG_01, pB_01]\n",
    "                newImage[i_n+1][j_n  ] = [pR_10, pG_10, pB_10]\n",
    "                newImage[i_n+1][j_n+1] = [pR_11, pG_11, pB_11]\n",
    "            j_n += 2\n",
    "        i_n += 2\n",
    "        \n",
    "    return newImage[:n+extra_p-1, :n+extra_p-1]"
   ]
  },
  {
   "cell_type": "markdown",
   "metadata": {},
   "source": [
    "## 2. Evaluacion de algoritmos\n",
    "\n"
   ]
  },
  {
   "cell_type": "markdown",
   "metadata": {},
   "source": [
    "### 2.1 Tiempo de ejecucion \n",
    "Implemente la funcion `timeInterpolation` que mida el tiempo de interpolacion de una imagen dado el algoritmo de interpolacion , en segundos.(5 puntos)"
   ]
  },
  {
   "cell_type": "code",
   "execution_count": 24,
   "metadata": {},
   "outputs": [],
   "source": [
    "def timeInterpolation(image, interiorPixels, method,cheb):\n",
    "    \"\"\"\n",
    "    Parameters\n",
    "    ----------\n",
    "    image:\t(nxnx3 array) image array in RGB format\n",
    "    interiorPixels:\t(int)\tinterpolation method\n",
    "    method:\t(string)\tinterpolation method\n",
    "    cheb:\t(boolean)\tif chebyshev points are used\n",
    "\n",
    "\n",
    "    Returns\n",
    "    -------\n",
    "    time:\t(float) time in seconds\n",
    "\n",
    "    \"\"\"\n",
    "    start_t = time.time()\n",
    "    interpolated_img = bicubicInterpolation(image, interiorPixels, method,cheb)\n",
    "    end_t = time.time()\n",
    "    return end_t-start_t"
   ]
  },
  {
   "cell_type": "markdown",
   "metadata": {},
   "source": [
    "***Pregunta: ¿Cual es el metodo que presenta mayor velocidad en general? (5 puntos)***"
   ]
  },
  {
   "cell_type": "markdown",
   "metadata": {},
   "source": [
    "Diferencias divididas de Newton es el método más veloz de los tres utilizados.\n",
    "\n",
    "Si ordenamos los métodos por su velocidad vemos que:\n",
    "$$\n",
    "    Newton > CubicSpline > Lagrange\n",
    "$$\n",
    "\n",
    "También se observa que, si utilizamos nodos de Chevyshev en vez de puntos equiespaciados, el tiempo de ejecución se ve mejorado.\n"
   ]
  },
  {
   "cell_type": "markdown",
   "metadata": {},
   "source": [
    "### 2.2 Calculo de error\n",
    "Implemente la funcion `errorInterpolation` la cual debe obtener el error de la imagen obtenida comparandola con una de referencia. El error debe ser calculado utilizando el indice SSIM (Structural similarity) (5 puntos)"
   ]
  },
  {
   "cell_type": "code",
   "execution_count": 43,
   "metadata": {},
   "outputs": [],
   "source": [
    "def errorInterpolation(original,new):\n",
    "    \"\"\"\n",
    "    Parameters\n",
    "    ----------\n",
    "    image:\t(nxn array) original image array in RGB format\n",
    "    new:\t(nxn array) new image array in RGB format obtained from interpolation\n",
    "\n",
    "\n",
    "    Returns\n",
    "    -------\n",
    "    error:\t(float) difference between images \n",
    "\n",
    "    \"\"\"\n",
    "    original = img_as_float(original)\n",
    "    new = img_as_float(original)\n",
    "    error = ssim(original, new, data_range=original.max() - original.min(),multichannel=True)\n",
    "    return error"
   ]
  },
  {
   "cell_type": "markdown",
   "metadata": {},
   "source": [
    "***Pregunta: ¿Cual metodo presenta menor error? (5 puntos)***"
   ]
  },
  {
   "cell_type": "markdown",
   "metadata": {},
   "source": [
    "# Consideraciones"
   ]
  },
  {
   "cell_type": "markdown",
   "metadata": {},
   "source": [
    "* Solo trabajaremos con imagenes cuadradas\n",
    "* En el caso que el valor interpolado de un punto sea mayor a 255 o menor a 0, este se trunca a 255 o 0 respectivamente\n",
    "* Esta permitido el uso de sympy para calcular derivadas y para construir el polinomio interpolador \n",
    "* El calculo de error puede ser calculado utilizando la imagen en escala de grises [(ejemplo)](https://scikit-image.org/docs/dev/auto_examples/transform/plot_ssim.html)"
   ]
  },
  {
   "cell_type": "markdown",
   "metadata": {
    "jupyter": {
     "outputs_hidden": false
    }
   },
   "source": [
    "# Referencias\n",
    "\n",
    "* Función que genera Nodos de Chevyshev fue obtenida del material del curso.\n",
    "* Funcion para las diferencias divididas se obtuvo su base del material del curso, luego se le modificaron las últimas lines.\n",
    "\n",
    "[Enlace del jupyter que se uso como fuente](https://github.com/sct-utfsm/INF-285/blob/master/material/05_interpolacion_1D/interpolacion.ipynb)\n",
    "\n"
   ]
  }
 ],
 "metadata": {
  "kernelspec": {
   "display_name": "Python 3",
   "language": "python",
   "name": "python3"
  },
  "language_info": {
   "codemirror_mode": {
    "name": "ipython",
    "version": 3
   },
   "file_extension": ".py",
   "mimetype": "text/x-python",
   "name": "python",
   "nbconvert_exporter": "python",
   "pygments_lexer": "ipython3",
   "version": "3.7.6"
  }
 },
 "nbformat": 4,
 "nbformat_minor": 4
}
