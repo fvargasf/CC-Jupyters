{
 "cells": [
  {
   "cell_type": "markdown",
   "metadata": {
    "colab_type": "text",
    "id": "qimgVFB3r58e"
   },
   "source": [
    "# INF-285 / ILI-285\n",
    "## Desafío 1, v1.01\n",
    "### SCT 2020-1\n",
    "\n",
    "### Francis Vargas Ferrer\n",
    "### 201573026-1"
   ]
  },
  {
   "cell_type": "markdown",
   "metadata": {
    "colab_type": "text",
    "id": "_pik3saquHQa"
   },
   "source": [
    "# Introducción\n",
    "\n",
    "En el siguiente desafío estudiaremos el comportamiento de $2$ algoritmos para obtener el punto fijo $r$ de funciones $g(x)$, es decir, $r=g(r)$.\n",
    "Es importante destacar que el punto fijo de una función no es lo mismo que la raíz de una función, sin embargo sí están muy relacionados.\n",
    "Solo a modo de recordatorio, la raíz de una función $f(x)$ es encontrar un $\\hat{x}$ tal que $f(\\hat{x})=0$.\n",
    "\n",
    "## Iteración de Punto Fijo\n",
    "\n",
    "El algoritmo llamado Iteración de Punto Fijo (IPF o *FPI*, *Fixed Point Iteration* del inglés) se define de la siguiente forma:\n",
    "\\begin{align*}\n",
    "  x_0 &= \\text{\"Initial guess''},\\\\\n",
    "  x_{i+1} &= g(x_i), \\quad i\\in {1,2,3,\\dots}.\n",
    "\\end{align*}\n",
    "\n",
    "El cual puede o no puede converger a su punto fijo $r=g(r)$ dependiendo del comportamiento de $g(x)$ entorno al punto fijo $r$.\n",
    "En el caso de que la iteración de punto fijo diverja, uno debiera buscar otra forma de encontrar el punto fijo, la otra manera se explica a continuación.\n",
    "\n",
    "## Método de la Bisección\n",
    "\n",
    "En el caso de que la iteración de punto fijo diverja o simplemente converja muy lento, podemos usar convenientemente el Método de la Bisección.\n",
    "Para poder utilizar el Método de la Bisección, debemos adaptarlo, dado que es un algoritmo diseñado para buscar raíces de una función, no puntos fijos de una función.\n",
    "La adaptación consiste en escribir convenientemente la búsqueda de un punto fijo como la búsqueda de una raíz de la siguiente forma,\n",
    "\\begin{equation}\n",
    "  f(x) = x - g(x),\n",
    "\\end{equation}\n",
    "\n",
    "donde podemos comprobar que si evaluamos la función $f(x)$ en el punto fijo de $g(x)$ obtenemos la equivalencia,\n",
    "\\begin{equation}\n",
    "  f(r) = r - g(r)=0.\n",
    "\\end{equation}\n",
    "\n",
    "Por lo tanto, ¡hemos exitosamente conectado un problema de punto fijo con un problema de búsqueda de ceros!\n",
    "\n",
    "**De esta forma ambos métodos podrían ser útiles si necesitamos encontrar puntos fijos de funciones**.\n",
    "\n",
    "Comentario: ¿Puede visualizar ahora el como utilizar búsqueda de puntos fijos para encontrar raíces de funciones?"
   ]
  },
  {
   "cell_type": "markdown",
   "metadata": {
    "colab_type": "text",
    "id": "eEBrFbq50kES"
   },
   "source": [
    "# Ejercicio\n"
   ]
  },
  {
   "cell_type": "code",
   "execution_count": 1,
   "metadata": {
    "colab": {},
    "colab_type": "code",
    "id": "qGeqEAB2mNug"
   },
   "outputs": [],
   "source": [
    "# Bibliotecas necesarias\n",
    "import numpy as np\n",
    "import matplotlib.pyplot as plt"
   ]
  },
  {
   "cell_type": "markdown",
   "metadata": {
    "colab_type": "text",
    "id": "qluMnQPHy_OI"
   },
   "source": [
    "Se solicita implementar una rutina ```obtener_punto_fijo``` que reciba la función $g(x)$, un intervalo $[a, b]$ y un ```n_iter```, que indica el máximo número de iteraciones que pueden utilizar los métodos de bisección y punto fijo.\n",
    "Notar que los métodos deben retornar la secuencia de soluciones obtenidas hasta que se logra la convergencia, es necesario que cuando se logre el punto fijo no se retorne una secuencia de valores repetidos, si no que se trunque el vector de salida hasta donde empezó a repetirse el valor respectivo, de otra forma se estará dividiendo por $0$ en la explicación incluida más adelante.\n",
    "\n",
    "El retorno de la rutina debe ser la mejor solución aproximada ```x_sol```, y una estructura del tipo \n",
    "```[('biseccion', tasa_bisección), ('punto fijo', tasa_punto_fijo)]```, donde se reporta el algoritmo (en el orden solicitado) y la tasa de convergencia respectiva.\n",
    "Por lo tanto la firma de la función debería quedar como:\n",
    "```python\n",
    "  def obtener_punto_fijo(g, a, b, n_iter):\n",
    "    # Su algoritmo...\n",
    "\n",
    "    resultado = [('biseccion', tasa_biseccion), ('punto fijo', tasa_punto_fijo)]\n",
    "    x_sol = ...\n",
    "    return x_sol, resultado\n",
    "```\n",
    "\n",
    "La idea es que su algoritmo permita retornar la solución asociada al método con mejor *tasa de convergencia*."
   ]
  },
  {
   "cell_type": "markdown",
   "metadata": {
    "colab_type": "text",
    "id": "VtpyCvWM00H0"
   },
   "source": [
    "Para que pueda calcular la *tasa de convergencia* se pone a disposición la función ```obtener_tasa(ratio)```, que recibe un arreglo con los cocientes de la estimación numérica de los errores en cada iteración. Los cuales deben ser obtenidos de la siguiente forma:\n",
    "\\begin{equation}\n",
    "  ratio_i = \\frac{|x_{i+1} - x_i|}{|x_i - x_{i-1}|}\n",
    "\\end{equation}"
   ]
  },
  {
   "cell_type": "code",
   "execution_count": 2,
   "metadata": {
    "colab": {},
    "colab_type": "code",
    "id": "gMnDnwQ-H0KW"
   },
   "outputs": [],
   "source": [
    "def obtener_tasa(ratio):\n",
    "  hist, bin_edges = np.histogram(ratio, bins=10000)\n",
    "  k = np.argmax(hist)\n",
    "  return np.round((bin_edges[k] + bin_edges[k+1]) / 2, 5)"
   ]
  },
  {
   "cell_type": "markdown",
   "metadata": {
    "colab_type": "text",
    "id": "ow0jA-pR2TNe"
   },
   "source": [
    "Además, para que pueda probar el funcionamiento de su procedimiento, se ponen a disposición las siguientes funciones y los intevalos donde debe buscar el punto fijo:"
   ]
  },
  {
   "cell_type": "code",
   "execution_count": 3,
   "metadata": {
    "colab": {},
    "colab_type": "code",
    "id": "hMuaMxSdmSIR"
   },
   "outputs": [],
   "source": [
    "g1 = lambda x: np.cos(x) # Intervalo: [0, 1]\n",
    "g2 = lambda x: 3 / (x-2) # Intervalo: [-3, 0]\n",
    "g3 = lambda x: (x + 10.) ** (1 / 4) # Intervalo: [0, 2]\n",
    "g4 = lambda x: 3 + 2 * np.sin(x) # Intervalo: [-5, 5]\n",
    "g5 = lambda x: np.cos(x) / np.exp(x) # Intervalo: [0, 4]\n",
    "g6 = lambda x: (np.exp(x) + x ** 3 + 4 * x ** 2 + 2 * x + 2) / (x ** 2 + 3 * x - 3) # Intervalo: [-1, 0]\n",
    "g7 = lambda x: np.exp((np.exp(-x) / 3)) # Intervalo: [0, 2]\n",
    "g8 = lambda x: -0.5 * x + 3 / 2 # Intervalo: [0, 1]\n",
    "g9 = lambda x: (x ** 3 - 5) / 2 # Intervalo: [2, 3]\n",
    "g10 = lambda x: -1 + 1.5 * x # Intervalo: [0,10]\n",
    "g11 = lambda x: 0.7 + 1.7 * x # Intervalo: [-10,10]\n",
    "fs = [g1, g2, g3, g4 ,g5 ,g6 ,g7, g8, g9, g10, g11]\n",
    "points = [[0,1], [-3,0], [0,2], [-5,5], [0,4], [-1,0], [0,2], [0,1], [2,3], [0,10], [-10,10]]"
   ]
  },
  {
   "cell_type": "markdown",
   "metadata": {
    "colab_type": "text",
    "id": "InfGOnZqKDIF"
   },
   "source": [
    "Se incluye a continuación el enunciado de la función que usted debe entregar:"
   ]
  },
  {
   "cell_type": "code",
   "execution_count": 5,
   "metadata": {
    "colab": {},
    "colab_type": "code",
    "id": "Gn06N_slnCa0"
   },
   "outputs": [],
   "source": [
    "def bisection(f, a, b, n_iter):\n",
    "    x = list()\n",
    "    g = lambda x: x - f(x) #Definimos nuestra nueva funcion para que encuentre punto fijo y no \"raiz\".\n",
    "    if g(a) == 0:#Consideramos casos en los que a o b sean \"raiz\".\n",
    "        return [a]\n",
    "    elif g(b) == 0:\n",
    "        return [b]\n",
    "    elif g(a)*g(b) < 0:\n",
    "        for i in range(0, n_iter): #Itertamos n_iter veces\n",
    "            c = (a+b)/2\n",
    "            if len(x)>0 and x[i-1] == c:#Si nuestro ultimo c es igual al ultimo almacenado retornamos para no tener valores repetidos.\n",
    "                return x\n",
    "            x.append(c)\n",
    "            if g(a)*g(c) < 0:\n",
    "                b = c\n",
    "            elif g(c)*g(b) < 0:\n",
    "                a = c\n",
    "            elif g(c) == 0:\n",
    "                return x\n",
    "    return x"
   ]
  },
  {
   "cell_type": "code",
   "execution_count": 5,
   "metadata": {
    "colab": {},
    "colab_type": "code",
    "id": "5U7xY9GmxIPg"
   },
   "outputs": [],
   "source": [
    "def fpi(g, x_0, n_iter):\n",
    "    # CONSIDERE que el metodo puede no converger\n",
    "    # RECUERDE no incluir valores repetidos al final de la secuencia del arreglo de salida para no tener errores igual a 0\n",
    "    x = [0]*(n_iter+1) # Calcular los valores de x para cada iteracion\n",
    "    x[0] = x_0 #El primer elemento de la lista es nuestro initial guess\n",
    "    for i in range(1, n_iter+1):\n",
    "        x[i] = g(x[i-1])\n",
    "        if i>1:#La primera iteracion no tiene error\n",
    "            error = abs(x[i]-x[i-1])#Calculamos el error absoluto para saber si converge o no\n",
    "            if error > 1e2:#Diverge\n",
    "                return x[0:i+1]\n",
    "        if x[i] == x[i-1]:\n",
    "            return x[0:i+1]#Se retorna el arreglo hasta el ultimo valor cambiado(que no es 0)\n",
    "    return x\n"
   ]
  },
  {
   "cell_type": "code",
   "execution_count": 6,
   "metadata": {
    "colab": {},
    "colab_type": "code",
    "id": "0ug6PrYzKIaM"
   },
   "outputs": [],
   "source": [
    "def obtener_punto_fijo(g, a, b, n_iter):\n",
    "    bisec = bisection(g,a,b,n_iter)\n",
    "    fp = fpi(g,a,n_iter)\n",
    "\n",
    "    ratio_bise = [0]\n",
    "    ratio_fpi = [0]\n",
    "    for i in range(2, len(bisec)-1):#Calculamos ratios para biseccion\n",
    "        ratio_bise.append(abs(bisec[i+1]-bisec[i])/abs(bisec[i]-bisec[i-1]))\n",
    "    for i in range(2, len(fp)-1):#Calculamos ratios para iteracion de punto fijo\n",
    "        ratio_fpi.append(abs(fp[i+1]-fp[i])/abs(fp[i]-fp[i-1]))\n",
    "        \n",
    "    tasa_biseccion = obtener_tasa(ratio_bise)\n",
    "    tasa_punto_fijo = obtener_tasa(ratio_fpi)\n",
    "    resultado = [('biseccion', tasa_biseccion), ('punto fijo', tasa_punto_fijo)]\n",
    "    x_sol = bisec[len(bisec)-1] if ratio_bise[len(ratio_bise)-1] < ratio_fpi[len(ratio_fpi)-1] else fp[len(fp)-1] #La mejor solucion corresponde al metodo con menor tasa\n",
    "    return x_sol, resultado\n"
   ]
  }
 ],
 "metadata": {
  "colab": {
   "collapsed_sections": [],
   "name": "desafio_1.ipynb",
   "provenance": []
  },
  "kernelspec": {
   "display_name": "Python 3",
   "language": "python",
   "name": "python3"
  },
  "language_info": {
   "codemirror_mode": {
    "name": "ipython",
    "version": 3
   },
   "file_extension": ".py",
   "mimetype": "text/x-python",
   "name": "python",
   "nbconvert_exporter": "python",
   "pygments_lexer": "ipython3",
   "version": "3.7.6"
  }
 },
 "nbformat": 4,
 "nbformat_minor": 4
}
