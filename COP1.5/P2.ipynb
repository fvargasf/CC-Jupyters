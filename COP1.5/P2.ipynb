{
 "cells": [
  {
   "cell_type": "code",
   "execution_count": 1,
   "metadata": {},
   "outputs": [],
   "source": [
    "import numpy as np\n",
    "from scipy import linalg as spla"
   ]
  },
  {
   "cell_type": "markdown",
   "metadata": {},
   "source": [
    "### Se tiene una función $f(\\alpha)$ definida como:\n",
    "$$\n",
    "    f(\\alpha) = u^TA^{-1}F(\\alpha),\n",
    "$$\n",
    "### donde $u$ es conocido, $F: \\mathbb{R} \\rightarrow \\mathbb{R}^n$ es una función conocida y $A \\in \\mathbb{R}^{nxn}$ es simétrica-definida positiva y conocida. La función necesita ser evaluada muchas veces para distintos valores de $\\alpha \\in [-1,1]$."
   ]
  },
  {
   "cell_type": "markdown",
   "metadata": {},
   "source": [
    "#### (a) Proponga un algoritmo que reciba como parámetros la matriz $A$, el vector $u$, la función $F$, un vector de valores de $\\alpha$, i.e. $\\alpha = \\langle\\alpha_1, \\alpha_2, \\dots , \\alpha_m \\rangle$, donde se necesita evaluar $F$, y retorne la evaluación de $f$ para cada $\\alpha_i$ solicitados. Si necesita parámetros adicionales, indíquelos claramente. \n",
    "\n",
    "#### _Hint: Please, do not compute any inverse explicitly!_"
   ]
  },
  {
   "cell_type": "markdown",
   "metadata": {},
   "source": [
    "### Desarrollo\n",
    "\n",
    "Comenzaremos encontrando la inversa de $A$, para esto como sabemos que $A$ es simétrica-definida positiva, entonces podemos usar Cholesky para encontrar la inversa, de la siguiente forma.\n",
    "\n",
    "Sabemos que:\n",
    "$$\n",
    "    A = R^TR\n",
    "$$\n",
    "\n",
    "A la vez que:\n",
    "\n",
<<<<<<< HEAD
    "\\begin{align}\n",
    "    A^{-1} &= (R^TR)^{-1}\\\\\n",
    "    A^{-1} &= R^{-1}(R^T)^{-1}\\\\\n",
    "    A^{-1} &= R^{-1}(R^{-1})^{T} \\tag{1}\\\\\n",
    "\\end{align}\n",
    "\n",
    "Notamos que como $R$ es triangular superior, entonces $(R^{-1})^T = (R^T)^{-1}$.\n",
=======
    "$$\n",
    "    A^{-1} = (R^TR)^{-1}\n"\\,
    "    A^{-1} = (R^T)^{-1}R^{-1}\n",
    "$$\n",
>>>>>>> 523cf705aefffad82e163460cb87e8250d0475cd
    "\n",
    "Procedemos a encontrar la inversa de $R$ para después reemplazar en (1).\n",
    "\n",
    "$$\n",
    "    RR^{-1} = I\n",
    "$$\n",
    "\n",
    "Como $R$ es tringular Superior $R^{-1}$ también lo será y el sistema se puede resolver con _backward substitution_.\n",
    "\n",
    "Como hemos encontrado $R^{-1}$, entonces tenemos $A^{-1}$, por lo que encontrar $f(\\alpha)$ es solo una multiplicación de matrices, lo cual es trivial."
   ]
  },
  {
   "cell_type": "markdown",
   "metadata": {},
   "source": [
    "#### (b) Implemente su algoritmo"
   ]
  },
  {
   "cell_type": "markdown",
   "metadata": {},
   "source": [
    "### Desarrollo"
   ]
  },
  {
   "cell_type": "code",
   "execution_count": 2,
   "metadata": {},
   "outputs": [],
   "source": [
    "def f_alpha(A, u, F, alpha):\n",
    "    #\n",
    "    evals = np.zeros(alpha.shape[0])\n",
    "    #calculamos la inversa\n",
    "    R = np.linalg.cholesky(A)\n",
    "    I = np.identity(A.shape[0])\n",
    "    R_i = spla.solve_triangular(R, I, lower=True)\n",
    "    A_i = R_i.T@R_i\n",
    "    #u transpuesta\n",
    "    u_t = u.T\n",
    "    #Calculamos\n",
    "    for i in range(alpha.shape[0]):\n",
    "        evals[i] = u_t@A_i@F(alpha[i])\n",
    "    return evals"
   ]
  },
  {
   "cell_type": "markdown",
   "metadata": {},
   "source": [
    "#### (c) Evalúe su algoritmo con los siguientes parámetros:\n",
    "\n",
    "```python\n",
    "1 | import numpy as np\n",
    "2 | n =100\n",
    "3 | rol = ‘‘ su rol sin digito verificado r’’\n",
    "4 | np.random.seed(rol)\n",
    "5 | B = np.random.randn(n,n)\n",
    "6 | A = np.dot(np.transpose(B) ,B)+ np.eye(n)\n",
    "7 | u = np.arange(n)\n",
    "8 | # This is a particular definition of F,\n",
    "9 | # please don ’t consider it will always be\n",
    "10| # like this .\n",
    "11| v = np.random(n)\n",
    "12| F = lambda a : a* v\n",
    "13| alpha = np.linspace(-10, 10, n)\n",
    " \n",
    "```"
   ]
  },
  {
   "cell_type": "markdown",
   "metadata": {},
   "source": [
    "### Desarrollo"
   ]
  },
  {
   "cell_type": "code",
   "execution_count": 3,
   "metadata": {},
   "outputs": [
    {
     "data": {
      "text/plain": [
       "array([-1375.5826272 , -1347.79307918, -1320.00353115, -1292.21398313,\n",
       "       -1264.4244351 , -1236.63488708, -1208.84533906, -1181.05579103,\n",
       "       -1153.26624301, -1125.47669498, -1097.68714696, -1069.89759893,\n",
       "       -1042.10805091, -1014.31850289,  -986.52895486,  -958.73940684,\n",
       "        -930.94985881,  -903.16031079,  -875.37076276,  -847.58121474,\n",
       "        -819.79166672,  -792.00211869,  -764.21257067,  -736.42302264,\n",
       "        -708.63347462,  -680.84392659,  -653.05437857,  -625.26483055,\n",
       "        -597.47528252,  -569.6857345 ,  -541.89618647,  -514.10663845,\n",
       "        -486.31709042,  -458.5275424 ,  -430.73799438,  -402.94844635,\n",
       "        -375.15889833,  -347.3693503 ,  -319.57980228,  -291.79025425,\n",
       "        -264.00070623,  -236.21115821,  -208.42161018,  -180.63206216,\n",
       "        -152.84251413,  -125.05296611,   -97.26341808,   -69.47387006,\n",
       "         -41.68432204,   -13.89477401,    13.89477401,    41.68432204,\n",
       "          69.47387006,    97.26341808,   125.05296611,   152.84251413,\n",
       "         180.63206216,   208.42161018,   236.21115821,   264.00070623,\n",
       "         291.79025425,   319.57980228,   347.3693503 ,   375.15889833,\n",
       "         402.94844635,   430.73799438,   458.5275424 ,   486.31709042,\n",
       "         514.10663845,   541.89618647,   569.6857345 ,   597.47528252,\n",
       "         625.26483055,   653.05437857,   680.84392659,   708.63347462,\n",
       "         736.42302264,   764.21257067,   792.00211869,   819.79166672,\n",
       "         847.58121474,   875.37076276,   903.16031079,   930.94985881,\n",
       "         958.73940684,   986.52895486,  1014.31850289,  1042.10805091,\n",
       "        1069.89759893,  1097.68714696,  1125.47669498,  1153.26624301,\n",
       "        1181.05579103,  1208.84533906,  1236.63488708,  1264.4244351 ,\n",
       "        1292.21398313,  1320.00353115,  1347.79307918,  1375.5826272 ])"
      ]
     },
     "execution_count": 3,
     "metadata": {},
     "output_type": "execute_result"
    }
   ],
   "source": [
    "n = 100\n",
    "rol = 201573026\n",
    "np.random.seed(rol)\n",
    "B = np.random.randn(n,n)\n",
    "A = np.dot(np.transpose(B) ,B) + np.eye(n)\n",
    "u = np.arange(n)\n",
    "v = np.random.rand(n)\n",
    "F = lambda a : a* v\n",
    "alpha = np.linspace(-10, 10, n)\n",
    "f_alpha(A, u, F, alpha)"
   ]
  }
 ],
 "metadata": {
  "kernelspec": {
   "display_name": "Python 3",
   "language": "python",
   "name": "python3"
  },
  "language_info": {
   "codemirror_mode": {
    "name": "ipython",
    "version": 3
   },
   "file_extension": ".py",
   "mimetype": "text/x-python",
   "name": "python",
   "nbconvert_exporter": "python",
   "pygments_lexer": "ipython3",
   "version": "3.7.6"
  }
 },
 "nbformat": 4,
 "nbformat_minor": 4
}
