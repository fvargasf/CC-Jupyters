{
 "cells": [
  {
   "cell_type": "code",
   "execution_count": 12,
   "metadata": {},
   "outputs": [],
   "source": [
    "import numpy as np\n",
    "from scipy.linalg import toeplitz"
   ]
  },
  {
   "cell_type": "markdown",
   "metadata": {},
   "source": [
    "### Se tiene una función $f(\\alpha)$ definida como:\n",
    "### $$\n",
    "        f(\\alpha) = u^TA^{-1}F(\\alpha),\n",
    "    $$\n",
    "### donde $u$ es conocido, $F: \\mathbb{R} \\rightarrow \\mathbb{R}^n$ es una función conocida y $A \\in \\mathbb{R}^{nxn}$ es simétrica-definida positiva y conocida. La función necesita ser evaluada muchas veces para distintos valores de $\\alpha \\in [-1,1]$."
   ]
  },
  {
   "cell_type": "markdown",
   "metadata": {},
   "source": [
    "#### (a) Proponga un algoritmo que reciba como parámetros la matriz $A$, el vector $u$, la función $F$, un vector de valores de $\\alpha$, i.e. $\\alpha = \\langle\\alpha_1, \\alpha_2, \\dots , \\alpha_m \\rangle$, donde se necesita evaluar $F$, y retorne la evaluación de $f$ para cada $\\alpha_i$ solicitados. Si necesita parámetros adicionales, indíquelos claramente. \n",
    "\n",
    "#### _Hint: Please, do not compute any inverse explicitly!_"
   ]
  },
  {
   "cell_type": "markdown",
   "metadata": {},
   "source": [
    "### Desarrollo\n",
    "\n",
    "Comenzaremos encontrando la inversa de $A$, para esto como sabemos que $A$ es simétrica-definida positiva, entonces podemos usar Cholesky para encontrar la inversa, de la siguiente forma.\n",
    "\n",
    "Sabemos que:\n",
    "$$\n",
    "    A = R^TR\n",
    "$$\n",
    "\n",
    "A la vez que:\n",
    "\n",
    "$$\n",
    "    A^{-1} = (R^TR)^{-1}\n",
    "    A^{-1} = (R^T)^{-1}R^{-1}\n",
    "$$\n",
    "\n",
    "Procedemos a encontrar la inversa de $R$.\n",
    "\n",
    "$$\n",
    "    RR^{-1} = I\n",
    "$$\n",
    "\n",
    "Como $R$ es tringular inferior $R^{-1}$ tambien lo sera y el sistema se pued resolver con _forward substitution_.\n",
    "\n",
    "Como hemos encontrado $R^{-1}$, entonces tenemos $A^{-1}$, por lo que encontrar $f(\\alpha)$ es solo una multiplicación de matrices, lo cual es trivial."
   ]
  },
  {
   "cell_type": "markdown",
   "metadata": {},
   "source": [
    "#### (b) Implemente su algoritmo"
   ]
  },
  {
   "cell_type": "markdown",
   "metadata": {},
   "source": [
    "### Desarrollo"
   ]
  },
  {
   "cell_type": "code",
   "execution_count": 9,
   "metadata": {},
   "outputs": [],
   "source": [
    "def f_alpha(A, u, F, alpha):\n",
    "    #\n",
    "    evals = np.zeros(alpha.shape[0])\n",
    "    #calculamos la inversa\n",
    "    R = np.linalg.cholesky(A)\n",
    "    I = np.identity(A.shape[0])\n",
    "    R_i = spla.solve_triangular(R, I, lower=True)\n",
    "    A_i = R_i.T@R_i\n",
    "    #u transpuesta\n",
    "    u_t = u.T\n",
    "    #Calculamos\n",
    "    for i in range(alpha.shape[0]):\n",
    "        evals[i] = u_t@A_i@F(alpha[i])\n",
    "    return evals"
   ]
  },
  {
   "cell_type": "markdown",
   "metadata": {},
   "source": [
    "#### (c) Evalúe su algoritmo con los siguientes parámetros:\n",
    "\n",
    "```python\n",
    "1 | import numpy as np\n",
    "2 | n =100\n",
    "3 | rol = ‘‘ su rol sin digito verificado r’’\n",
    "4 | np.random.seed(rol)\n",
    "5 | B = np.random.randn(n,n)\n",
    "6 | A = np.dot(np.transpose(B) ,B)+ np.eye(n)\n",
    "7 | u = np.arange(n)\n",
    "8 | # This is a particular definition of F,\n",
    "9 | # please don ’t consider it will always be\n",
    "10| # like this .\n",
    "11| v = np.random(n)\n",
    "12| F = lambda a : a* v\n",
    "13| alpha = np.linspace(-10, 10, n)\n",
    " \n",
    "```"
   ]
  },
  {
   "cell_type": "markdown",
   "metadata": {},
   "source": [
    "### Desarrollo"
   ]
  },
  {
   "cell_type": "code",
   "execution_count": 17,
   "metadata": {},
   "outputs": [
    {
     "ename": "NameError",
     "evalue": "name 'spla' is not defined",
     "output_type": "error",
     "traceback": [
      "\u001b[1;31m---------------------------------------------------------------------------\u001b[0m",
      "\u001b[1;31mNameError\u001b[0m                                 Traceback (most recent call last)",
      "\u001b[1;32m<ipython-input-17-7c97792efdb5>\u001b[0m in \u001b[0;36m<module>\u001b[1;34m\u001b[0m\n\u001b[0;32m      8\u001b[0m \u001b[0mF\u001b[0m \u001b[1;33m=\u001b[0m \u001b[1;32mlambda\u001b[0m \u001b[0ma\u001b[0m \u001b[1;33m:\u001b[0m \u001b[0ma\u001b[0m\u001b[1;33m*\u001b[0m \u001b[0mv\u001b[0m\u001b[1;33m\u001b[0m\u001b[1;33m\u001b[0m\u001b[0m\n\u001b[0;32m      9\u001b[0m \u001b[0malpha\u001b[0m \u001b[1;33m=\u001b[0m \u001b[0mnp\u001b[0m\u001b[1;33m.\u001b[0m\u001b[0mlinspace\u001b[0m\u001b[1;33m(\u001b[0m\u001b[1;33m-\u001b[0m\u001b[1;36m10\u001b[0m\u001b[1;33m,\u001b[0m \u001b[1;36m10\u001b[0m\u001b[1;33m,\u001b[0m \u001b[0mn\u001b[0m\u001b[1;33m)\u001b[0m\u001b[1;33m\u001b[0m\u001b[1;33m\u001b[0m\u001b[0m\n\u001b[1;32m---> 10\u001b[1;33m \u001b[0mf_alpha\u001b[0m\u001b[1;33m(\u001b[0m\u001b[0mA\u001b[0m\u001b[1;33m,\u001b[0m \u001b[0mu\u001b[0m\u001b[1;33m,\u001b[0m \u001b[0mF\u001b[0m\u001b[1;33m,\u001b[0m \u001b[0malpha\u001b[0m\u001b[1;33m)\u001b[0m\u001b[1;33m\u001b[0m\u001b[1;33m\u001b[0m\u001b[0m\n\u001b[0m",
      "\u001b[1;32m<ipython-input-9-5ebc0026dea0>\u001b[0m in \u001b[0;36mf_alpha\u001b[1;34m(A, u, F, alpha)\u001b[0m\n\u001b[0;32m      5\u001b[0m     \u001b[0mR\u001b[0m \u001b[1;33m=\u001b[0m \u001b[0mnp\u001b[0m\u001b[1;33m.\u001b[0m\u001b[0mlinalg\u001b[0m\u001b[1;33m.\u001b[0m\u001b[0mcholesky\u001b[0m\u001b[1;33m(\u001b[0m\u001b[0mA\u001b[0m\u001b[1;33m)\u001b[0m\u001b[1;33m\u001b[0m\u001b[1;33m\u001b[0m\u001b[0m\n\u001b[0;32m      6\u001b[0m     \u001b[0mI\u001b[0m \u001b[1;33m=\u001b[0m \u001b[0mnp\u001b[0m\u001b[1;33m.\u001b[0m\u001b[0midentity\u001b[0m\u001b[1;33m(\u001b[0m\u001b[0mA\u001b[0m\u001b[1;33m.\u001b[0m\u001b[0mshape\u001b[0m\u001b[1;33m[\u001b[0m\u001b[1;36m0\u001b[0m\u001b[1;33m]\u001b[0m\u001b[1;33m)\u001b[0m\u001b[1;33m\u001b[0m\u001b[1;33m\u001b[0m\u001b[0m\n\u001b[1;32m----> 7\u001b[1;33m     \u001b[0mR_i\u001b[0m \u001b[1;33m=\u001b[0m \u001b[0mspla\u001b[0m\u001b[1;33m.\u001b[0m\u001b[0msolve_triangular\u001b[0m\u001b[1;33m(\u001b[0m\u001b[0mR\u001b[0m\u001b[1;33m,\u001b[0m \u001b[0mI\u001b[0m\u001b[1;33m,\u001b[0m \u001b[0mlower\u001b[0m\u001b[1;33m=\u001b[0m\u001b[1;32mTrue\u001b[0m\u001b[1;33m)\u001b[0m\u001b[1;33m\u001b[0m\u001b[1;33m\u001b[0m\u001b[0m\n\u001b[0m\u001b[0;32m      8\u001b[0m     \u001b[0mA_i\u001b[0m \u001b[1;33m=\u001b[0m \u001b[0mR_i\u001b[0m\u001b[1;33m.\u001b[0m\u001b[0mT\u001b[0m\u001b[1;33m@\u001b[0m\u001b[0mR_i\u001b[0m\u001b[1;33m\u001b[0m\u001b[1;33m\u001b[0m\u001b[0m\n\u001b[0;32m      9\u001b[0m     \u001b[1;31m#u transpuesta\u001b[0m\u001b[1;33m\u001b[0m\u001b[1;33m\u001b[0m\u001b[1;33m\u001b[0m\u001b[0m\n",
      "\u001b[1;31mNameError\u001b[0m: name 'spla' is not defined"
     ]
    }
   ],
   "source": [
    "n = 100\n",
    "rol = 201573026\n",
    "np.random.seed(rol)\n",
    "B = np.random.randn(n,n)\n",
    "A = np.dot(np.transpose(B) ,B) + np.eye(n)\n",
    "u = np.arange(n)\n",
    "v = np.random.rand(n)\n",
    "F = lambda a : a* v\n",
    "alpha = np.linspace(-10, 10, n)\n",
    "f_alpha(A, u, F, alpha)"
   ]
  }
 ],
 "metadata": {
  "kernelspec": {
   "display_name": "Python 3",
   "language": "python",
   "name": "python3"
  },
  "language_info": {
   "codemirror_mode": {
    "name": "ipython",
    "version": 3
   },
   "file_extension": ".py",
   "mimetype": "text/x-python",
   "name": "python",
   "nbconvert_exporter": "python",
   "pygments_lexer": "ipython3",
   "version": "3.7.6"
  }
 },
 "nbformat": 4,
 "nbformat_minor": 4
}
