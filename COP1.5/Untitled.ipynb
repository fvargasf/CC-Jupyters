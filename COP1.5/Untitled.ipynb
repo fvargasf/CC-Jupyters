{
 "cells": [
  {
   "cell_type": "code",
   "execution_count": 1,
   "metadata": {},
   "outputs": [],
   "source": [
    "import numpy as np\n",
    "from scipy.linalg import toeplitz"
   ]
  },
  {
   "cell_type": "code",
   "execution_count": 21,
   "metadata": {},
   "outputs": [
    {
     "data": {
      "text/plain": [
       "array([[1, 2, 3, 0, 0, 0],\n",
       "       [2, 1, 2, 3, 0, 0],\n",
       "       [3, 2, 1, 2, 3, 0],\n",
       "       [0, 3, 2, 1, 2, 3],\n",
       "       [0, 0, 3, 2, 1, 2],\n",
       "       [0, 0, 0, 3, 2, 1]])"
      ]
     },
     "execution_count": 21,
     "metadata": {},
     "output_type": "execute_result"
    }
   ],
   "source": [
    "a = np.array([1,2,3,0,0,0])\n",
    "b = toeplitz(a)\n",
    "m = 3\n",
    "b"
   ]
  },
  {
   "cell_type": "code",
   "execution_count": 70,
   "metadata": {},
   "outputs": [
    {
     "name": "stdout",
     "output_type": "stream",
     "text": [
      "2.0\n",
      "3.0\n",
      "0.0\n",
      "0.0\n",
      "1.3333333333333333\n",
      "-1.0\n",
      "-0.0\n",
      "1.0\n",
      "-1.5\n",
      "-0.16666666666666666\n"
     ]
    },
    {
     "data": {
      "text/plain": [
       "array([[ 1,  2,  3,  0,  0,  0],\n",
       "       [ 0, -3, -4,  3,  0,  0],\n",
       "       [ 0,  0, -2, -2,  3,  0],\n",
       "       [ 0,  0,  0,  6, -1,  3],\n",
       "       [ 0,  0,  0,  0,  4,  2],\n",
       "       [ 0,  0,  0,  3,  2,  1]])"
      ]
     },
     "execution_count": 70,
     "metadata": {},
     "output_type": "execute_result"
    }
   ],
   "source": [
    "b = toeplitz(a)\n",
    "n = b.shape[0]-1\n",
    "for i in range(n):\n",
    "    for k in range(i+1, n):\n",
    "        mult = b[k][i]/b[i][i]\n",
    "        for j in range(i, i+m):\n",
    "            b[k][j] = b[k][j] - mult*b[i][j]\n",
    "        print(mult)\n",
    "b"
   ]
  },
  {
   "cell_type": "code",
   "execution_count": 84,
   "metadata": {},
   "outputs": [
    {
     "data": {
      "text/plain": [
       "(array([[ 0.25      ,  0.        ,  0.        ],\n",
       "        [ 0.1       ,  0.2       ,  0.        ],\n",
       "        [ 0.00833333, -0.06666667,  0.16666667]]),\n",
       " array([[ 0.25      ,  0.        ,  0.        ],\n",
       "        [ 0.1       ,  0.2       ,  0.        ],\n",
       "        [ 0.00833333, -0.06666667,  0.16666667]]))"
      ]
     },
     "execution_count": 84,
     "metadata": {},
     "output_type": "execute_result"
    }
   ],
   "source": [
    "from scipy import linalg as spla\n",
    "b = np.identity(3)\n",
    "a = np.array([\n",
    "    [16,-8,-4],\n",
    "    [-8,29,12],\n",
    "    [-4,12,41]\n",
    "])\n",
    "R = np.linalg.cholesky(a)\n",
    "ri = spla.solve_triangular(R, b, lower=True)\n",
    "np.linalg.inv(R), ri"
   ]
  },
  {
   "cell_type": "code",
   "execution_count": 86,
   "metadata": {},
   "outputs": [
    {
     "data": {
      "text/plain": [
       "(array([[ 0.07256944,  0.01944444,  0.00138889],\n",
       "        [ 0.01944444,  0.04444444, -0.01111111],\n",
       "        [ 0.00138889, -0.01111111,  0.02777778]]),\n",
       " array([[ 0.07256944,  0.01944444,  0.00138889],\n",
       "        [ 0.01944444,  0.04444444, -0.01111111],\n",
       "        [ 0.00138889, -0.01111111,  0.02777778]]))"
      ]
     },
     "execution_count": 86,
     "metadata": {},
     "output_type": "execute_result"
    }
   ],
   "source": [
    "ri.T@ri, np.linalg.inv(a)"
   ]
  },
  {
   "cell_type": "markdown",
   "metadata": {
    "jupyter": {
     "source_hidden": true
    }
   },
   "source": [
    "\\begin{align}\n",
    "    Total &= \\sum_{j=1}^{n}\\sum_{i=j+1}^{n}(1 + \\sum_{k=j}^{j+m} 2)\\\\\n",
    "          &= \\sum_{j=1}^{n}\\sum_{i=j+1}^{n}(1 + 2\\frac{m}{2}(2j+m))\\\\\n",
    "          &= \\sum_{j=1}^{n}\\sum_{i=j+1}^{n}(1 + 2mj+m^2)\\\\\n",
    "          &= \\sum_{j=1}^{n}(1 + 2mj+m^2)\\sum_{i=j+1}^{n}1\\\\\n",
    "          &= \\sum_{j=1}^{n}(1 + 2mj+m^2)\\sum_{h=1}^{n-j}1\\\\\n",
    "          &= \\sum_{j=1}^{n}(1 + 2mj+m^2)(n-j)\\\\\n",
    "          &= \\sum_{j=1}^{n}(n + 2mjn + m^2n)-(j + 2mj^2+jm^2)\\\\\n",
    "          &= \\sum_{j=1}^{n}(n + 2mjn + m^2n - j - 2mj^2 - jm^2)\\\\\n",
    "          &= \\sum_{j=1}^{n} mn^2 + n - 2mj^2 +j(2mn-m^2-1)\\\\\n",
    "          &= \\sum_{j=1}^{n}mn^2 + \\sum_{j=1}^{n}n - 2m\\sum_{j=1}^{n}j^2 +(2mn-m^2-1)\\sum_{j=1}^{n}j\\\\\n",
    "          &= mn^3 + n^2 - 2m\\frac{n(n+1)(2n+1)}{6} + (2mn-m^2-1)\\frac{n(n+1)}{2}\\\\\n",
    "          &= mn^3 + n^2 - \\frac{2mn^3+3mn^2+mn}{3} + (2mn-m^2-1)\\frac{n^2+n}{2}\\\\\n",
    "          &= \\frac{4}{3}mn^3 - \\frac{1}{2}m^2n^2 - \\frac{1}{2}m^2n - \\frac{1}{2}mn - \\frac{1}{2}n^2 - \\frac{1}{2}n\n",
    "\\end{align}"
   ]
  }
 ],
 "metadata": {
  "kernelspec": {
   "display_name": "Python 3",
   "language": "python",
   "name": "python3"
  },
  "language_info": {
   "codemirror_mode": {
    "name": "ipython",
    "version": 3
   },
   "file_extension": ".py",
   "mimetype": "text/x-python",
   "name": "python",
   "nbconvert_exporter": "python",
   "pygments_lexer": "ipython3",
   "version": "3.7.6"
  }
 },
 "nbformat": 4,
 "nbformat_minor": 4
}
