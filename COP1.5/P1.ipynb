{
 "cells": [
  {
   "cell_type": "code",
   "execution_count": 16,
   "metadata": {},
   "outputs": [],
   "source": [
    "import numpy as np\n",
    "from scipy.linalg import toeplitz\n",
    "from scipy import linalg as spla\n",
    "import matplotlib.pyplot as plt"
   ]
  },
  {
   "cell_type": "markdown",
   "metadata": {},
   "source": [
    "### Una importante familia de matrices son las matrices de Toeplitz:\n",
    "\n",
    "### $$\n",
    "    T_n = \n",
    "    \\begin{pmatrix}\n",
    "        a_0     & a_{-1}  & a_{-2} & \\dots  & a_{-n+1}\\\\\n",
    "        a_1     & a_{0}   & a_{-1} & \\dots  & \\vdots  \\\\\n",
    "        a_2     & a_{1}   & a_{0}  & \\dots  & a_{-2}  \\\\\n",
    "        \\vdots  & \\ddots  & \\ddots & \\ddots & a_{-2}  \\\\\n",
    "        a_{n-1} & \\dots   & a_2    & a_1    & a_0\n",
    "    \\end{pmatrix}\n",
    "    \\in \\mathbb{R}^{nxn},\n",
    "$$\n",
    "\n",
    "### donde $a_k \\in \\mathbb{R}$ para $k \\in {−n + 1, . . . , n − 1}$. Este tipo de matrices es usada en procesamiento de series de tiempo, análisis de señales e imágenes, entre otros. El problema a tratar es nuestro conocido sistema de ecuaciones lineales $T_n x = b$, en donde $b$ se interpreta como la señal de entrada y $x$ como la señal de salida luego de haber sido procesada por la matriz respectiva, en nuestro caso $T_n$."
   ]
  },
  {
   "cell_type": "markdown",
   "metadata": {},
   "source": [
    "### Preguntas"
   ]
  },
  {
   "cell_type": "markdown",
   "metadata": {},
   "source": [
    "#### (a) Considerando que $a_j = 0$ para $|j| > m$, determine el número de operaciones elementales mínimas requeridas para obtener la factorización $LU$ de la matriz $T_n$. Por simplicidad considere que no es necesario hacer permutaciones. Considere que $m < n$. \n",
    "\n",
    "#### _Hint: You don’t need to make 0 what it is already 0. Even more, you don’t need to add 0 either since you already know it won’t change anything._"
   ]
  },
  {
   "cell_type": "markdown",
   "metadata": {},
   "source": [
    "### Desarrollo"
   ]
  },
  {
   "cell_type": "markdown",
   "metadata": {},
   "source": [
    "Para contar el total de operaciones, pensaremos en el codigo que se ejecutara para obtener la factorización.\n",
    "\n",
    "```python\n",
    "1| for j in range(n):\n",
    "2|     for i in range(j+1, n):\n",
    "3|         mult = b[i][j]/b[j][j]\n",
    "4|         for k in range(j, j+m):\n",
    "5|             b[i][k] = b[i][k] - mult*b[j][j]\n",
    "```\n",
    "\n",
    "De donde obtenemos el siguiente número total de operaciones:\n",
    "\n",
    "\\begin{align}\n",
    "    Total &= \\sum_{j=1}^{n}\\sum_{i=j+1}^{n}(1 + 2m)\\\\\n",
    "    Total &= \\sum_{j=1}^{n}\\sum_{k=1}^{n-j}(1 + 2m)\\\\\n",
    "    Total &= \\sum_{j=1}^{n}(1 + 2m)(n-j)\\\\\n",
    "    Total &= \\sum_{j=1}^{n}(n + 2mn)-(j+2mj)\\\\\n",
    "    Total &= \\sum_{j=1}^{n}(n(1 + 2m)-j(1+2m))\\\\\n",
    "    Total &= (1+2m)\\sum_{j=1}^{n}(n-j)\\\\\n",
    "    Total &= (1+2m)[n\\sum_{j=1}^{n}1-\\sum_{j=1}^{n}j]\\\\\n",
    "    Total &= (1+2m)[nn-\\frac{n^2+n}{2}]\\\\\n",
    "    Total &= (1+2m)n^2-(1+2m)\\frac{n^2+n}{2}\\\\\n",
    "    Total &= mn^2 - mn + \\frac{n^2-n}{2}\n",
    "\\end{align}\n",
    "\n",
    "Luego la cantidad total de operaciones para realizar la factorización $LU$ es de $mn^2 - mn + \\frac{n^2-n}{2}$."
   ]
  },
  {
   "cell_type": "markdown",
   "metadata": {},
   "source": [
    "#### (b) Considere que usted tiene un computador que se demora aproximadamente $2.3 [ns]$ por $FLOP$ y que su matriz $T_n$ utiliza $32 [GB]$ de RAM almacenando todos los elementos de la matriz. \n",
    "\n",
    "#### ¿Cuanto es la reducción de tiempo al considerar la factorización LU de la pregunta anterior respecto a la factorización LU tradicional?\n",
    "\n",
    "#### _Hint: We will consider a FLOP (FLoating point OPeration) as the time it takes to compute one fundamental operation: +,−,∗ or /._\n"
   ]
  },
  {
   "cell_type": "markdown",
   "metadata": {},
   "source": [
    "### Desarrollo"
   ]
  },
  {
   "cell_type": "markdown",
   "metadata": {},
   "source": [
    "Podemos obtener el tiempo de ejecución de la siguiente forma:\n",
    "\n",
    "$$\n",
    "    time = n_{operaciones}*tiempo_{operacion}\n",
    "$$\n",
    "\n",
    "Considerando que cada operación tarda $2.3[ns]$, entonces $LU$ tradicional tarda:\n",
    "\n",
    "$$\n",
    "    t_{LU} = \\frac{2}{3}n^3\\cdot 2.3 \\cdot10^{-9} [s]\n",
    "$$\n",
    "\n",
    "Y el tiempo que tarda $LU_a$ es:\n",
    "\n",
    "$$\n",
    "    t_{LU_{a}} = (mn^2 - mn + \\frac{n^2-n}{2})\\cdot 2.3 \\cdot10^{-9} [s]\n",
    "$$\n",
    "\n",
    "Para obtener cuanto es la reducción de tiempo hacemos $t_{LU} - t_{LU_a}$.\n",
    "\n",
    "\\begin{align}\n",
    "    t_{LU}-t_{LU_a} &= \\frac{2}{3}n^3\\cdot 2.3 \\cdot10^{-9} - (mn^2 - mn + \\frac{n^2-n}{2})\\cdot 2.3 \\cdot10^{-9}\\\\\n",
    "    t_{LU}-t_{LU_a} &= 2.3 \\cdot 10^{-9}(\\frac{2}{3}n^3 - (mn^2 - mn + \\frac{n^2-n}{2}))\\\\\n",
    "    t_{LU}-t_{LU_a} &= 2.3 \\cdot 10^{-9}(\\frac{2}{3}n^3 - mn^2 + mn - \\frac{n^2-n}{2})\\\\\n",
    "    t_{LU}-t_{LU_a} &= 2.3 \\cdot 10^{-9}(\\frac{2}{3}n^3 - mn^2 + mn - \\frac{n^2-n}{2})\\\\\n",
    "\\end{align}"
   ]
  },
  {
   "cell_type": "markdown",
   "metadata": {},
   "source": [
    "Obtendremos n, como sabemos que $T_n$ ocupa $32GB$ de memoria, podemos obtener el tamaño de la matriz, para esto asumiremos que cada elemento de la matriz ocupa $8 bytes$(float size).\n",
    "\n",
    "\\begin{align}\n",
    "    n^2 * 8[B] &= 32 * 10^9 [B]\\\\\n",
    "    n^2        &= 4 * 10^9     \\\\\n",
    "    n          &\\approx 63245\n",
    "\\end{align}\n",
    "\n",
    "Reemplazando en la diferencia de tiempos:\n",
    "\n",
    "\\begin{align}\n",
    "    t_{LU}-t_{LU_a} &= 2.3 \\cdot 10^{-9}(\\frac{2}{3}(63245)^3 - m(63245)^2 + m(63245) - \\frac{(63245)^2-(63245)}{2})\\\\\n",
    "    t_{LU}-t_{LU_a} &= \\frac{36364807588837}{93750000} - \\frac{4599846797}{500000000}m\n",
    "\\end{align}\n",
    "\n",
    "Se logra apreciar la diferencia entre ambos métodos para la matriz $T_n$."
   ]
  },
  {
   "cell_type": "markdown",
   "metadata": {},
   "source": [
    "#### (c) Considere por simplicidad que $a_j = a_{−j}$  $\\forall j$, y que usted recibe como *input* el vector $a \\in \\mathbb{R}^n$, donde los coeficientes de *$a$* corresponden a los coeficientes requeridos para construir $T_n$. Implemente un algoritmo que retorne la descomposición matricial $PALU$ de $T_n$ donde el *input* es el vector *a* y el *output* son las matrices $P$, $L$ y $U$ de la descomposición $PALU$ de $T_n$. Note que en este caso, si corresponde, es necesario hacer pivoteo."
   ]
  },
  {
   "cell_type": "markdown",
   "metadata": {},
   "source": [
    "### Desarrollo"
   ]
  },
  {
   "cell_type": "code",
   "execution_count": 32,
   "metadata": {},
   "outputs": [],
   "source": [
    "def paluTn(a):\n",
    "    Tn = toeplitz(a)\n",
    "    P, L, U = spla.lu(Tn)\n",
    "    return P, L, U"
   ]
  },
  {
   "cell_type": "markdown",
   "metadata": {},
   "source": [
    "##### (d) Muestre con ```matplotlib.pyplot.spy``` los patrones obtenidoa de $L$ y $U$, respectivamente, para el input $a = \\langle 1, 1/4, 1/9, \\dots , 1/64, 0, \\dots 0\\rangle \\in \\mathbb{R}^{100}$."
   ]
  },
  {
   "cell_type": "markdown",
   "metadata": {},
   "source": [
    "### Desarrollo"
   ]
  },
  {
   "cell_type": "code",
   "execution_count": 34,
   "metadata": {},
   "outputs": [
    {
     "data": {
      "text/plain": [
       "Text(0.5, 1.05, 'Patron de U')"
      ]
     },
     "execution_count": 34,
     "metadata": {},
     "output_type": "execute_result"
    },
    {
     "data": {
      "image/png": "[encoded data removed]",
      "text/plain": [
       "<Figure size 1080x1080 with 2 Axes>"
      ]
     },
     "metadata": {
      "needs_background": "light"
     },
     "output_type": "display_data"
    }
   ],
   "source": [
    "#Creamos a\n",
    "a = np.zeros(100)\n",
    "for i in range(65):\n",
    "    a[i] = 1/(i+1)\n",
    "P, L, U = paluTn(a)\n",
    "\n",
    "fig, (ax1, ax2) = plt.subplots(1, 2, figsize=(15,15))\n",
    "\n",
    "ax1.spy(L)\n",
    "ax1.set_title('Patron de L')\n",
    "ax2.spy(U)\n",
    "ax2.set_title('Patron de U')"
   ]
  },
  {
   "cell_type": "markdown",
   "metadata": {},
   "source": [
    "##### (e) ¿Siguen las matrices $L$ y $U$ el mismo patron de sparsity que $T_n$?"
   ]
  },
  {
   "cell_type": "markdown",
   "metadata": {},
   "source": [
    "### Desarrollo"
   ]
  },
  {
   "cell_type": "markdown",
   "metadata": {},
   "source": [
    "$L$ y $U$ deberian seguir un patron similar, tal que $L$ tenga el patron de la diagonal inferior y $U$ el de la superior.\n",
    "\n",
    "Podemos corroborar comparando el sparsity de $T_n$ con la suma $L+U$."
   ]
  },
  {
   "cell_type": "code",
   "execution_count": 36,
   "metadata": {},
   "outputs": [
    {
     "data": {
      "text/plain": [
       "Text(0.5, 1.05, 'Patron de L+U')"
      ]
     },
     "execution_count": 36,
     "metadata": {},
     "output_type": "execute_result"
    },
    {
     "data": {
      "image/png": "[encoded data removed]",
      "text/plain": [
       "<Figure size 1080x1080 with 2 Axes>"
      ]
     },
     "metadata": {
      "needs_background": "light"
     },
     "output_type": "display_data"
    }
   ],
   "source": [
    "Tn = toeplitz(a)\n",
    "LU = L+U\n",
    "\n",
    "fig, (ax1, ax2) = plt.subplots(1, 2, figsize=(15,15))\n",
    "\n",
    "ax1.spy(Tn)\n",
    "ax1.set_title('Patron de Tn')\n",
    "ax2.spy(LU)\n",
    "ax2.set_title('Patron de L+U')"
   ]
  }
 ],
 "metadata": {
  "kernelspec": {
   "display_name": "Python 3",
   "language": "python",
   "name": "python3"
  },
  "language_info": {
   "codemirror_mode": {
    "name": "ipython",
    "version": 3
   },
   "file_extension": ".py",
   "mimetype": "text/x-python",
   "name": "python",
   "nbconvert_exporter": "python",
   "pygments_lexer": "ipython3",
   "version": "3.7.6"
  }
 },
 "nbformat": 4,
 "nbformat_minor": 4
}
