{
 "cells": [
  {
   "cell_type": "markdown",
   "metadata": {},
   "source": [
    "### Considere la siguiente la siguiente ecuación de cuarto grado:\n",
    "### \\begin{align}\n",
    "        A x^4 + B x^2 + C = 0, \\label{eq1}\\tag{1} \\\\\n",
    "    \\end{align}\n",
    "### donde $A, B, C \\in \\mathbb{R}, B >> A$ y $B >> C$. Una forma de resolver este tipo de ecuaciones es transformándola en una ecuación de segundo grado, mediante la sustitución $y = x^2$.\n",
    "### Así, el problema (1) se transforma en \n",
    "\n",
    "### \\begin{align}\n",
    "        A y^2 + B y + C = 0. \\label{eq2}\\tag{2} \\\\\n",
    "    \\end{align}\n",
    "### Una vez encontradas las soluciones de (2) mediante las soluciones de la ecuación cuadrática, podemos resolver el problema (1)."
   ]
  },
  {
   "cell_type": "markdown",
   "metadata": {},
   "source": [
    "### (a) Entregue una expresión para calcular las raíces de (2) tal que no haya pérdida de significancia"
   ]
  },
  {
   "cell_type": "markdown",
   "metadata": {},
   "source": [
    "Tenemos que las soluciones del problema (2) se pueden obtener usando la formula general para ecuaciones cuadráticas.\n",
    "\n",
    "\\begin{align}\n",
    "    y_1 &= \\frac{-B - \\sqrt{B^2 -4AC}}{2A}\\\\\n",
    "    y_2 &= \\frac{-B + \\sqrt{B^2 -4AC}}{2A}\n",
    "\\end{align}\n",
    "\n",
    "Como $B >> A$ y $B >> C$, entonces tenemos que el discriminante $\\sqrt{B^2 - 4AC} \\approx \\sqrt{B^2} = B$, luego $y_2 = -B+B = 0$ lo cual tiene perdida de significancia, por lo que procedemos a modificarla convenientemente.\n",
    "\n",
    "\\begin{align}\n",
    "    y_2 &= \\frac{-B + \\sqrt{B^2 -4AC}}{2A} * \\frac{B + \\sqrt{B^2 -4AC}}{B + \\sqrt{B^2 -4AC}}\\\\\n",
    "    y_2 &= \\frac{-B^2 + B^2 -4AC}{2A(B + \\sqrt{B^2 -4AC})}\\\\\n",
    "    y_2 &= \\frac{-4AC}{2A(B + \\sqrt{B^2 -4AC})}\\\\\n",
    "    y_2 &= \\frac{-2C}{B + \\sqrt{B^2 -4AC}}\n",
    "\\end{align}\n",
    "\n",
    "Entonces las soluciones están dadas por:\n",
    "\n",
    "\\begin{align}\n",
    "    y_1 = \\frac{-B - \\sqrt{B^2 -4AC}}{2A} ; y_2 = \\frac{-2C}{B + \\sqrt{B^2 -4AC}}\n",
    "\\end{align}"
   ]
  },
  {
   "cell_type": "markdown",
   "metadata": {},
   "source": [
    "### (b) Proponga un algoritmo que reciba como parámetros los valores de A, B y C y retorne las cuatro raíces de (1) tal que no haya pérdida de significancia. *Hint 1: There is no need for a root-finding algorithm. Hint 2: You need to use your previous answer here*."
   ]
  },
  {
   "cell_type": "markdown",
   "metadata": {},
   "source": [
    "Para encontrar las 4 raíces de (1), podemos aplicar el cambio de variable entregado, luego calcular las raíces encontradas con el procedimiento de uno, lo que nos deja con los siguiente:\n",
    "\n",
    "\\begin{align}\n",
    "    x_a^2 &= y_1 = \\frac{-B - \\sqrt{B^2 -4AC}}{2A}\\\\\n",
    "    x_b^2 &= y_2 = \\frac{-2C}{B + \\sqrt{B^2 -4AC}}\n",
    "\\end{align}\n",
    "\n",
    "Luego resolviendo $x_a$ y $x_b$\n",
    "\n",
    "$$\n",
    "    x_a = \\pm \\sqrt{y_1}; x_b = \\pm \\sqrt{y_2}\n",
    "$$\n",
    "\n",
    "De donde obtenemos las 4 raíces de (1).\n",
    "\n",
    "\\begin{equation}\n",
    "    x_1 = \\sqrt{\\frac{-B - \\sqrt{B^2 -4AC}}{2A}} ; \n",
    "    x_2 = -\\sqrt{\\frac{-B - \\sqrt{B^2 -4AC}}{2A}} ; \n",
    "    x_3 = \\sqrt{\\frac{-2C}{B + \\sqrt{B^2 -4AC}}} ; \n",
    "    x_4 = -\\sqrt{\\frac{-2C}{B + \\sqrt{B^2 -4AC}}}\n",
    "\\end{equation}"
   ]
  },
  {
   "cell_type": "markdown",
   "metadata": {},
   "source": [
    "### (c) Implemente su algoritmo de definido en la pregunta anterior, donde usted indicaba que no había perdida de significancia. Llamémoslo Algoritmo 1. Solo reporte las raíces reales en la implementación."
   ]
  },
  {
   "cell_type": "code",
   "execution_count": 1,
   "metadata": {},
   "outputs": [],
   "source": [
    "#importamos librerias\n",
    "import numpy as np"
   ]
  },
  {
   "cell_type": "code",
   "execution_count": 2,
   "metadata": {},
   "outputs": [],
   "source": [
    "def root_without_loss(a,b,c):\n",
    "    roots = [0,0,0,0] #[x_1, x_2, x_3, x_4]\n",
    "    real_roots = []\n",
    "    roots[0] = (-b-np.sqrt(b**2-4*a*c))/(2*a)\n",
    "    roots[1] = -(-b-np.sqrt(b**2-4*a*c))/(2*a)\n",
    "    roots[2] = (-2*c)/(b+np.sqrt(b**2-4*a*c))\n",
    "    roots[3] = -(-2*c)/(b+np.sqrt(b**2-4*a*c))\n",
    "    for i in range(4):\n",
    "        if roots[i] >= 0:\n",
    "            real_roots.append((\"x_\" + str(i+1), np.sqrt(roots[i])))\n",
    "    return real_roots"
   ]
  },
  {
   "cell_type": "markdown",
   "metadata": {},
   "source": [
    "### (d) Implemente el algoritmo donde usted sospechaba que sí había perdida de significancia. Llamémoslo Algoritmo 2. Solo reporte las raíces reales en la implementación."
   ]
  },
  {
   "cell_type": "markdown",
   "metadata": {},
   "source": [
    "Las soluciones en las que se sospecha que existe perdida de significancia tienen la siguiente forma:\n",
    "\n",
    "\\begin{equation}\n",
    "    x_1 = \\sqrt{\\frac{-B - \\sqrt{B^2 -4AC}}{2A}} ; \n",
    "    x_2 = -\\sqrt{\\frac{-B - \\sqrt{B^2 -4AC}}{2A}} ; \n",
    "    x_3 = \\sqrt{\\frac{-B + \\sqrt{B^2 -4AC}}{2A}} ; \n",
    "    x_4 = \\sqrt{\\frac{-B + \\sqrt{B^2 -4AC}}{2A}}\n",
    "\\end{equation}"
   ]
  },
  {
   "cell_type": "code",
   "execution_count": 3,
   "metadata": {},
   "outputs": [],
   "source": [
    "def root_with_loss(a,b,c):\n",
    "    roots = [0,0,0,0] #[x_1, x_2, x_3, x_4]\n",
    "    real_roots = []\n",
    "    roots[0] = (-b-np.sqrt(b**2-4*a*c))/(2*a)\n",
    "    roots[1] = -(-b-np.sqrt(b**2-4*a*c))/(2*a)\n",
    "    roots[2] = (-b+np.sqrt(b**2-4*a*c))/(2*a)\n",
    "    roots[3] = -(-b+np.sqrt(b**2-4*a*c))/(2*a)\n",
    "    for i in range(4):\n",
    "        if roots[i] >= 0:\n",
    "            real_roots.append((\"x_\" + str(i+1), np.sqrt(roots[i])))\n",
    "    return real_roots"
   ]
  },
  {
   "cell_type": "markdown",
   "metadata": {},
   "source": [
    "### (e) Obtengas las raíces con ambos algoritmos para los siguientes parámetros: $A = 124$, $B = 2e18$ y $C = 1.3$."
   ]
  },
  {
   "cell_type": "code",
   "execution_count": 4,
   "metadata": {},
   "outputs": [
    {
     "name": "stdout",
     "output_type": "stream",
     "text": [
      "Raíces sin perdida:  [('x_2', 127000127.0001905), ('x_4', 8.06225774829855e-10)]\n",
      "Raíces con perdida:  [('x_2', 127000127.0001905), ('x_3', 0.0), ('x_4', -0.0)]\n"
     ]
    }
   ],
   "source": [
    "print(\"Raíces sin perdida: \", root_without_loss(124,2e18,1.3))\n",
    "print(\"Raíces con perdida: \", root_with_loss(124,2e18,1.3))"
   ]
  },
  {
   "cell_type": "markdown",
   "metadata": {},
   "source": [
    "### (e) ¿Efectivamente había perdida de significancia en las raíces obtenidas? Discuta."
   ]
  },
  {
   "cell_type": "markdown",
   "metadata": {},
   "source": [
    "Se logra apreciar que el método sin modificar algebraicamente entrega una solución real menos, esto debido a lo explicado en (a).\n",
    "\n",
    "Observando la forma en que se calcula $x_4$ podemos notar que $B>>4AC$, entonces $B-4AC \\approx B$, lo cual se cancela $-B$, por lo tanto perdemos esa solución debido a la perdida de significancia."
   ]
  }
 ],
 "metadata": {
  "kernelspec": {
   "display_name": "Python 3",
   "language": "python",
   "name": "python3"
  },
  "language_info": {
   "codemirror_mode": {
    "name": "ipython",
    "version": 3
   },
   "file_extension": ".py",
   "mimetype": "text/x-python",
   "name": "python",
   "nbconvert_exporter": "python",
   "pygments_lexer": "ipython3",
   "version": "3.7.6"
  }
 },
 "nbformat": 4,
 "nbformat_minor": 4
}
