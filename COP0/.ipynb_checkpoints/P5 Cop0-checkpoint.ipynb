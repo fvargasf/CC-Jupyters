{
 "cells": [
  {
   "cell_type": "markdown",
   "metadata": {},
   "source": [
    "### Sea p(x) el siguiente polinomio cuadrático en $x$:\n",
    "### $$\n",
    "        p(x) = −\\alpha − \\alpha^2 + (1 − \\alpha^2 − \\alpha^3) x + \\alpha x^2,\n",
    "    $$\n",
    "### donde $\\alpha \\in \\mathbb{R}$. Ahora, sea $A \\in \\mathbb{R}^{nxn}$, considere que en vez de pasarle $x$ a $p(x)$ se le pasa la matriz $A$, entonces obtenemos:\n",
    "### $$\n",
    "        p(A) = (−\\alpha − \\alpha^2) I + (1 − \\alpha^2 − \\alpha^3) A + \\alpha A^2,\n",
    "    $$\n",
    "### donde $I$ es la matriz identidad de $n × n$. Particularmente, si contamos con la descomposición de valores propios de $A$ obtenemos $A = V \\Lambda V^-1 = V diag(\\lambda_1, \\lambda_2, \\cdots , \\lambda_n) V^{−1}$, donde $V$ es la matriz con los vectores propios de $A$ como vectores columna y $\\Lambda$ es la matriz diagonal con los valores propios de A en su diagonal. Utilizando la identidad podemos obtener:\n",
    "### \\begin{align}\n",
    "        p(A) &= p(V diag(\\lambda_1, \\lambda_2, \\cdots , \\lambda_n) V−1)\\\\\n",
    "             &= (−\\alpha − \\alpha^2) I + (1 − \\alpha^2 − \\alpha^3) V \\Lambda V^{−1} + \\alpha (V \\Lambda V−1)2\\\\\n",
    "        & = V diag(p(\\lambda_1), p(\\lambda_2), \\cdots , p(\\lambda_n)) V^{−1}\n",
    "    \\end{align}\n",
    "### es decir, aplicar el polinomio p(x) a la matriz A es equivalente a aplicar el polinomio a cada uno de sus valores propios."
   ]
  },
  {
   "cell_type": "markdown",
   "metadata": {},
   "source": [
    "### (a) Encuentre las raíces de $p(x)$ en función de $\\alpha$.\n"
   ]
  },
  {
   "cell_type": "markdown",
   "metadata": {},
   "source": [
    "Para encontrar las raíces hacemos $p(x) = 0$ y despejamos en función de $\\alpha$.\n",
    "\n",
    "\\begin{align}\n",
    "     p(x) &= −\\alpha − \\alpha^2 + (1 − \\alpha^2 − \\alpha^3) x + \\alpha x^2\\\\\n",
    "     0 &= −\\alpha − \\alpha^2 + (1 − \\alpha^2 − \\alpha^3) x + \\alpha x^2\n",
    "\\end{align}\n",
    "\n",
    "Podemos utilizar al formula general de la ecuación cuadratica, obteniendo:\n",
    "\n",
    "\\begin{align}\n",
    "     x = \\frac{-(1 − \\alpha^2 − \\alpha^3) \\pm \\sqrt{ (1 − \\alpha^2 − \\alpha^3)^2 - 4(−\\alpha − \\alpha^2)\\alpha  }}{2\\alpha}\n",
    "\\end{align}"
   ]
  },
  {
   "cell_type": "markdown",
   "metadata": {},
   "source": [
    "Desarrollando $x$\n",
    "\n",
    "\\begin{align}\n",
    "     x &= \\frac{-(1 − \\alpha^2 − \\alpha^3) \\pm \\sqrt{ (1 − \\alpha^2 − \\alpha^3)^2 - 4(−\\alpha − \\alpha^2)\\alpha  }}{2\\alpha}\\\\\n",
    "     x &= \\frac{-(1 − \\alpha^2 − \\alpha^3) \\pm \\sqrt{ (\\alpha^6+2\\alpha^5+\\alpha^4-2\\alpha^3-2\\alpha^2+1+4\\alpha^2+4\\alpha^3}}{2\\alpha}\\\\\n",
    "     x &= \\frac{-(1 − \\alpha^2 − \\alpha^3) \\pm \\sqrt{ (\\alpha^6+2\\alpha^5+\\alpha^4+2\\alpha^3+2\\alpha^2+1}}{2\\alpha}\\\\\n",
    "     x &= \\frac{-(1 − \\alpha^2 − \\alpha^3) \\pm \\sqrt{ (\\alpha^3+\\alpha^2+1)^2}}{2\\alpha}\\\\\n",
    "     x &= \\frac{-(1 − \\alpha^2 − \\alpha^3) \\pm |\\alpha^3+\\alpha^2+1|}{2\\alpha}\\\\\n",
    "\\end{align}\n",
    "\n",
    "Notamos que surgen 2 casos:\n",
    "\n",
    "\\begin{align}\n",
    "     x_1 &= \\frac{-(1 − \\alpha^2 − \\alpha^3) + (\\alpha^3+\\alpha^2+1)}{2\\alpha}\\\\\n",
    "     x_2 &= \\frac{-(1 − \\alpha^2 − \\alpha^3) - (\\alpha^3+\\alpha^2+1)}{2\\alpha}\\\\\n",
    "\\end{align}\n",
    "\n",
    "Resolvemos $x_1$\n",
    "\\begin{align}\n",
    "     x_1 &= \\frac{-(1 − \\alpha^2 − \\alpha^3) + \\alpha^3+\\alpha^2+1}{2\\alpha}\\\\\n",
    "     x_1 &= \\frac{2\\alpha^2 + 2\\alpha^3}{2\\alpha}\\\\\n",
    "     x_1 &= \\alpha^2 + \\alpha\n",
    "\\end{align}\n",
    "\n",
    "Resolvemos $x_2$\n",
    "\\begin{align}\n",
    "     x_2 &= \\frac{-(1 − \\alpha^2 − \\alpha^3) - (\\alpha^3+\\alpha^2+1)}{2\\alpha}\\\\\n",
    "     x_2 &= \\frac{-1 + \\alpha^2 + \\alpha^3 - \\alpha^3-\\alpha^2-1}{2\\alpha}\\\\\n",
    "     x_2 &= \\frac{-2}{2\\alpha}\\\\\n",
    "     x_2 &= \\frac{-1}{\\alpha}\n",
    "\\end{align}"
   ]
  },
  {
   "cell_type": "markdown",
   "metadata": {},
   "source": [
    "Luego $x_1$ y $x_2$ son las raíces de $p(x)$."
   ]
  },
  {
   "cell_type": "markdown",
   "metadata": {},
   "source": [
    "### (b) Determine las condiciones para que la siguiente ecuación tenga solución $|B(\\hat{\\alpha})| = 0$, donde $B(\\hat{\\alpha}) = p(A)$ y $| \\cdot |$ corresponde al determinante."
   ]
  },
  {
   "cell_type": "markdown",
   "metadata": {},
   "source": [
    "Del enunciado podemos obtener las siguientes igualdades:\n",
    "\n",
    "$$\n",
    "    B(\\hat{\\alpha}) = p(A) = V diag(p(\\lambda_1), p(\\lambda_2), \\cdots , p(\\lambda_n)) V^{−1}\n",
    "$$\n",
    "\n",
    "Ademas de :\n",
    "\n",
    "$$\n",
    "     |B(\\hat{\\alpha})| = |p(A)| = |V diag(p(\\lambda_1), p(\\lambda_2), \\cdots , p(\\lambda_n)) V^{−1}| = 0\n",
    "$$\n",
    "\n",
    "Luego tomando la ultima parte de la ecuación tenemos que:\n",
    "\n",
    "$$\n",
    "    |V diag(p(\\lambda_1), p(\\lambda_2), \\cdots , p(\\lambda_n)) V^{−1}| = 0\n",
    "$$\n",
    "\n",
    "Lo cual sera 0 cuando el resultado de al menos 1 $p(\\lambda_i)=0; 1\\leq i\\leq n$."
   ]
  },
  {
   "cell_type": "markdown",
   "metadata": {},
   "source": [
    "### (c) Implemente un algoritmo que obtenga $\\hat{\\alpha}$ tal que $|B(\\hat{\\alpha})| = 0$. El input del algoritmo debe ser una matriz $A \\in \\mathbb{R}^{nxn}$ de dimensión arbitraria y el output debe ser la correspondiente raíz. La única restricción es que usted no puede utilizar una rutina para obtener los valores y vectores propios."
   ]
  }
 ],
 "metadata": {
  "kernelspec": {
   "display_name": "Python 3",
   "language": "python",
   "name": "python3"
  },
  "language_info": {
   "codemirror_mode": {
    "name": "ipython",
    "version": 3
   },
   "file_extension": ".py",
   "mimetype": "text/x-python",
   "name": "python",
   "nbconvert_exporter": "python",
   "pygments_lexer": "ipython3",
   "version": "3.7.6"
  }
 },
 "nbformat": 4,
 "nbformat_minor": 4
}
