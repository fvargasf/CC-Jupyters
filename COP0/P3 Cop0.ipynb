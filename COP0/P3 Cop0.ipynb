{
 "cells": [
  {
   "cell_type": "markdown",
   "metadata": {},
   "source": [
    "#### Desarrollo pregunta 3 COP0\n",
    "##### Por Francis Vargas"
   ]
  },
  {
   "cell_type": "markdown",
   "metadata": {},
   "source": [
    "### Tony Stark se ha dado cuenta al analizar la data de las gemas del infinito que todas usan una variante de la matriz bi-diagonal An para poder controlar su poder. Sin embargo, para acceder al poder se debe resolver muchos sistemas de ecuaciones lineales de la forma $A_n xi = ui$ donde el sub-índice i denota al i-ésimo vector, respectivamente. La ventaja que tenemos es que conocemos la estructura de la matriz no-singular $A_n$:\n",
    "\n",
    "$$\n",
    "    A_n = \n",
    "    \\left(\n",
    "        \\begin{array}{ccccc}\n",
    "            1      & -2     & 0      & \\cdots & 0     \\\\\n",
    "            0      & 1      & -2     & 0      & \\cdots\\\\\n",
    "            \\vdots & \\ddots & \\ddots & \\ddots & \\vdots\\\\\n",
    "            \\vdots & \\ddots & 0      & 1      & -2    \\\\\n",
    "            0      & \\cdots & \\cdots & 0      & 1\n",
    "        \\end{array}\n",
    "        \\right)\n",
    "        \\in \\mathbb{R}\n",
    "$$"
   ]
  },
  {
   "cell_type": "markdown",
   "metadata": {},
   "source": [
    "### (a) Determine $A_3^{-1}$ convenientemente, donde:\n",
    "\n",
    "$$\n",
    "    A_3 = \n",
    "    \\left(\n",
    "        \\begin{array}{ccc}\n",
    "            1 & -2 & 0\\\\\n",
    "            0 & 1 & -2\\\\\n",
    "            0 & 0 & 1\n",
    "        \\end{array}\n",
    "    \\right)\n",
    "$$\n",
    "\n",
    "*Hint: You may find the letters B.S. useful, we hope.*\n",
    "\n",
    "\n",
    "*Hint2: Solve $A_3 (x1, x2, x3)^T = (b1, b2, b3)^T$ and then write $(x1, x2, x3)^T$ as the product of a matrix B times the vector $(b1, b2, b3)^T$, the matrix B will be $A_3^{-1}$, and of course $T$ is the transpose operator.*"
   ]
  },
  {
   "cell_type": "markdown",
   "metadata": {},
   "source": [
    "Aplicando el Hint\n",
    "\n",
    "\n",
    "Despejamos los valores de $x$ en función de los valores de $b$\n",
    "\\begin{equation}\n",
    "    \\left(\n",
    "        \\begin{array}{ccc} \n",
    "            1 & -2 & 0\\\\\n",
    "            0 & 1 & -2\\\\\n",
    "            0 & 0 & 1\n",
    "        \\end{array}\n",
    "    \\right)\n",
    "    \\left(\n",
    "        \\begin{array}{c} \n",
    "            x_1\\\\ \n",
    "            x_2\\\\\n",
    "            x_3\n",
    "        \\end{array}\n",
    "    \\right)\n",
    "        =\n",
    "    \\left(\n",
    "        \\begin{array}{c} \n",
    "            b_1\\\\ \n",
    "            b_2\\\\\n",
    "            b_3\n",
    "        \\end{array}\n",
    "    \\right)\n",
    "\\end{equation}\n",
    "\n",
    "Tenemos que:\n",
    "\n",
    "\\begin{align}\n",
    "    x_3 &= b_3\\\\\n",
    "    x_2 &= 2b_3+b_2\\\\\n",
    "    x_1 &= b_1 + 4b_3+2b_2\n",
    "\\end{align}\n",
    "\n",
    "Definiremos $B = A_3^{-1}$ talque:\n",
    "\n",
    "$$\n",
    "    B = A_3^{-1} = \n",
    "        \\left(\n",
    "        \\begin{array}{ccc} \n",
    "            a_{11} & a_{12} & a_{13}\\\\\n",
    "            a_{21} & a_{22} & a_{23}\\\\\n",
    "            a_{31} & a_{32} & a_{33}\n",
    "        \\end{array}\n",
    "    \\right)\n",
    "$$"
   ]
  },
  {
   "cell_type": "markdown",
   "metadata": {},
   "source": [
    "Para encontrar la inversa de $A_3$ procedemos a despejar la siguiente ecuación:\n",
    "\\begin{align}\n",
    "    B \\cdot b = x\\\\\n",
    "     \\left(\n",
    "        \\begin{array}{ccc} \n",
    "            a_{11} & a_{12} & a_{13}\\\\\n",
    "            a_{21} & a_{22} & a_{23}\\\\\n",
    "            a_{31} & a_{32} & a_{33}\n",
    "        \\end{array}\n",
    "    \\right)\n",
    "    \\cdot\n",
    "     \\left(\n",
    "        \\begin{array}{c} \n",
    "            b_1\\\\\n",
    "            b_2\\\\\n",
    "            b_3\n",
    "        \\end{array}\n",
    "    \\right)\n",
    "    &=\n",
    "    \\left(\n",
    "        \\begin{array}{c} \n",
    "            b_1 + 2b_2 + 4b_3\\\\ \n",
    "            0b_1 + b_2 + 2b_3\\\\\n",
    "            0b_1 + 0b_2 + b_3\n",
    "        \\end{array}\n",
    "    \\right)\n",
    "\\end{align}"
   ]
  },
  {
   "cell_type": "markdown",
   "metadata": {},
   "source": [
    "De donde obtenemos:\n",
    "\n",
    "\\begin{align}\n",
    "    a_{11}b_1 + a_{12}b_2 + a_{13}b_3 &= b_1 + 2b_2+ 4b_3\\\\\n",
    "    a_{21}b_1 + a_{22}b_2 + a_{23}b_3 &= 0b_1 + b_2 + 2b_3\\\\\n",
    "    a_{31}b_1 + a_{32}b_2 + a_{33}b_3 &= 0b_1 + 0b_2 + b_3\n",
    "\\end{align}\n",
    "\n",
    "De donde obtenemos:\n",
    "\n",
    "\\begin{align}\n",
    "    a_{11} &= 1 &; a_{12} &= 2 &; a_{13} &= 4\\\\\n",
    "    a_{21} &= 0 &; a_{22} &= 1 &; a_{23} &= 2\\\\\n",
    "    a_{31} &= 0 &; a_{32} &= 0 &; a_{33} &= 1\n",
    "\\end{align}\n",
    "\n",
    "Luego\n",
    "\n",
    "$$\n",
    "    B = A_3^{-1} =\n",
    "    \\left(\n",
    "        \\begin{array}{ccc}\n",
    "            1 & 2 & 4\\\\\n",
    "            0 & 1 & 2\\\\\n",
    "            0 & 0 & 1\n",
    "         \\end{array}\n",
    "    \\right)\n",
    "$$\n",
    "\n"
   ]
  },
  {
   "cell_type": "markdown",
   "metadata": {},
   "source": [
    "### (b)Determine $A_n^{-1}$ *convenientemente*.\n",
    "*Hint: Recall that if you want to solve $A x = b$ the solution is $x = A^{-1} b$, i.e. if you know the solution and you can write it as product of certain coefficients and the coefficients of $b$, then you have the inverse!*"
   ]
  },
  {
   "cell_type": "markdown",
   "metadata": {},
   "source": [
    "Para confirmar el patrón que se sigue en la inversa, procederemos a calcular la inversa para $A_4$.\n",
    "\n",
    "$$\n",
    "    A_4 =\n",
    "    \\left(\n",
    "        \\begin{array}{cccc}\n",
    "            1 & -2 & 0 & 0\\\\\n",
    "            0 & 1 & -2 & 0\\\\\n",
    "            0 & 0 & 1 & -2\\\\\n",
    "            0 & 0 & 1 & 1\n",
    "        \\end{array}\n",
    "    \\right)\n",
    "$$"
   ]
  },
  {
   "cell_type": "markdown",
   "metadata": {},
   "source": [
    "Calculamos:\n",
    "\n",
    "\\begin{align}\n",
    "    A_4 x &= b_4\\\\\\\\\n",
    "    \\left(\n",
    "        \\begin{array}{cccc}\n",
    "            1 & -2 & 0 & 0\\\\\n",
    "            0 & 1 & -2 & 0\\\\\n",
    "            0 & 0 & 1 & -2\\\\\n",
    "            0 & 0 & 0 & 1\n",
    "        \\end{array}\n",
    "    \\right)\n",
    "    \\left(\n",
    "        \\begin{array}{c}\n",
    "            x_1\\\\\n",
    "            x_2\\\\\n",
    "            x_3\\\\\n",
    "            x_4\n",
    "        \\end{array}\n",
    "    \\right)\n",
    "    &=\n",
    "    \\left(\n",
    "        \\begin{array}{c}\n",
    "            b_1\\\\\n",
    "            b_2\\\\\n",
    "            b_3\\\\\n",
    "            b_4\n",
    "        \\end{array}\n",
    "    \\right)\n",
    "\\end{align}"
   ]
  },
  {
   "cell_type": "markdown",
   "metadata": {},
   "source": [
    "De donde se obtiene que:\n",
    "\n",
    "\\begin{align}\n",
    "    x_4 &= 0b_1 + 0 b_2 + 0b_3 +  b_4\\\\\n",
    "    x_3 &= 0b_1 + 0 b_2 +  b_3 + 2b_4\\\\\n",
    "    x_2 &= 0b_1 +   b_2 + 2b_3 + 4b_4\\\\\n",
    "    x_1 &=  b_1 + 2 b_2 + 4b_3 + 8b_4\n",
    "\\end{align}\n",
    "\n",
    "Sea $B = A_4^{-1}$, buscaremos resolver $B b = x$\n",
    "\n",
    "\\begin{align}\n",
    "    B b &= x\\\\\\\\\n",
    "    \\left(\n",
    "        \\begin{array}{cccc}\n",
    "            a_{11} & a_{12} & a_{13} & a_{14}\\\\\n",
    "            a_{21} & a_{22} & a_{23} & a_{24}\\\\\n",
    "            a_{31} & a_{32} & a_{33} & a_{34}\\\\\n",
    "            a_{41} & a_{42} & a_{43} & a_{44}\n",
    "         \\end{array}\n",
    "    \\right)\n",
    "    \\left( \n",
    "        \\begin{array}{c}\n",
    "             b_1\\\\\n",
    "             b_2\\\\\n",
    "             b_3\\\\\n",
    "             b_4\n",
    "        \\end{array}\n",
    "    \\right)\n",
    "    &=\n",
    "    \\left( \n",
    "        \\begin{array}{c}\n",
    "             b_1 +  2b_2 + 4b_3 + 8b_4\\\\\n",
    "            0b_1 +   b_2 + 2b_3 + 4b_4\\\\\n",
    "            0b_1 + 0 b_2 +  b_3 + 2b_4\\\\\n",
    "            0b_1 + 0 b_2 + 0b_3 +  b_4\n",
    "        \\end{array}\n",
    "    \\right)\n",
    "\\end{align}"
   ]
  },
  {
   "cell_type": "markdown",
   "metadata": {},
   "source": [
    "Luego se deduce que B es:\n",
    "\n",
    "$$\n",
    "A_4^{-1} = B =\n",
    "\\left(\n",
    "    \\begin{array}{cccc}\n",
    "        1 & 2 & 4 & 8\\\\\n",
    "        0 & 1 & 2 & 4\\\\\n",
    "        0 & 0 & 1 & 2\\\\\n",
    "        0 & 0 & 0 & 1\n",
    "     \\end{array}\n",
    "\\right)\n",
    "$$\n"
   ]
  },
  {
   "cell_type": "markdown",
   "metadata": {},
   "source": [
    "Podemos comprobar que se sigue un patrón, el cual esta dado por:\n",
    "\n",
    "$$\n",
    "   A_n  = \n",
    "   \\Bigg\\{\n",
    "       \\begin{array}{cc}\n",
    "           2^{i-j} & i\\geq j\\\\\n",
    "           0       & i<j\n",
    "       \\end{array}\n",
    "$$\n",
    "Donde i corresponde al indice de las columnas y j al de las filas."
   ]
  },
  {
   "cell_type": "markdown",
   "metadata": {},
   "source": [
    "### (c) Determine $k_\\infty (A_n) = ||A_n||_\\infty ||A_n^{-1}||_\\infty$.\n",
    "\n",
    "Hint: Just in case:\n",
    "\n",
    "$\n",
    "\\sum_{i=0}^na^i= \\frac{a^{n+1} - 1}{a-1}, for a \\in \\mathbb{R}\n",
    "$\n"
   ]
  },
  {
   "cell_type": "markdown",
   "metadata": {},
   "source": [
    "Notamos que $||A_n||_\\infty$ siempre sera 3, ya que todas las filas en absoluto siempre suman este valor.\n",
    "\n",
    "Luego para $||A_n^{-1}||_\\infty$ tenemos que la suma de los elementos de la primera fila siempre sera el máximo y su valor viene dado por:\n",
    "\n",
    "\\begin{align}\n",
    "    ||A_n^{-1}||_\\infty &= 1 + 2 + 4 + 8 + 16 + \\cdots + 2^{n-1}\\\\\n",
    "    ||A_n^{-1}||_\\infty &= 2^0 + 2^1 + 2^2 + 2^3 + 2^4 + \\cdots + 2^{n-1}\\\\\n",
    "    ||A_n^{-1}||_\\infty &= \\frac{2^{(n-1)+1}-1}{2-1}\\\\\n",
    "    ||A_n^{-1}||_\\infty &= 2^n-1\n",
    "\\end{align}\n",
    "\n",
    "Finalmente\n",
    "\n",
    "$$\n",
    "    ||A_n||_\\infty ||A_n^{-1}||_\\infty = 3 \\cdot 2^n-3\n",
    "$$"
   ]
  },
  {
   "cell_type": "markdown",
   "metadata": {},
   "source": [
    "### (d) Implemente computacionalmente $A_n^{-1}$ basado en (b). No puede obtener la inversa numéricamente, debe hacerlo algebraicamente."
   ]
  },
  {
   "cell_type": "code",
   "execution_count": 58,
   "metadata": {},
   "outputs": [],
   "source": [
    "def bi_diagonal(n):\n",
    "    mat = [[0]*n for i in range(n)]\n",
    "    for i in range(n):\n",
    "        mat[i][i] = 1\n",
    "        if i+1 < n:\n",
    "            mat[i][i+1] = -2\n",
    "    return np.array(mat)\n",
    "\n",
    "def bi_diagonal_inv(n):\n",
    "    mat = [[0]*n for i in range(n)]\n",
    "    for j in range(n):\n",
    "        for i in range(n):\n",
    "            if i >= j:\n",
    "                mat[j][i] = 2**(i-j)\n",
    "    return np.array(mat)"
   ]
  },
  {
   "cell_type": "markdown",
   "metadata": {},
   "source": [
    "### (e) Verifique que puede obtener la solución de $A_{100} x = b$, donde $b = np.sin(np.linspace(0, 2∗np.pi, 100))$. Para verificar que se obtuve correctamente $\\hat{x} = A^{−1}_{100} b$, usted debe obtener $||b − A_{100} \\hat{x} ||_2$ y basado en ese resultado concluir."
   ]
  },
  {
   "cell_type": "markdown",
   "metadata": {},
   "source": [
    "Desarrollando $||b − A_{100} \\hat{x} ||_2$ tenemos que:\n",
    "\n",
    "\\begin{align}\n",
    "    ||b − A_{100} \\hat{x} ||_2 &= ||b + -A_{100}A_{100}^{-1}b||_2\\\\\n",
    "    ||b − A_{100} \\hat{x} ||_2 &= ||b + -b||_2\\\\\n",
    "    ||b − A_{100} \\hat{x} ||_2 &= ||b -b||_2\\\\\n",
    "    ||b − A_{100} \\hat{x} ||_2 &= ||0||_2\\\\\n",
    "    ||b − A_{100} \\hat{x} ||_2 &= 0\n",
    "\\end{align}"
   ]
  },
  {
   "cell_type": "code",
   "execution_count": 80,
   "metadata": {},
   "outputs": [
    {
     "data": {
      "text/plain": [
       "5.000874895761948"
      ]
     },
     "execution_count": 80,
     "metadata": {},
     "output_type": "execute_result"
    }
   ],
   "source": [
    "#Definimos A\n",
    "A = bi_diagonal(100)\n",
    "#Definimos b\n",
    "b = np.sin(np.linspace(0,2*np.pi, 100))\n",
    "#Calculamos la inversa de A_{100}\n",
    "A_in = np.array(bi_diagonal_inv(100))\n",
    "#Calculamos x\n",
    "x = A_in@b\n",
    "\n",
    "norm = np.linalg.norm(b-A@x)\n",
    "norm"
   ]
  },
  {
   "cell_type": "markdown",
   "metadata": {},
   "source": [
    "La norma debería ser igual a 0, pero esto no ocurre ya que existe perdida de significancia al operar sobre las matrices, esto ocurre principalmente porque tenemos numeros muy grandes($2^100$) sumandose con otros muy pequeños(1). Teniendo esto en cuenta vemos que el resultado no es el esperado, pero esta cerca de serlo."
   ]
  }
 ],
 "metadata": {
  "kernelspec": {
   "display_name": "Python 3",
   "language": "python",
   "name": "python3"
  },
  "language_info": {
   "codemirror_mode": {
    "name": "ipython",
    "version": 3
   },
   "file_extension": ".py",
   "mimetype": "text/x-python",
   "name": "python",
   "nbconvert_exporter": "python",
   "pygments_lexer": "ipython3",
   "version": "3.7.6"
  }
 },
 "nbformat": 4,
 "nbformat_minor": 4
}
