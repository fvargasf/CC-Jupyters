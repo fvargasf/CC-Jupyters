{
 "cells": [
  {
   "cell_type": "markdown",
   "metadata": {},
   "source": [
    "Considere la siguiente función:\n",
    "$$\n",
    "    f(x) = exp(x) − x^x,\n",
    "$$\n",
    "\n",
    "la cual tiene una raíz en $x = exp(1)$, el número de Euler, o simplemente e. Al evaluar $f(e)$ obtenemos $exp(e) − exp(e) = 0$.\n",
    "Note que usaremos $exp$, $exp(1)$ y e para denotar a la constante de Euler, que es aproximadamente:\n",
    "$$\n",
    "    exp(1) = 2.71828182845904523536028747135266249775724709369995957496696762772407 \\dots\n",
    "$$\n",
    "\n",
    "Claramente podemos notar que $exp(x) \\geq x^2$  para  $x \\in ]0, e]$, y $x^x \\geq exp(x)$ para $x \\in [e, \\infty[$. Ahora, queremos estudiar\n",
    "como se modifica la raíz de $f(x)$ cuando le agregamos una constante $\\delta$, es decir, queremos cuantificar numéricamente que\n",
    "le ocurre a la raíz de la siguiente función:\n",
    "\n",
    "$$\n",
    "    f_\\delta(x) = f(x) + \\delta = exp(x) − x^x + \\delta\n",
    "$$\n",
    "\n",
    "Donde denotamos la raíz de $f_\\delta(x)$ como $r(\\delta)$. En particular conocemos que $r(0) = e$, i.e. la raíz de la función original. En\n",
    "cambio cuando $\\delta$ es distinto a 0, su raíz cambia. Por simplicidad considere que $\\delta > 0$.\n"
   ]
  },
  {
   "cell_type": "markdown",
   "metadata": {},
   "source": [
    "#### 1. Proponga un algoritmo, que tenga convergencia lineal, para obtener la raíz de $f_\\delta(x)$. El input del algoritmo debe ser $\\delta$ y el output la raíz obtenida. Usted debe determinar el número de iteraciones o error para obtener una aproximación razonable. El algoritmo debe tener definido completamente todos los parámetros extras para su ejecución."
   ]
  },
  {
   "cell_type": "markdown",
   "metadata": {},
   "source": [
    "Para poder encontrar raizes de $f_\\delta(x)$ utilizaremos una iteración de punto fijo, del siguiente modo:\n",
    "$$\n",
    "    x_1 = exp(1)\\\\\n",
    "    x_{i} = (exp(x_{i-1})+delta)^{\\frac{1}{x_{i-1}}}\n",
    "$$\n",
    "\n",
    "Se iterara hasta que el error sea menor a $1e-8$ o hasta que se cumplan 500 iteraciones, si es que se quiere estos parámetros pueden ser modificados."
   ]
  },
  {
   "cell_type": "markdown",
   "metadata": {},
   "source": [
    "#### 2. Proponga un algoritmo, que tenga convergencia superior a lineal, para obtener la raíz de $f_\\delta(x)$. El input del algoritmo debe ser $\\delta$ y el output la raíz obtenida. Usted debe determinar el número de iteraciones o error para obtener una aproximación razonable. El algoritmo debe tener definido completamente todos los parámetros extras para su ejecución."
   ]
  },
  {
   "cell_type": "markdown",
   "metadata": {},
   "source": [
    "Para poder encontrar raizes de $f_\\delta(x)$ utilizaremos el método de newton con los siguientes párametros:\n",
    "$$\n",
    "    f(1) = exp(1); initial guess\\\\\n",
    "    f(x) = exp(x) - x^x + \\delta\\\\\n",
    "    f'(x) = exp(x) - x^x(ln(x) + 1)\n",
    "$$\n",
    "\n",
    "Se iterara hasta que el error sea menor a $1e-8$ o hasta que se cumplan 500 iteraciones, si es que se quiere estos parámetros pueden ser modificados."
   ]
  },
  {
   "cell_type": "markdown",
   "metadata": {},
   "source": [
    "#### 3. Implemente alguno de los 2 algoritmos propuestos y ejecútelo para obtener la raíz de $f_{1+j}(x)$, donde $j$ representa el último dígito de su rol."
   ]
  },
  {
   "cell_type": "code",
   "execution_count": 1,
   "metadata": {},
   "outputs": [],
   "source": [
    "import numpy as np\n",
    "import matplotlib.pyplot as plt"
   ]
  },
  {
   "cell_type": "code",
   "execution_count": 45,
   "metadata": {},
   "outputs": [],
   "source": [
    "def fpi(delta, error=1e-8, ite=500):\n",
    "    #f = lambda x: (np.exp(x) + delta)**(1/x)\n",
    "    f = lambda x: 0.5*x+1.5/x\n",
    "    xs = np.zeros(ite)\n",
    "    xs[0] = 1\n",
    "    for i in range(1,ite):\n",
    "        xs[i] = f(xs[i-1])\n",
    "        err = abs(xs[i]-xs[i-1])\n",
    "        if err<error:\n",
    "            xs = xs[0:i]\n",
    "            break\n",
    "    return xs\n",
    "\n",
    "\n",
    "def newton(delta, ite=500, tol=1e-8):\n",
    "    #f = lambda x: np.exp(x)-x**x+delta\n",
    "    #fp = lambda x: np.exp(x)-(x**x)*(np.log(x)+1)\n",
    "    f = lambda x: x**2-2\n",
    "    fp = lambda x: 2*x\n",
    "    x = np.empty(ite + 1)\n",
    "    x[0] = 1\n",
    "    for i in range(ite):\n",
    "        x[i+1] = x[i] - f(x[i]) / fp(x[i])\n",
    "        if np.abs(x[i+1] - x[i]) < tol or f(x[i+1]) == 0:\n",
    "            x = x[:i+2]\n",
    "            break\n",
    "    return x"
   ]
  },
  {
   "cell_type": "code",
   "execution_count": 47,
   "metadata": {},
   "outputs": [
    {
     "data": {
      "text/plain": [
       "(1.7320508100147274,\n",
       " array([1.        , 1.5       , 1.41666667, 1.41421569, 1.41421356,\n",
       "        1.41421356]))"
      ]
     },
     "execution_count": 47,
     "metadata": {},
     "output_type": "execute_result"
    }
   ],
   "source": [
    "fpi(6)[-1], newton(6)"
   ]
  },
  {
   "cell_type": "markdown",
   "metadata": {},
   "source": [
    " #### 4. Grafique la función $r(\\delta)$ para $\\delta \\in [0, 100]$, utilice por lo menos 100 puntos para el plot."
   ]
  },
  {
   "cell_type": "code",
   "execution_count": 42,
   "metadata": {},
   "outputs": [
    {
     "data": {
      "image/png": "[encoded data removed]",
      "text/plain": [
       "<Figure size 864x432 with 1 Axes>"
      ]
     },
     "metadata": {
      "needs_background": "light"
     },
     "output_type": "display_data"
    }
   ],
   "source": [
    "deltas = np.linspace(1,100, 100)\n",
    "rs = np.zeros(100)\n",
    "rs_n = np.zeros(100)\n",
    "for i in range(100):\n",
    "    rs[i] = fpi(deltas[i])[-1]\n",
    "    rs_n[i] = newton(deltas[i])[-1]\n",
    "plt.figure(figsize=(12, 6))\n",
    "plt.plot(deltas, rs_n, 'b-', label=r\"$r(\\delta)$\")\n",
    "plt.plot(deltas, rs, 'r-', label=r\"$r(\\delta)$\")\n",
    "plt.grid(True)\n",
    "plt.legend()\n",
    "plt.show()"
   ]
  },
  {
   "cell_type": "code",
   "execution_count": null,
   "metadata": {},
   "outputs": [],
   "source": []
  }
 ],
 "metadata": {
  "kernelspec": {
   "display_name": "Python 3",
   "language": "python",
   "name": "python3"
  },
  "language_info": {
   "codemirror_mode": {
    "name": "ipython",
    "version": 3
   },
   "file_extension": ".py",
   "mimetype": "text/x-python",
   "name": "python",
   "nbconvert_exporter": "python",
   "pygments_lexer": "ipython3",
   "version": "3.7.6"
  }
 },
 "nbformat": 4,
 "nbformat_minor": 4
}
