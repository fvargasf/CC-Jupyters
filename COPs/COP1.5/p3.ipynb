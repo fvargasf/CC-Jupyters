{
 "cells": [
  {
   "cell_type": "markdown",
   "metadata": {},
   "source": [
    "### Considere la matriz $G \\in \\mathbb{R}^{mxn}$, con $m \\gg n$, de la tarea 2. Ahora, se necesita _resolver_ el siguiente sistema de ecuaciones lineales sobre-determinado por mínimos cuadrados,\n",
    "\n",
    "$$\n",
    "    Gx = b \\in \\mathbb{R}^m,\n",
    "$$\n",
    "\n",
    "### el cual se puede _resolver_ usando $SVD-full$ de $G$ y las escuaciones normales, donde $G = U \\Sigma V^*$, reemplazando obtenemos,\n",
    "\n",
    "\\begin{align}\n",
    "    G^*G\\hat{x} &= G^*b\\\\\n",
    "    (U \\Sigma V^*)^*U \\Sigma V^*\\hat{x} &= G^* b\\\\\n",
    "    (V\\Sigma^TU^*U\\Sigma V^* \\hat{x} &= G^*b\\\\\n",
    "    V\\Sigma^T \\Sigma^T \\Sigma V^*\\hat{x} &= G^*b\\\\\n",
    "    \\Sigma^2 V^* \\hat{x} &= V^*G^*b\\\\\n",
    "    V^*\\hat{x} &= \\Sigma^{-2} V^*G^*b\\\\\n",
    "    \\hat{x} &= V^* \\Sigma^{-2} V^*G^*b\n",
    "\\end{align}\n",
    "\n",
    "### donde $\\Sigma = \\binom{\\hat{\\Sigma}}{0}$ y $*$ es el operador transpuesta conjugada. Sin embargo, no podemos utilizar la SVD, por lo cual se propone resolver directamente el siguiente sistema de ecuaciones lineales cuadrado,\n",
    "\n",
    "$$\n",
    "    G^T G \\hat{x} = G^Tb\n",
    "$$"
   ]
  },
  {
   "cell_type": "markdown",
   "metadata": {},
   "source": [
    "#### (a) Considerando que $G$ es full-rank, demuestre que $G^TG$ es definida positiva."
   ]
  },
  {
   "cell_type": "markdown",
   "metadata": {},
   "source": [
    "### Desarrollo"
   ]
  },
  {
   "cell_type": "markdown",
   "metadata": {},
   "source": [
    "Comenzaremos probando que $G^TG$ no es definida negativa.\n",
    "\n",
    "Sea $x$ un vector cualquiera de dimensión $n$. Tenemos que:\n",
    "\n",
    "$$\n",
    "    x^TG^TGx = (Gx)^T(Gx) = ||Gx||\\ge 0\n",
    "$$\n",
    "\n",
    "Luego $G^TG$ no es definida negativa.\n",
    "\n",
    "Seguiremos probando que todos los valores propios de $G^TG$ son mayores o iguales a 0, para esto definiremos $\\lambda$ como un valor propio de $G^TG$ y $x$ el vector propio correspondiente a $\\lambda$, calculamos:\n",
    "\n",
    "\\begin{align}\n",
    "    x^TG^TGx &= x^T\\lambda x\\\\\n",
    "    x^TG^TGx &= \\lambda x^T x\\\\\n",
    "    x^TG^TGx &= \\lambda ||x||\n",
    "\\end{align}\n",
    "\n",
    "Como probamos que $G^TG$ es no negativa definida, entonces $\\lambda ||x|| \\ge 0$, y como $||x||$ siempre es mayor o igual a 0, podemos concluir que $\\lambda$ también lo es.\n",
    "\n",
    "Nos hace falta probar que no hay valores propios nulos, para esto probaremos que el determinante de $G^TG$ es distinto de 0, ya que:\n",
    "\n",
    "$$\\det(G^TG) = \\prod_{i=1}^{n}\\lambda_i$$\n",
    "\n",
    "Lo cual solo es 0 cuando algún $\\lambda_i = 0$.\n",
    "\n",
    "Como $G$ es full-rank, entonces $rank(G) = rank(G^T) = min(m,n) = n$, además $rank(G^TG) = min(rank(G^T), rank(G)) = min(n, n) = n$.\n",
    "\n",
    "Debido a que $rank(G^TG) = n > 0$, podemos decir que $det(G^TG) \\neq 0$\n",
    "\n",
    "Finalmente, como $G^TG$ es simétrica y todos sus valores propios son mayores que 0, entonces esta es simétrica-definida positiva."
   ]
  },
  {
   "cell_type": "markdown",
   "metadata": {},
   "source": [
    "#### (b)  Determine el número de operaciones elementales requeridos para obtener $G^T b$."
   ]
  },
  {
   "cell_type": "markdown",
   "metadata": {},
   "source": [
    "### Desarrollo"
   ]
  },
  {
   "cell_type": "markdown",
   "metadata": {},
   "source": [
    "#### (c) Determine el número de operaciones elementales requeridos para obtener $G^T G$."
   ]
  },
  {
   "cell_type": "markdown",
   "metadata": {},
   "source": [
    "### Desarrollo"
   ]
  },
  {
   "cell_type": "markdown",
   "metadata": {},
   "source": [
    "#### (d) Implemente un algoritmo que obtenga $\\hat{x}$ de (3) donde el *input* es $G$ y $b$; y el *output* es $\\hat{x}$."
   ]
  },
  {
   "cell_type": "markdown",
   "metadata": {},
   "source": [
    "### Desarrollo"
   ]
  }
 ],
 "metadata": {
  "kernelspec": {
   "display_name": "Python 3",
   "language": "python",
   "name": "python3"
  },
  "language_info": {
   "codemirror_mode": {
    "name": "ipython",
    "version": 3
   },
   "file_extension": ".py",
   "mimetype": "text/x-python",
   "name": "python",
   "nbconvert_exporter": "python",
   "pygments_lexer": "ipython3",
   "version": "3.7.6"
  }
 },
 "nbformat": 4,
 "nbformat_minor": 4
}
