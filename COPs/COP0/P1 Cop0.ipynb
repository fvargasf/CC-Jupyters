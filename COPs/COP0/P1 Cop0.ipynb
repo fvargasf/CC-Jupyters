{
 "cells": [
  {
   "cell_type": "code",
   "execution_count": 1,
   "metadata": {},
   "outputs": [],
   "source": [
    "import numpy as np"
   ]
  },
  {
   "cell_type": "markdown",
   "metadata": {},
   "source": [
    "Se tiene la siguiente función continua y diferenciable en R:\n",
    "\n",
    "$$f(x) = x^3 + 4x^2 − 10$$"
   ]
  },
  {
   "cell_type": "code",
   "execution_count": 2,
   "metadata": {},
   "outputs": [],
   "source": [
    "f = lambda x: x**3 +4*x**2-10"
   ]
  },
  {
   "cell_type": "markdown",
   "metadata": {},
   "source": [
    "Suponga que existe una raíz de f(x) en [1, 2]. Indique cuantas iteraciones requiere el método de la bisección para\n",
    "aproximar la raíz con 10 decimales correctos.\n",
    "\n",
    "El número de iteraciones estara dado por:\n",
    "\n",
    "\\begin{align}\n",
    "    \\frac{2-1}{2^{n+1}} &< 0.5 \\cdot 10^{-10}\\\\\n",
    "    \\frac{1}{2^{n}} &< 10^{-10}\\\\\n",
    "    1 &< 2^n 10^{-10}\\\\\n",
    "    10^{10} &< 2^n\\\\\n",
    "    nlog_2(2) &> 10log_2(10)\\\\\n",
    "    n &> \\frac{10log_2(10)}{log_2(2)}\\\\\n",
    "    n &> 33.2\n",
    "\\end{align}\n",
    "Como no podemos tener iteraciones intermedias,  utilizamos la función techo para calcular la cantidad necesaria de iteraciones.\n",
    "$$\n",
    "    n = 34\n",
    "$$"
   ]
  },
  {
   "cell_type": "markdown",
   "metadata": {},
   "source": [
    "Aplique computacionalmente el método de la bisección en [1, 2] para verificar su respuesta anterior."
   ]
  },
  {
   "cell_type": "code",
   "execution_count": 3,
   "metadata": {},
   "outputs": [
    {
     "data": {
      "text/plain": [
       "(33, 1.3652300134999678)"
      ]
     },
     "execution_count": 3,
     "metadata": {},
     "output_type": "execute_result"
    }
   ],
   "source": [
    "def bisection(f, a, b, tol=0.5*1e-10):\n",
    "    cont = 0\n",
    "    c = 0\n",
    "    while (b-a)/2 > tol:\n",
    "        c = (a+b)/2\n",
    "        if f(a)*f(c)<0: \n",
    "            b = c\n",
    "        elif f(c)*f(b)<0:\n",
    "            a = c\n",
    "        cont += 1\n",
    "    return cont, c\n",
    "\n",
    "bisection(f,1,2)"
   ]
  },
  {
   "cell_type": "markdown",
   "metadata": {},
   "source": [
    "Proponga una iteración de punto fijo que permita encontrar una la raíz de $f(x)$ en [1, 2]. (Restricción: No puede\n",
    "usar Newton para derivar el punto fijo!).\n",
    "\n",
    "\n",
    "Nos interesa un punto fijo, entonces:\n",
    "\n",
    "$$\n",
    "    0 = x^3+4x^2-10\\\\\n",
    "    x_{fp} = f_p(x) = \\sqrt{\\frac{10-x^3}{4}}\n",
    "$$\n",
    "\n",
    "Donce $x_{fp}$ es nuestra propuesta."
   ]
  },
  {
   "cell_type": "code",
   "execution_count": 4,
   "metadata": {},
   "outputs": [],
   "source": [
    "f_p = lambda x: np.sqrt((10-x**3)/4)"
   ]
  },
  {
   "cell_type": "code",
   "execution_count": 21,
   "metadata": {},
   "outputs": [],
   "source": [
    "def FPI(f, x_0, tol):\n",
    "    x_i = f(x_0)\n",
    "    error = np.inf\n",
    "    cont = 0\n",
    "    while error > tol:\n",
    "        x_0 = x_i\n",
    "        x_i = f(x_0)\n",
    "        error = abs(x_i-x_0)\n",
    "        cont += 1\n",
    "    return cont, x_i"
   ]
  },
  {
   "cell_type": "code",
   "execution_count": 23,
   "metadata": {},
   "outputs": [
    {
     "data": {
      "text/plain": [
       "(33, 1.3652300133947888)"
      ]
     },
     "execution_count": 23,
     "metadata": {},
     "output_type": "execute_result"
    }
   ],
   "source": [
    "FPI(f_p, 1.2, 0.5*1e-10)"
   ]
  },
  {
   "cell_type": "markdown",
   "metadata": {},
   "source": [
    "¿Cuál es la tasa de convergencia de la iteración de punto fijo propuesta?\n",
    "\n",
    "\n",
    "La tasa de convergencia sera $f_p'(c)$ donde $c$ corresponde al punto fijo obtenido.\n",
    "\n",
    "Calculamos $f_p'(x)$\n",
    "\n",
    "$$\n",
    "    \\frac{d}{dx}f_p(x) = -\\frac{3x^2}{4\\sqrt{10-x^3}}\n",
    "$$\n",
    "\n",
    "Evaluamos en $c=1.3652300133$\n",
    "\n",
    "\\begin{align}\n",
    "    f_p'(1.3652300133) &= -\\frac{3 \\cdot 1.3652300133^2}{4\\sqrt{10-1.3652300133^3}}\\\\\n",
    "    f_p'(1.3652300133) &= 0.51196125492\n",
    "\\end{align}\n",
    "\n",
    "Luego la tasa de convergencia es $0.51196125492$."
   ]
  }
 ],
 "metadata": {
  "kernelspec": {
   "display_name": "Python 3",
   "language": "python",
   "name": "python3"
  },
  "language_info": {
   "codemirror_mode": {
    "name": "ipython",
    "version": 3
   },
   "file_extension": ".py",
   "mimetype": "text/x-python",
   "name": "python",
   "nbconvert_exporter": "python",
   "pygments_lexer": "ipython3",
   "version": "3.7.6"
  }
 },
 "nbformat": 4,
 "nbformat_minor": 4
}
